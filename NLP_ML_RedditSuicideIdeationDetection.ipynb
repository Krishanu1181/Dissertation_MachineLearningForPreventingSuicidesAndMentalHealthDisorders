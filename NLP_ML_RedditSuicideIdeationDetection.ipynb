{
 "cells": [
  {
   "cell_type": "markdown",
   "id": "d2d00ca8",
   "metadata": {
    "id": "d2d00ca8"
   },
   "source": [
    "### Detecting suicide ideation in online posts from Reddit using Machine Learning classifiers"
   ]
  },
  {
   "cell_type": "code",
   "execution_count": 1,
   "id": "7825ed88",
   "metadata": {
    "colab": {
     "base_uri": "https://localhost:8080/"
    },
    "id": "7825ed88",
    "outputId": "a08814ae-6f58-4972-f994-9250242f40ac"
   },
   "outputs": [
    {
     "name": "stdout",
     "output_type": "stream",
     "text": [
      "\u001b[?25l     \u001b[90m━━━━━━━━━━━━━━━━━━━━━━━━━━━━━━━━━━━━━━━━\u001b[0m \u001b[32m0.0/235.5 kB\u001b[0m \u001b[31m?\u001b[0m eta \u001b[36m-:--:--\u001b[0m\r",
      "\u001b[2K     \u001b[91m━━━━━━━━━━━━━━━━━━━━━━━━━━━━━━━━━━━━━━\u001b[0m\u001b[90m╺\u001b[0m\u001b[90m━\u001b[0m \u001b[32m225.3/235.5 kB\u001b[0m \u001b[31m6.9 MB/s\u001b[0m eta \u001b[36m0:00:01\u001b[0m\r",
      "\u001b[2K     \u001b[90m━━━━━━━━━━━━━━━━━━━━━━━━━━━━━━━━━━━━━━━━\u001b[0m \u001b[32m235.5/235.5 kB\u001b[0m \u001b[31m6.0 MB/s\u001b[0m eta \u001b[36m0:00:00\u001b[0m\n",
      "\u001b[?25h"
     ]
    }
   ],
   "source": [
    "!pip install -qqq unidecode"
   ]
  },
  {
   "cell_type": "code",
   "execution_count": 2,
   "id": "9494ce8a",
   "metadata": {
    "id": "9494ce8a"
   },
   "outputs": [],
   "source": [
    "# This Python 3 environment comes with many helpful analytics libraries installed\n",
    "# It is defined by the kaggle/python Docker image: https://github.com/kaggle/docker-python\n",
    "# For example, here's several helpful packages to load\n",
    "import warnings\n",
    "warnings.filterwarnings('ignore')\n",
    "\n",
    "import numpy as np # linear algebra\n",
    "import pandas as pd # data processing, CSV file I/O (e.g. pd.read_csv)\n",
    "\n",
    "# Visualisation libraries\n",
    "import matplotlib.pyplot as plt\n",
    "import seaborn as sns\n",
    "\n",
    "# Machine Learning Libraries\n",
    "from sklearn.model_selection import train_test_split,GridSearchCV,RandomizedSearchCV\n",
    "from sklearn.feature_extraction.text import TfidfVectorizer\n",
    "from sklearn.feature_selection import SelectKBest,chi2,f_classif\n",
    "from sklearn.linear_model import LogisticRegression\n",
    "from sklearn.ensemble import RandomForestClassifier,VotingClassifier\n",
    "# AdaBoostClassifier,GradientBoostingClassifier,BaggingClassifier\n",
    "from sklearn.metrics import classification_report , confusion_matrix\n",
    "from sklearn.tree import DecisionTreeClassifier\n",
    "from xgboost import XGBClassifier\n",
    "from sklearn.neighbors import KNeighborsClassifier\n",
    "from sklearn.naive_bayes import GaussianNB, MultinomialNB, BernoulliNB\n",
    "from sklearn.preprocessing import LabelEncoder\n",
    "from sklearn.model_selection import train_test_split\n",
    "from sklearn.metrics import confusion_matrix\n",
    "from sklearn.metrics import accuracy_score\n",
    "\n",
    "import pickle\n",
    "import string\n",
    "import re\n",
    "import unidecode\n",
    "\n",
    "# Text Processing libraries\n",
    "import nltk\n",
    "from nltk.stem import PorterStemmer\n",
    "from nltk.corpus import stopwords\n",
    "from nltk.stem import WordNetLemmatizer"
   ]
  },
  {
   "cell_type": "code",
   "execution_count": 3,
   "id": "82f0fe4e",
   "metadata": {
    "colab": {
     "base_uri": "https://localhost:8080/",
     "height": 224
    },
    "id": "82f0fe4e",
    "outputId": "73b7b43b-78fc-4096-e50a-a21fb727505b"
   },
   "outputs": [
    {
     "name": "stdout",
     "output_type": "stream",
     "text": [
      "(232074, 3)\n"
     ]
    },
    {
     "data": {
      "application/vnd.google.colaboratory.intrinsic+json": {
       "summary": "{\n  \"name\": \"df\",\n  \"rows\": 6000,\n  \"fields\": [\n    {\n      \"column\": \"text\",\n      \"properties\": {\n        \"dtype\": \"string\",\n        \"num_unique_values\": 6000,\n        \"samples\": [\n          \"It's over My tests came back positive. I'll see you in the afterlife.\",\n          \"i'm killing myself today.i posted here a few days ago, but i only received a few replies and they didn't help. it is my fault for writing too much, so i will keep this post short. i passed my background check for buying a gun (even though i was just hospitalized a month ago for attempting suicide...) and i'm heading to the store in a few hours to make my purchase. i expect to be dead sometime tonight. sorry if i appear to be attention seeking, but this post is my last cry for help.\\n\\ni would like someone to convince me not to kill myself. i would rather not die, but my mental illness is doing everything it can to make sure i kill myself. i am powerless to it. i have no insurance so my treatment options are few and i spent all my money/credit card balance on supporting my drug addiction. i deserve to die. \\n\\nUPDATE: thanks for all the comments and messages... they did help. i bought the gun, but i ended up postponing my suicide for the night. i have pointed the gun to my head several times now to kill myself but i have felt too guilty to pull the trigger... i will make another update later about what i plan to do from here... i am feeling very overwhelmed at the moment. i need to gather my thoughts some more... \",\n          \"Red bitmojis? I\\u2019m starting to see people change their bitmojis on Snapchat to the red skin color, has anyone else seen this? And does anyone know why? I heard either it was if you\\u2019re a trump supporter or for autism awareness but I don\\u2019t know.\"\n        ],\n        \"semantic_type\": \"\",\n        \"description\": \"\"\n      }\n    },\n    {\n      \"column\": \"class\",\n      \"properties\": {\n        \"dtype\": \"category\",\n        \"num_unique_values\": 2,\n        \"samples\": [\n          \"suicide\",\n          \"non-suicide\"\n        ],\n        \"semantic_type\": \"\",\n        \"description\": \"\"\n      }\n    }\n  ]\n}",
       "type": "dataframe",
       "variable_name": "df"
      },
      "text/html": [
       "\n",
       "  <div id=\"df-5ee69fea-6d0a-448b-90e5-4adbc474b033\" class=\"colab-df-container\">\n",
       "    <div>\n",
       "<style scoped>\n",
       "    .dataframe tbody tr th:only-of-type {\n",
       "        vertical-align: middle;\n",
       "    }\n",
       "\n",
       "    .dataframe tbody tr th {\n",
       "        vertical-align: top;\n",
       "    }\n",
       "\n",
       "    .dataframe thead th {\n",
       "        text-align: right;\n",
       "    }\n",
       "</style>\n",
       "<table border=\"1\" class=\"dataframe\">\n",
       "  <thead>\n",
       "    <tr style=\"text-align: right;\">\n",
       "      <th></th>\n",
       "      <th>text</th>\n",
       "      <th>class</th>\n",
       "    </tr>\n",
       "  </thead>\n",
       "  <tbody>\n",
       "    <tr>\n",
       "      <th>173441</th>\n",
       "      <td>How to beat NO NUT NOVEMBER Alright lads I may...</td>\n",
       "      <td>non-suicide</td>\n",
       "    </tr>\n",
       "    <tr>\n",
       "      <th>45677</th>\n",
       "      <td>Friends today were joking about suicide.I have...</td>\n",
       "      <td>suicide</td>\n",
       "    </tr>\n",
       "    <tr>\n",
       "      <th>129396</th>\n",
       "      <td>I hate myself.Alright, just going to cut to th...</td>\n",
       "      <td>suicide</td>\n",
       "    </tr>\n",
       "    <tr>\n",
       "      <th>85509</th>\n",
       "      <td>If anyone wants to talkSo recently I've joined...</td>\n",
       "      <td>suicide</td>\n",
       "    </tr>\n",
       "    <tr>\n",
       "      <th>228470</th>\n",
       "      <td>Random question for the nonvirgins of the sub ...</td>\n",
       "      <td>non-suicide</td>\n",
       "    </tr>\n",
       "  </tbody>\n",
       "</table>\n",
       "</div>\n",
       "    <div class=\"colab-df-buttons\">\n",
       "\n",
       "  <div class=\"colab-df-container\">\n",
       "    <button class=\"colab-df-convert\" onclick=\"convertToInteractive('df-5ee69fea-6d0a-448b-90e5-4adbc474b033')\"\n",
       "            title=\"Convert this dataframe to an interactive table.\"\n",
       "            style=\"display:none;\">\n",
       "\n",
       "  <svg xmlns=\"http://www.w3.org/2000/svg\" height=\"24px\" viewBox=\"0 -960 960 960\">\n",
       "    <path d=\"M120-120v-720h720v720H120Zm60-500h600v-160H180v160Zm220 220h160v-160H400v160Zm0 220h160v-160H400v160ZM180-400h160v-160H180v160Zm440 0h160v-160H620v160ZM180-180h160v-160H180v160Zm440 0h160v-160H620v160Z\"/>\n",
       "  </svg>\n",
       "    </button>\n",
       "\n",
       "  <style>\n",
       "    .colab-df-container {\n",
       "      display:flex;\n",
       "      gap: 12px;\n",
       "    }\n",
       "\n",
       "    .colab-df-convert {\n",
       "      background-color: #E8F0FE;\n",
       "      border: none;\n",
       "      border-radius: 50%;\n",
       "      cursor: pointer;\n",
       "      display: none;\n",
       "      fill: #1967D2;\n",
       "      height: 32px;\n",
       "      padding: 0 0 0 0;\n",
       "      width: 32px;\n",
       "    }\n",
       "\n",
       "    .colab-df-convert:hover {\n",
       "      background-color: #E2EBFA;\n",
       "      box-shadow: 0px 1px 2px rgba(60, 64, 67, 0.3), 0px 1px 3px 1px rgba(60, 64, 67, 0.15);\n",
       "      fill: #174EA6;\n",
       "    }\n",
       "\n",
       "    .colab-df-buttons div {\n",
       "      margin-bottom: 4px;\n",
       "    }\n",
       "\n",
       "    [theme=dark] .colab-df-convert {\n",
       "      background-color: #3B4455;\n",
       "      fill: #D2E3FC;\n",
       "    }\n",
       "\n",
       "    [theme=dark] .colab-df-convert:hover {\n",
       "      background-color: #434B5C;\n",
       "      box-shadow: 0px 1px 3px 1px rgba(0, 0, 0, 0.15);\n",
       "      filter: drop-shadow(0px 1px 2px rgba(0, 0, 0, 0.3));\n",
       "      fill: #FFFFFF;\n",
       "    }\n",
       "  </style>\n",
       "\n",
       "    <script>\n",
       "      const buttonEl =\n",
       "        document.querySelector('#df-5ee69fea-6d0a-448b-90e5-4adbc474b033 button.colab-df-convert');\n",
       "      buttonEl.style.display =\n",
       "        google.colab.kernel.accessAllowed ? 'block' : 'none';\n",
       "\n",
       "      async function convertToInteractive(key) {\n",
       "        const element = document.querySelector('#df-5ee69fea-6d0a-448b-90e5-4adbc474b033');\n",
       "        const dataTable =\n",
       "          await google.colab.kernel.invokeFunction('convertToInteractive',\n",
       "                                                    [key], {});\n",
       "        if (!dataTable) return;\n",
       "\n",
       "        const docLinkHtml = 'Like what you see? Visit the ' +\n",
       "          '<a target=\"_blank\" href=https://colab.research.google.com/notebooks/data_table.ipynb>data table notebook</a>'\n",
       "          + ' to learn more about interactive tables.';\n",
       "        element.innerHTML = '';\n",
       "        dataTable['output_type'] = 'display_data';\n",
       "        await google.colab.output.renderOutput(dataTable, element);\n",
       "        const docLink = document.createElement('div');\n",
       "        docLink.innerHTML = docLinkHtml;\n",
       "        element.appendChild(docLink);\n",
       "      }\n",
       "    </script>\n",
       "  </div>\n",
       "\n",
       "\n",
       "<div id=\"df-2d5831fb-9385-4ccb-98b5-0e160632f4cd\">\n",
       "  <button class=\"colab-df-quickchart\" onclick=\"quickchart('df-2d5831fb-9385-4ccb-98b5-0e160632f4cd')\"\n",
       "            title=\"Suggest charts\"\n",
       "            style=\"display:none;\">\n",
       "\n",
       "<svg xmlns=\"http://www.w3.org/2000/svg\" height=\"24px\"viewBox=\"0 0 24 24\"\n",
       "     width=\"24px\">\n",
       "    <g>\n",
       "        <path d=\"M19 3H5c-1.1 0-2 .9-2 2v14c0 1.1.9 2 2 2h14c1.1 0 2-.9 2-2V5c0-1.1-.9-2-2-2zM9 17H7v-7h2v7zm4 0h-2V7h2v10zm4 0h-2v-4h2v4z\"/>\n",
       "    </g>\n",
       "</svg>\n",
       "  </button>\n",
       "\n",
       "<style>\n",
       "  .colab-df-quickchart {\n",
       "      --bg-color: #E8F0FE;\n",
       "      --fill-color: #1967D2;\n",
       "      --hover-bg-color: #E2EBFA;\n",
       "      --hover-fill-color: #174EA6;\n",
       "      --disabled-fill-color: #AAA;\n",
       "      --disabled-bg-color: #DDD;\n",
       "  }\n",
       "\n",
       "  [theme=dark] .colab-df-quickchart {\n",
       "      --bg-color: #3B4455;\n",
       "      --fill-color: #D2E3FC;\n",
       "      --hover-bg-color: #434B5C;\n",
       "      --hover-fill-color: #FFFFFF;\n",
       "      --disabled-bg-color: #3B4455;\n",
       "      --disabled-fill-color: #666;\n",
       "  }\n",
       "\n",
       "  .colab-df-quickchart {\n",
       "    background-color: var(--bg-color);\n",
       "    border: none;\n",
       "    border-radius: 50%;\n",
       "    cursor: pointer;\n",
       "    display: none;\n",
       "    fill: var(--fill-color);\n",
       "    height: 32px;\n",
       "    padding: 0;\n",
       "    width: 32px;\n",
       "  }\n",
       "\n",
       "  .colab-df-quickchart:hover {\n",
       "    background-color: var(--hover-bg-color);\n",
       "    box-shadow: 0 1px 2px rgba(60, 64, 67, 0.3), 0 1px 3px 1px rgba(60, 64, 67, 0.15);\n",
       "    fill: var(--button-hover-fill-color);\n",
       "  }\n",
       "\n",
       "  .colab-df-quickchart-complete:disabled,\n",
       "  .colab-df-quickchart-complete:disabled:hover {\n",
       "    background-color: var(--disabled-bg-color);\n",
       "    fill: var(--disabled-fill-color);\n",
       "    box-shadow: none;\n",
       "  }\n",
       "\n",
       "  .colab-df-spinner {\n",
       "    border: 2px solid var(--fill-color);\n",
       "    border-color: transparent;\n",
       "    border-bottom-color: var(--fill-color);\n",
       "    animation:\n",
       "      spin 1s steps(1) infinite;\n",
       "  }\n",
       "\n",
       "  @keyframes spin {\n",
       "    0% {\n",
       "      border-color: transparent;\n",
       "      border-bottom-color: var(--fill-color);\n",
       "      border-left-color: var(--fill-color);\n",
       "    }\n",
       "    20% {\n",
       "      border-color: transparent;\n",
       "      border-left-color: var(--fill-color);\n",
       "      border-top-color: var(--fill-color);\n",
       "    }\n",
       "    30% {\n",
       "      border-color: transparent;\n",
       "      border-left-color: var(--fill-color);\n",
       "      border-top-color: var(--fill-color);\n",
       "      border-right-color: var(--fill-color);\n",
       "    }\n",
       "    40% {\n",
       "      border-color: transparent;\n",
       "      border-right-color: var(--fill-color);\n",
       "      border-top-color: var(--fill-color);\n",
       "    }\n",
       "    60% {\n",
       "      border-color: transparent;\n",
       "      border-right-color: var(--fill-color);\n",
       "    }\n",
       "    80% {\n",
       "      border-color: transparent;\n",
       "      border-right-color: var(--fill-color);\n",
       "      border-bottom-color: var(--fill-color);\n",
       "    }\n",
       "    90% {\n",
       "      border-color: transparent;\n",
       "      border-bottom-color: var(--fill-color);\n",
       "    }\n",
       "  }\n",
       "</style>\n",
       "\n",
       "  <script>\n",
       "    async function quickchart(key) {\n",
       "      const quickchartButtonEl =\n",
       "        document.querySelector('#' + key + ' button');\n",
       "      quickchartButtonEl.disabled = true;  // To prevent multiple clicks.\n",
       "      quickchartButtonEl.classList.add('colab-df-spinner');\n",
       "      try {\n",
       "        const charts = await google.colab.kernel.invokeFunction(\n",
       "            'suggestCharts', [key], {});\n",
       "      } catch (error) {\n",
       "        console.error('Error during call to suggestCharts:', error);\n",
       "      }\n",
       "      quickchartButtonEl.classList.remove('colab-df-spinner');\n",
       "      quickchartButtonEl.classList.add('colab-df-quickchart-complete');\n",
       "    }\n",
       "    (() => {\n",
       "      let quickchartButtonEl =\n",
       "        document.querySelector('#df-2d5831fb-9385-4ccb-98b5-0e160632f4cd button');\n",
       "      quickchartButtonEl.style.display =\n",
       "        google.colab.kernel.accessAllowed ? 'block' : 'none';\n",
       "    })();\n",
       "  </script>\n",
       "</div>\n",
       "    </div>\n",
       "  </div>\n"
      ],
      "text/plain": [
       "                                                     text        class\n",
       "173441  How to beat NO NUT NOVEMBER Alright lads I may...  non-suicide\n",
       "45677   Friends today were joking about suicide.I have...      suicide\n",
       "129396  I hate myself.Alright, just going to cut to th...      suicide\n",
       "85509   If anyone wants to talkSo recently I've joined...      suicide\n",
       "228470  Random question for the nonvirgins of the sub ...  non-suicide"
      ]
     },
     "execution_count": 3,
     "metadata": {},
     "output_type": "execute_result"
    }
   ],
   "source": [
    "df = pd.read_csv('Suicide_Detection.csv',encoding='utf-8',engine='python')\n",
    "\n",
    "print(df.shape)\n",
    "\n",
    "df = df.sample(6000, random_state=47)\n",
    "df.drop('Unnamed: 0', axis=1,inplace=True)\n",
    "df.head()"
   ]
  },
  {
   "cell_type": "code",
   "execution_count": 4,
   "id": "0d382a29",
   "metadata": {
    "id": "0d382a29"
   },
   "outputs": [],
   "source": [
    "df.reset_index(inplace=True,drop=True)"
   ]
  },
  {
   "cell_type": "code",
   "execution_count": 5,
   "id": "a562766a",
   "metadata": {
    "colab": {
     "base_uri": "https://localhost:8080/"
    },
    "id": "a562766a",
    "outputId": "25e3dbb4-fd68-4bec-b330-f1fa40603f10"
   },
   "outputs": [
    {
     "data": {
      "text/plain": [
       "Index([], dtype='int64')"
      ]
     },
     "execution_count": 5,
     "metadata": {},
     "output_type": "execute_result"
    }
   ],
   "source": [
    "df[df['text'].isnull()].index"
   ]
  },
  {
   "cell_type": "code",
   "execution_count": 6,
   "id": "3935a5e6",
   "metadata": {
    "id": "3935a5e6"
   },
   "outputs": [],
   "source": [
    "df.to_csv('suicide_detection_modified.csv')"
   ]
  },
  {
   "cell_type": "code",
   "execution_count": 7,
   "id": "44b42121",
   "metadata": {
    "id": "44b42121"
   },
   "outputs": [],
   "source": [
    "def rem_whitespace(text):\n",
    "    text = text.strip()\n",
    "    return \" \".join(text.split())\n",
    "\n",
    "def rem_url(text):\n",
    "    return re.sub(r'http\\S+', '', text)\n",
    "\n",
    "def rem_email(text):\n",
    "    return re.sub(r'\\S+@\\S+', '', text)\n",
    "\n",
    "def rem_symbols_digits(text):\n",
    "    return re.sub('[^a-zA-Z\\s]', ' ', text)\n",
    "\n",
    "def rem_emoji(text):\n",
    "    emoji_pattern = re.compile(\"[\"\n",
    "        u\"\\U0001F600-\\U0001F64F\"  # emoticons\n",
    "        u\"\\U0001F300-\\U0001F5FF\"  # symbols & pictographs\n",
    "        u\"\\U0001F680-\\U0001F6FF\"  # transport & map symbols\n",
    "        u\"\\U0001F1E0-\\U0001F1FF\"  # flags (iOS)\n",
    "                           \"]+\", flags=re.UNICODE)\n",
    "    return emoji_pattern.sub(r'', text)\n",
    "\n",
    "def rem_special(text):\n",
    "    return text.replace(\"\\r\", \" \").replace(\"\\n\", \" \").replace(\"    \", \" \").replace('\"', '')\n",
    "\n",
    "def rem_accented_chars(text):\n",
    "    text = unidecode.unidecode(text)\n",
    "    return text\n",
    "\n",
    "def fix_lengthening(text):\n",
    "     return re.sub(r\"(.)\\1{2,}\",r'\\1',text)\n"
   ]
  },
  {
   "cell_type": "code",
   "execution_count": 8,
   "id": "d500db7b",
   "metadata": {
    "colab": {
     "base_uri": "https://localhost:8080/"
    },
    "id": "d500db7b",
    "outputId": "53731dcc-df86-46b6-aace-7c89039b16bf"
   },
   "outputs": [
    {
     "name": "stderr",
     "output_type": "stream",
     "text": [
      "[nltk_data] Downloading package punkt to /root/nltk_data...\n",
      "[nltk_data]   Unzipping tokenizers/punkt.zip.\n"
     ]
    },
    {
     "data": {
      "text/plain": [
       "True"
      ]
     },
     "execution_count": 8,
     "metadata": {},
     "output_type": "execute_result"
    }
   ],
   "source": [
    "from nltk import word_tokenize, sent_tokenize\n",
    "nltk.download('punkt')"
   ]
  },
  {
   "cell_type": "code",
   "execution_count": 9,
   "id": "9926f7d9",
   "metadata": {
    "id": "9926f7d9"
   },
   "outputs": [],
   "source": [
    "# text = 'spree'\n",
    "# txt = re.sub(r\"(\\w)\\1{2,}\", r'\\1',text)\n",
    "\n",
    "# txt"
   ]
  },
  {
   "cell_type": "code",
   "execution_count": 10,
   "id": "bf47b15e",
   "metadata": {
    "id": "bf47b15e"
   },
   "outputs": [],
   "source": [
    "# text = 'spree'\n",
    "# txt = re.search(r\"(\\w)\\1{1,}\", text).group(1)\n",
    "\n",
    "# txt"
   ]
  },
  {
   "cell_type": "code",
   "execution_count": 11,
   "id": "fbd14949",
   "metadata": {
    "id": "fbd14949"
   },
   "outputs": [],
   "source": [
    "# text = 'thheeee'\n",
    "# txt = re.search(r\"(.)\\1{1}\", text)\n",
    "\n",
    "# txt"
   ]
  },
  {
   "cell_type": "code",
   "execution_count": 12,
   "id": "a5655ab2",
   "metadata": {
    "id": "a5655ab2"
   },
   "outputs": [],
   "source": [
    "# text = 'theee'\n",
    "# re.sub(r\"(.)\\1{2,}\", r'\\1\\1',text)"
   ]
  },
  {
   "cell_type": "code",
   "execution_count": 13,
   "id": "956ece6c",
   "metadata": {
    "id": "956ece6c"
   },
   "outputs": [],
   "source": [
    "# txt = re.search(r\"(.){1,}\", text).group(1)\n",
    "\n",
    "# txt"
   ]
  },
  {
   "cell_type": "code",
   "execution_count": 14,
   "id": "20728012",
   "metadata": {
    "id": "20728012"
   },
   "outputs": [],
   "source": [
    "# df['text'][30]"
   ]
  },
  {
   "cell_type": "code",
   "execution_count": 15,
   "id": "a71d0d59",
   "metadata": {
    "id": "a71d0d59"
   },
   "outputs": [],
   "source": [
    "# df['text'] = df['text'].apply(lambda x: rem_symbols_digits(x))"
   ]
  },
  {
   "cell_type": "code",
   "execution_count": 16,
   "id": "2ba01276",
   "metadata": {
    "id": "2ba01276"
   },
   "outputs": [],
   "source": [
    "# df['text'] =df['text'].apply(lambda t : rem_emoji(t))"
   ]
  },
  {
   "cell_type": "code",
   "execution_count": 17,
   "id": "4c49c416",
   "metadata": {
    "id": "4c49c416"
   },
   "outputs": [],
   "source": [
    "# df['text'][30]\n"
   ]
  },
  {
   "cell_type": "code",
   "execution_count": 18,
   "id": "33c8b14c",
   "metadata": {
    "id": "33c8b14c"
   },
   "outputs": [],
   "source": [
    "df['text'] =  df['text'].str.lower()"
   ]
  },
  {
   "cell_type": "code",
   "execution_count": 19,
   "id": "0c1e1fa6",
   "metadata": {
    "colab": {
     "base_uri": "https://localhost:8080/",
     "height": 140
    },
    "id": "0c1e1fa6",
    "outputId": "4f00080b-b140-44a1-ed91-5cfd10aea133"
   },
   "outputs": [
    {
     "data": {
      "application/vnd.google.colaboratory.intrinsic+json": {
       "type": "string"
      },
      "text/plain": [
       "\"katy perry gush :) ***hey guys, gals, and non binary pals :)***\\n\\nso i'm bored and listening to music and i've recently started listening to some old katy perry songs that came out back when i was little. anddddd i have quite a lot to say about them. :) nobody probably cares tho lol. but basically, i'm just gonna be gushing about her songs and lyrics cuz why not? if you're not interested, you can keep scrolling and ignore this lol. i'm open to having a discussion or gush afterwards in the comments if you end up reading my post. either way, hope you all have a great rest of your day/night! :)\\n\\nso to begin: i absolutely love how the majority of her songs are about empowering women and just so motivational. i feel like i've always been strong or known my worth, so i was able to relate to her songs. and then other songs are just really fun! no big message or anything, just for fun! now let us beginnn\\n\\n**part of me:** basically about how she's leaving her cheating bf according to the music video and talking about how life and people can be really crappy at times, but you shouldn't let them get the best of you. those people are miserable and sad which is why they try to make you sad and miserable. i personally can relate cuz i've been hurt... quite a few times throughout life by many people and honestly find it really hard to trust people now. but no matter how badly they've hurt me, i always, *always* bounce back because i know my worth and know that no matter how much they try to cut me down, they can't. nothing they can say can make me forget myself and my own worth, and i know that truly happy and good people don't try to cut others done or make them feel bad about themselves. whoever does anything like that is not truly happy with themselves or their lives. i mean, c'mon. do you really think someone who is perfectly healthy, happy, and good will try to make others miserable? **no.** i also know that if nobody else is there for me, i know i have my family to support me and motivate me. due to these reasons, i absolutely love this song :)\\n\\n**hot n cold:** this one is another motivational song! i loved this song ever since i was little as well because of the empowering message in it. in the music video, katy is getting married to someone but he gets cold feet. the song is about a toxic relationship, how one person doesn't want the person, but doesn't want the person to want someone else either, or is constantly changing their minds. the relationship started out great but started deteriorating. another thing i really liked was the lyrics that go like 'i should know that you're no good for me' and 'i should know that you're not gonna change'. i liked those because i feel it shows how in toxic relationship, people hardly ever change so it's honestly pointless to stay in those relationships. i know it's easier said than done to leave those relationships, so i'm not shaming anyone for staying in those cuz i know many people try to leave but can't. as i mentioned before, i've always known my worth so this song was motivating for me because when i date in the future, i know that i won't take anybody's crap. i know my worth and know that i deserve to be treated with respect, and i'll treat my s.o with respect, and the minute someone treats me badly or thinks that they can walk all over me, i'm out without a backwards glance. why should i waste my time on someone who doesn't respect me? there are plenty of people out there who will respect me, so i'm not gonna stay hung up on someone who doesn't. k *that* turned into a rant lol, sorry. basically, i found it really motivating and loved the lyrics :)\\n\\n**last friday night (tgif):** i looove this song lol. it's not motivational or anything, it's one of those 'just-for-fun' songs and i sing and dance along every single time. also, her voice sounds amazing in this song lol. i love dancing and the concept of parties, which i unfortunately haven't spent a lot of time at in my short 15 years of life :/ tho i do plan on attending many, many parties as i grow older haha. anyways, the song is just really fun and while the music video is quite crazy lol, i love it regardless and i can't wait till i'm older to have fun and be more independent as i have pretty strict parents who don't let me do a lot of things. that's another reason why i love the song: it gives me hope and makes me excited about the years to come once i get into college and am more independent. to sum that all up, loveee it lol\\n\\n**california gurls:** ok, so this song doesn't have any meaning behind it really either, but i just always loved it ever since i was little... before i understood that the entire song was basically about sex and was full of sexual references o.o i just loved it because i'm from the state the song is about so i felt very proud and famous when i was little cuz the song was about where i lived lol. besides that, i just like the beat and think it's a fun song! :)\\n\\nk those are all the songs haha. like i said, i was bored and felt like writing about the songs cuz why not? and also, my family is most likely tired of hearing this gush lol so i'm turning to internet strangers :) \\n\\nk, that is all byee 😁✌🏼\""
      ]
     },
     "execution_count": 19,
     "metadata": {},
     "output_type": "execute_result"
    }
   ],
   "source": [
    "# Looking at a sample tweet\n",
    "df['text'][30]"
   ]
  },
  {
   "cell_type": "code",
   "execution_count": 20,
   "id": "e4fa6681",
   "metadata": {
    "id": "e4fa6681"
   },
   "outputs": [],
   "source": [
    "df['text']   = df['text'].apply(lambda t : rem_emoji(t))\n",
    "df['text']   = df['text'].apply(lambda t : rem_symbols_digits(t))\n",
    "df['text']   = df['text'].apply(lambda t : rem_url(t))\n",
    "df['text']   = df['text'].apply(lambda t : rem_email(t))\n",
    "df['text']   = df['text'].apply(lambda t : rem_special(t))\n",
    "df['text']   = df['text'].apply(lambda t : rem_accented_chars(t))\n",
    "df['text']   = df['text'].apply(lambda t : fix_lengthening(t))\n",
    "df['text']   = df['text'].apply(lambda t : rem_whitespace(t))"
   ]
  },
  {
   "cell_type": "code",
   "execution_count": 21,
   "id": "9e8b76f1",
   "metadata": {
    "colab": {
     "base_uri": "https://localhost:8080/",
     "height": 140
    },
    "id": "9e8b76f1",
    "outputId": "da68039e-feb3-4098-b6db-b2dbf1ef8025"
   },
   "outputs": [
    {
     "data": {
      "application/vnd.google.colaboratory.intrinsic+json": {
       "type": "string"
      },
      "text/plain": [
       "'katy perry gush hey guys gals and non binary pals so i m bored and listening to music and i ve recently started listening to some old katy perry songs that came out back when i was little and i have quite a lot to say about them nobody probably cares tho lol but basically i m just gonna be gushing about her songs and lyrics cuz why not if you re not interested you can keep scrolling and ignore this lol i m open to having a discussion or gush afterwards in the comments if you end up reading my post either way hope you all have a great rest of your day night so to begin i absolutely love how the majority of her songs are about empowering women and just so motivational i feel like i ve always been strong or known my worth so i was able to relate to her songs and then other songs are just really fun no big message or anything just for fun now let us begin part of me basically about how she s leaving her cheating bf according to the music video and talking about how life and people can be really crappy at times but you shouldn t let them get the best of you those people are miserable and sad which is why they try to make you sad and miserable i personally can relate cuz i ve been hurt quite a few times throughout life by many people and honestly find it really hard to trust people now but no matter how badly they ve hurt me i always always bounce back because i know my worth and know that no matter how much they try to cut me down they can t nothing they can say can make me forget myself and my own worth and i know that truly happy and good people don t try to cut others done or make them feel bad about themselves whoever does anything like that is not truly happy with themselves or their lives i mean c mon do you really think someone who is perfectly healthy happy and good will try to make others miserable no i also know that if nobody else is there for me i know i have my family to support me and motivate me due to these reasons i absolutely love this song hot n cold this one is another motivational song i loved this song ever since i was little as well because of the empowering message in it in the music video katy is getting married to someone but he gets cold feet the song is about a toxic relationship how one person doesn t want the person but doesn t want the person to want someone else either or is constantly changing their minds the relationship started out great but started deteriorating another thing i really liked was the lyrics that go like i should know that you re no good for me and i should know that you re not gonna change i liked those because i feel it shows how in toxic relationship people hardly ever change so it s honestly pointless to stay in those relationships i know it s easier said than done to leave those relationships so i m not shaming anyone for staying in those cuz i know many people try to leave but can t as i mentioned before i ve always known my worth so this song was motivating for me because when i date in the future i know that i won t take anybody s crap i know my worth and know that i deserve to be treated with respect and i ll treat my s o with respect and the minute someone treats me badly or thinks that they can walk all over me i m out without a backwards glance why should i waste my time on someone who doesn t respect me there are plenty of people out there who will respect me so i m not gonna stay hung up on someone who doesn t k that turned into a rant lol sorry basically i found it really motivating and loved the lyrics last friday night tgif i love this song lol it s not motivational or anything it s one of those just for fun songs and i sing and dance along every single time also her voice sounds amazing in this song lol i love dancing and the concept of parties which i unfortunately haven t spent a lot of time at in my short years of life tho i do plan on attending many many parties as i grow older haha anyways the song is just really fun and while the music video is quite crazy lol i love it regardless and i can t wait till i m older to have fun and be more independent as i have pretty strict parents who don t let me do a lot of things that s another reason why i love the song it gives me hope and makes me excited about the years to come once i get into college and am more independent to sum that all up love it lol california gurls ok so this song doesn t have any meaning behind it really either but i just always loved it ever since i was little before i understood that the entire song was basically about sex and was full of sexual references o o i just loved it because i m from the state the song is about so i felt very proud and famous when i was little cuz the song was about where i lived lol besides that i just like the beat and think it s a fun song k those are all the songs haha like i said i was bored and felt like writing about the songs cuz why not and also my family is most likely tired of hearing this gush lol so i m turning to internet strangers k that is all byee'"
      ]
     },
     "execution_count": 21,
     "metadata": {},
     "output_type": "execute_result"
    }
   ],
   "source": [
    "df['text'][30]"
   ]
  },
  {
   "cell_type": "code",
   "execution_count": 22,
   "id": "104e3d58",
   "metadata": {
    "colab": {
     "base_uri": "https://localhost:8080/"
    },
    "id": "104e3d58",
    "outputId": "188334f2-7157-4541-9d82-d2f80a6d2aaa"
   },
   "outputs": [
    {
     "name": "stderr",
     "output_type": "stream",
     "text": [
      "[nltk_data] Downloading package stopwords to /root/nltk_data...\n",
      "[nltk_data]   Unzipping corpora/stopwords.zip.\n"
     ]
    },
    {
     "data": {
      "text/plain": [
       "True"
      ]
     },
     "execution_count": 22,
     "metadata": {},
     "output_type": "execute_result"
    }
   ],
   "source": [
    "nltk.download('stopwords')"
   ]
  },
  {
   "cell_type": "code",
   "execution_count": 23,
   "id": "7f5c606d",
   "metadata": {
    "id": "7f5c606d"
   },
   "outputs": [],
   "source": [
    "from nltk.corpus import stopwords\n",
    "stop_words = stopwords.words('english')\n",
    "df['text'] = df['text'].apply(lambda x: ' '.join([word for word in x.split() if word not in (stop_words)]))"
   ]
  },
  {
   "cell_type": "code",
   "execution_count": 24,
   "id": "6ba76319",
   "metadata": {
    "id": "6ba76319"
   },
   "outputs": [],
   "source": [
    "df['text'] = df['text'].apply(lambda x:nltk.word_tokenize(x))"
   ]
  },
  {
   "cell_type": "code",
   "execution_count": 25,
   "id": "160ca8c0",
   "metadata": {
    "colab": {
     "base_uri": "https://localhost:8080/"
    },
    "id": "160ca8c0",
    "outputId": "973f3f34-0069-4697-9da8-b18be5013c68"
   },
   "outputs": [
    {
     "data": {
      "text/plain": [
       "['katy',\n",
       " 'perry',\n",
       " 'gush',\n",
       " 'hey',\n",
       " 'guys',\n",
       " 'gals',\n",
       " 'non',\n",
       " 'binary',\n",
       " 'pals',\n",
       " 'bored',\n",
       " 'listening',\n",
       " 'music',\n",
       " 'recently',\n",
       " 'started',\n",
       " 'listening',\n",
       " 'old',\n",
       " 'katy',\n",
       " 'perry',\n",
       " 'songs',\n",
       " 'came',\n",
       " 'back',\n",
       " 'little',\n",
       " 'quite',\n",
       " 'lot',\n",
       " 'say',\n",
       " 'nobody',\n",
       " 'probably',\n",
       " 'cares',\n",
       " 'tho',\n",
       " 'lol',\n",
       " 'basically',\n",
       " 'gon',\n",
       " 'na',\n",
       " 'gushing',\n",
       " 'songs',\n",
       " 'lyrics',\n",
       " 'cuz',\n",
       " 'interested',\n",
       " 'keep',\n",
       " 'scrolling',\n",
       " 'ignore',\n",
       " 'lol',\n",
       " 'open',\n",
       " 'discussion',\n",
       " 'gush',\n",
       " 'afterwards',\n",
       " 'comments',\n",
       " 'end',\n",
       " 'reading',\n",
       " 'post',\n",
       " 'either',\n",
       " 'way',\n",
       " 'hope',\n",
       " 'great',\n",
       " 'rest',\n",
       " 'day',\n",
       " 'night',\n",
       " 'begin',\n",
       " 'absolutely',\n",
       " 'love',\n",
       " 'majority',\n",
       " 'songs',\n",
       " 'empowering',\n",
       " 'women',\n",
       " 'motivational',\n",
       " 'feel',\n",
       " 'like',\n",
       " 'always',\n",
       " 'strong',\n",
       " 'known',\n",
       " 'worth',\n",
       " 'able',\n",
       " 'relate',\n",
       " 'songs',\n",
       " 'songs',\n",
       " 'really',\n",
       " 'fun',\n",
       " 'big',\n",
       " 'message',\n",
       " 'anything',\n",
       " 'fun',\n",
       " 'let',\n",
       " 'us',\n",
       " 'begin',\n",
       " 'part',\n",
       " 'basically',\n",
       " 'leaving',\n",
       " 'cheating',\n",
       " 'bf',\n",
       " 'according',\n",
       " 'music',\n",
       " 'video',\n",
       " 'talking',\n",
       " 'life',\n",
       " 'people',\n",
       " 'really',\n",
       " 'crappy',\n",
       " 'times',\n",
       " 'let',\n",
       " 'get',\n",
       " 'best',\n",
       " 'people',\n",
       " 'miserable',\n",
       " 'sad',\n",
       " 'try',\n",
       " 'make',\n",
       " 'sad',\n",
       " 'miserable',\n",
       " 'personally',\n",
       " 'relate',\n",
       " 'cuz',\n",
       " 'hurt',\n",
       " 'quite',\n",
       " 'times',\n",
       " 'throughout',\n",
       " 'life',\n",
       " 'many',\n",
       " 'people',\n",
       " 'honestly',\n",
       " 'find',\n",
       " 'really',\n",
       " 'hard',\n",
       " 'trust',\n",
       " 'people',\n",
       " 'matter',\n",
       " 'badly',\n",
       " 'hurt',\n",
       " 'always',\n",
       " 'always',\n",
       " 'bounce',\n",
       " 'back',\n",
       " 'know',\n",
       " 'worth',\n",
       " 'know',\n",
       " 'matter',\n",
       " 'much',\n",
       " 'try',\n",
       " 'cut',\n",
       " 'nothing',\n",
       " 'say',\n",
       " 'make',\n",
       " 'forget',\n",
       " 'worth',\n",
       " 'know',\n",
       " 'truly',\n",
       " 'happy',\n",
       " 'good',\n",
       " 'people',\n",
       " 'try',\n",
       " 'cut',\n",
       " 'others',\n",
       " 'done',\n",
       " 'make',\n",
       " 'feel',\n",
       " 'bad',\n",
       " 'whoever',\n",
       " 'anything',\n",
       " 'like',\n",
       " 'truly',\n",
       " 'happy',\n",
       " 'lives',\n",
       " 'mean',\n",
       " 'c',\n",
       " 'mon',\n",
       " 'really',\n",
       " 'think',\n",
       " 'someone',\n",
       " 'perfectly',\n",
       " 'healthy',\n",
       " 'happy',\n",
       " 'good',\n",
       " 'try',\n",
       " 'make',\n",
       " 'others',\n",
       " 'miserable',\n",
       " 'also',\n",
       " 'know',\n",
       " 'nobody',\n",
       " 'else',\n",
       " 'know',\n",
       " 'family',\n",
       " 'support',\n",
       " 'motivate',\n",
       " 'due',\n",
       " 'reasons',\n",
       " 'absolutely',\n",
       " 'love',\n",
       " 'song',\n",
       " 'hot',\n",
       " 'n',\n",
       " 'cold',\n",
       " 'one',\n",
       " 'another',\n",
       " 'motivational',\n",
       " 'song',\n",
       " 'loved',\n",
       " 'song',\n",
       " 'ever',\n",
       " 'since',\n",
       " 'little',\n",
       " 'well',\n",
       " 'empowering',\n",
       " 'message',\n",
       " 'music',\n",
       " 'video',\n",
       " 'katy',\n",
       " 'getting',\n",
       " 'married',\n",
       " 'someone',\n",
       " 'gets',\n",
       " 'cold',\n",
       " 'feet',\n",
       " 'song',\n",
       " 'toxic',\n",
       " 'relationship',\n",
       " 'one',\n",
       " 'person',\n",
       " 'want',\n",
       " 'person',\n",
       " 'want',\n",
       " 'person',\n",
       " 'want',\n",
       " 'someone',\n",
       " 'else',\n",
       " 'either',\n",
       " 'constantly',\n",
       " 'changing',\n",
       " 'minds',\n",
       " 'relationship',\n",
       " 'started',\n",
       " 'great',\n",
       " 'started',\n",
       " 'deteriorating',\n",
       " 'another',\n",
       " 'thing',\n",
       " 'really',\n",
       " 'liked',\n",
       " 'lyrics',\n",
       " 'go',\n",
       " 'like',\n",
       " 'know',\n",
       " 'good',\n",
       " 'know',\n",
       " 'gon',\n",
       " 'na',\n",
       " 'change',\n",
       " 'liked',\n",
       " 'feel',\n",
       " 'shows',\n",
       " 'toxic',\n",
       " 'relationship',\n",
       " 'people',\n",
       " 'hardly',\n",
       " 'ever',\n",
       " 'change',\n",
       " 'honestly',\n",
       " 'pointless',\n",
       " 'stay',\n",
       " 'relationships',\n",
       " 'know',\n",
       " 'easier',\n",
       " 'said',\n",
       " 'done',\n",
       " 'leave',\n",
       " 'relationships',\n",
       " 'shaming',\n",
       " 'anyone',\n",
       " 'staying',\n",
       " 'cuz',\n",
       " 'know',\n",
       " 'many',\n",
       " 'people',\n",
       " 'try',\n",
       " 'leave',\n",
       " 'mentioned',\n",
       " 'always',\n",
       " 'known',\n",
       " 'worth',\n",
       " 'song',\n",
       " 'motivating',\n",
       " 'date',\n",
       " 'future',\n",
       " 'know',\n",
       " 'take',\n",
       " 'anybody',\n",
       " 'crap',\n",
       " 'know',\n",
       " 'worth',\n",
       " 'know',\n",
       " 'deserve',\n",
       " 'treated',\n",
       " 'respect',\n",
       " 'treat',\n",
       " 'respect',\n",
       " 'minute',\n",
       " 'someone',\n",
       " 'treats',\n",
       " 'badly',\n",
       " 'thinks',\n",
       " 'walk',\n",
       " 'without',\n",
       " 'backwards',\n",
       " 'glance',\n",
       " 'waste',\n",
       " 'time',\n",
       " 'someone',\n",
       " 'respect',\n",
       " 'plenty',\n",
       " 'people',\n",
       " 'respect',\n",
       " 'gon',\n",
       " 'na',\n",
       " 'stay',\n",
       " 'hung',\n",
       " 'someone',\n",
       " 'k',\n",
       " 'turned',\n",
       " 'rant',\n",
       " 'lol',\n",
       " 'sorry',\n",
       " 'basically',\n",
       " 'found',\n",
       " 'really',\n",
       " 'motivating',\n",
       " 'loved',\n",
       " 'lyrics',\n",
       " 'last',\n",
       " 'friday',\n",
       " 'night',\n",
       " 'tgif',\n",
       " 'love',\n",
       " 'song',\n",
       " 'lol',\n",
       " 'motivational',\n",
       " 'anything',\n",
       " 'one',\n",
       " 'fun',\n",
       " 'songs',\n",
       " 'sing',\n",
       " 'dance',\n",
       " 'along',\n",
       " 'every',\n",
       " 'single',\n",
       " 'time',\n",
       " 'also',\n",
       " 'voice',\n",
       " 'sounds',\n",
       " 'amazing',\n",
       " 'song',\n",
       " 'lol',\n",
       " 'love',\n",
       " 'dancing',\n",
       " 'concept',\n",
       " 'parties',\n",
       " 'unfortunately',\n",
       " 'spent',\n",
       " 'lot',\n",
       " 'time',\n",
       " 'short',\n",
       " 'years',\n",
       " 'life',\n",
       " 'tho',\n",
       " 'plan',\n",
       " 'attending',\n",
       " 'many',\n",
       " 'many',\n",
       " 'parties',\n",
       " 'grow',\n",
       " 'older',\n",
       " 'haha',\n",
       " 'anyways',\n",
       " 'song',\n",
       " 'really',\n",
       " 'fun',\n",
       " 'music',\n",
       " 'video',\n",
       " 'quite',\n",
       " 'crazy',\n",
       " 'lol',\n",
       " 'love',\n",
       " 'regardless',\n",
       " 'wait',\n",
       " 'till',\n",
       " 'older',\n",
       " 'fun',\n",
       " 'independent',\n",
       " 'pretty',\n",
       " 'strict',\n",
       " 'parents',\n",
       " 'let',\n",
       " 'lot',\n",
       " 'things',\n",
       " 'another',\n",
       " 'reason',\n",
       " 'love',\n",
       " 'song',\n",
       " 'gives',\n",
       " 'hope',\n",
       " 'makes',\n",
       " 'excited',\n",
       " 'years',\n",
       " 'come',\n",
       " 'get',\n",
       " 'college',\n",
       " 'independent',\n",
       " 'sum',\n",
       " 'love',\n",
       " 'lol',\n",
       " 'california',\n",
       " 'gurls',\n",
       " 'ok',\n",
       " 'song',\n",
       " 'meaning',\n",
       " 'behind',\n",
       " 'really',\n",
       " 'either',\n",
       " 'always',\n",
       " 'loved',\n",
       " 'ever',\n",
       " 'since',\n",
       " 'little',\n",
       " 'understood',\n",
       " 'entire',\n",
       " 'song',\n",
       " 'basically',\n",
       " 'sex',\n",
       " 'full',\n",
       " 'sexual',\n",
       " 'references',\n",
       " 'loved',\n",
       " 'state',\n",
       " 'song',\n",
       " 'felt',\n",
       " 'proud',\n",
       " 'famous',\n",
       " 'little',\n",
       " 'cuz',\n",
       " 'song',\n",
       " 'lived',\n",
       " 'lol',\n",
       " 'besides',\n",
       " 'like',\n",
       " 'beat',\n",
       " 'think',\n",
       " 'fun',\n",
       " 'song',\n",
       " 'k',\n",
       " 'songs',\n",
       " 'haha',\n",
       " 'like',\n",
       " 'said',\n",
       " 'bored',\n",
       " 'felt',\n",
       " 'like',\n",
       " 'writing',\n",
       " 'songs',\n",
       " 'cuz',\n",
       " 'also',\n",
       " 'family',\n",
       " 'likely',\n",
       " 'tired',\n",
       " 'hearing',\n",
       " 'gush',\n",
       " 'lol',\n",
       " 'turning',\n",
       " 'internet',\n",
       " 'strangers',\n",
       " 'k',\n",
       " 'byee']"
      ]
     },
     "execution_count": 25,
     "metadata": {},
     "output_type": "execute_result"
    }
   ],
   "source": [
    "df['text'][30]"
   ]
  },
  {
   "cell_type": "code",
   "execution_count": 26,
   "id": "86722469",
   "metadata": {
    "colab": {
     "base_uri": "https://localhost:8080/"
    },
    "id": "86722469",
    "outputId": "978f92d9-d5e6-4fff-fa4d-1a1a84b82428"
   },
   "outputs": [
    {
     "name": "stderr",
     "output_type": "stream",
     "text": [
      "[nltk_data] Downloading package wordnet to /root/nltk_data...\n"
     ]
    },
    {
     "data": {
      "text/plain": [
       "True"
      ]
     },
     "execution_count": 26,
     "metadata": {},
     "output_type": "execute_result"
    }
   ],
   "source": [
    "nltk.download('wordnet')"
   ]
  },
  {
   "cell_type": "code",
   "execution_count": 27,
   "id": "3f2ef702",
   "metadata": {
    "id": "3f2ef702"
   },
   "outputs": [],
   "source": [
    "wl = WordNetLemmatizer()"
   ]
  },
  {
   "cell_type": "code",
   "execution_count": 28,
   "id": "d775fbc0",
   "metadata": {
    "id": "d775fbc0"
   },
   "outputs": [],
   "source": [
    "df['text'] = df['text'].apply(lambda x: [wl.lemmatize(i) for i in x])"
   ]
  },
  {
   "cell_type": "code",
   "execution_count": 29,
   "id": "e2fd0e52",
   "metadata": {
    "id": "e2fd0e52"
   },
   "outputs": [],
   "source": [
    "df['text']=df['text'].apply(lambda x : ' '.join(x))"
   ]
  },
  {
   "cell_type": "code",
   "execution_count": 30,
   "id": "d624512b",
   "metadata": {
    "id": "d624512b"
   },
   "outputs": [],
   "source": [
    "df.to_csv('suicide_clean.csv')"
   ]
  },
  {
   "cell_type": "code",
   "execution_count": 31,
   "id": "ba8c371f",
   "metadata": {
    "id": "ba8c371f"
   },
   "outputs": [],
   "source": [
    "df['class'] =  np.where(df['class'].str.contains('non'),0,1)"
   ]
  },
  {
   "cell_type": "code",
   "execution_count": 32,
   "id": "3fdec3a3",
   "metadata": {
    "id": "3fdec3a3"
   },
   "outputs": [],
   "source": [
    "# from sklearn.preprocessing import LabelEncoder\n",
    "\n",
    "# le=LabelEncoder()\n",
    "\n",
    "# df['class']=le.fit_transform(df['class'])"
   ]
  },
  {
   "cell_type": "code",
   "execution_count": 33,
   "id": "89893087",
   "metadata": {
    "colab": {
     "base_uri": "https://localhost:8080/"
    },
    "id": "89893087",
    "outputId": "e2b4a520-6dce-4a28-e3a8-36af6efc8c03"
   },
   "outputs": [
    {
     "data": {
      "text/plain": [
       "class\n",
       "1    3038\n",
       "0    2962\n",
       "Name: count, dtype: int64"
      ]
     },
     "execution_count": 33,
     "metadata": {},
     "output_type": "execute_result"
    }
   ],
   "source": [
    "df['class'].value_counts()"
   ]
  },
  {
   "cell_type": "code",
   "execution_count": 34,
   "id": "0e4e679c",
   "metadata": {
    "id": "0e4e679c"
   },
   "outputs": [],
   "source": [
    "X = df['text']\n",
    "y = df['class']"
   ]
  },
  {
   "cell_type": "code",
   "execution_count": 35,
   "id": "7386653b",
   "metadata": {
    "id": "7386653b"
   },
   "outputs": [],
   "source": [
    "vectorizer = TfidfVectorizer(min_df=50,max_features=6000,ngram_range=(1,2))\n",
    "x =  vectorizer.fit_transform(X).toarray()"
   ]
  },
  {
   "cell_type": "code",
   "execution_count": 36,
   "id": "52add3b2",
   "metadata": {
    "colab": {
     "base_uri": "https://localhost:8080/"
    },
    "id": "52add3b2",
    "outputId": "90875b24-0a04-4c65-a94e-b712c760858c"
   },
   "outputs": [
    {
     "data": {
      "text/plain": [
       "((4200, 1088), (1800, 1088))"
      ]
     },
     "execution_count": 36,
     "metadata": {},
     "output_type": "execute_result"
    }
   ],
   "source": [
    "X_train,X_test,y_train,y_test = train_test_split(x,y,test_size=0.30,random_state=5)\n",
    "\n",
    "X_train.shape,X_test.shape"
   ]
  },
  {
   "cell_type": "code",
   "execution_count": 37,
   "id": "58a6d8d0",
   "metadata": {
    "id": "58a6d8d0"
   },
   "outputs": [],
   "source": [
    "def model_accuracy (clf,train,test,target_train,target_test):\n",
    "\n",
    "    clf.fit(train,target_train)\n",
    "\n",
    "    y_pred = clf.predict(test)\n",
    "\n",
    "    sns.heatmap(confusion_matrix(y_test,y_pred),annot=True,cmap='summer')\n",
    "    print(classification_report(y_test,y_pred))"
   ]
  },
  {
   "cell_type": "code",
   "execution_count": 38,
   "id": "b0fb583e",
   "metadata": {
    "colab": {
     "base_uri": "https://localhost:8080/",
     "height": 587
    },
    "id": "b0fb583e",
    "outputId": "482e49f7-847f-4faa-e568-4dbc78245c51"
   },
   "outputs": [
    {
     "name": "stdout",
     "output_type": "stream",
     "text": [
      "              precision    recall  f1-score   support\n",
      "\n",
      "           0       0.87      0.91      0.89       871\n",
      "           1       0.91      0.87      0.89       929\n",
      "\n",
      "    accuracy                           0.89      1800\n",
      "   macro avg       0.89      0.89      0.89      1800\n",
      "weighted avg       0.89      0.89      0.89      1800\n",
      "\n"
     ]
    },
    {
     "data": {
      "image/png": "[encoded data removed]",
      "text/plain": [
       "<Figure size 640x480 with 2 Axes>"
      ]
     },
     "metadata": {},
     "output_type": "display_data"
    }
   ],
   "source": [
    "lr_clf = LogisticRegression(random_state=42)\n",
    "\n",
    "model_accuracy(lr_clf,X_train,X_test,y_train,y_test)"
   ]
  },
  {
   "cell_type": "code",
   "execution_count": 39,
   "id": "a29404bb",
   "metadata": {
    "colab": {
     "base_uri": "https://localhost:8080/",
     "height": 586
    },
    "id": "a29404bb",
    "outputId": "5c79544f-401a-4bbb-b12b-54fbe5ce90b7"
   },
   "outputs": [
    {
     "name": "stdout",
     "output_type": "stream",
     "text": [
      "              precision    recall  f1-score   support\n",
      "\n",
      "           0       0.72      0.90      0.80       871\n",
      "           1       0.88      0.67      0.76       929\n",
      "\n",
      "    accuracy                           0.78      1800\n",
      "   macro avg       0.80      0.78      0.78      1800\n",
      "weighted avg       0.80      0.78      0.78      1800\n",
      "\n"
     ]
    },
    {
     "data": {
      "image/png": "[encoded data removed]",
      "text/plain": [
       "<Figure size 640x480 with 2 Axes>"
      ]
     },
     "metadata": {},
     "output_type": "display_data"
    }
   ],
   "source": [
    "nb_clf = BernoulliNB()\n",
    "\n",
    "model_accuracy(nb_clf,X_train,X_test,y_train,y_test)"
   ]
  },
  {
   "cell_type": "markdown",
   "id": "08281a5c",
   "metadata": {
    "id": "08281a5c"
   },
   "source": [
    "#### Decision Tree Classifier"
   ]
  },
  {
   "cell_type": "code",
   "execution_count": 40,
   "id": "3ca0eecf",
   "metadata": {
    "id": "3ca0eecf"
   },
   "outputs": [],
   "source": [
    "dt = DecisionTreeClassifier()\n",
    "\n",
    "params_dt = {\n",
    "'min_samples_split': range(1,10),\n",
    "'criterion':['gini','entropy'],\n",
    "'max_depth': range(1,10),\n",
    "'min_samples_leaf': range(1,5)\n",
    "}\n",
    "# Instantiate a 10-fold CV grid search object 'grid_dt'\n",
    "grid_dt = GridSearchCV(estimator=dt,\n",
    "param_grid=params_dt,\n",
    "scoring= 'r2',\n",
    "cv=5,\n",
    "n_jobs=-1)\n",
    "\n",
    "grid_dt.fit(X_train, y_train)\n",
    "\n",
    "# Extract best model from 'grid_dt'\n",
    "best_modelDT = grid_dt.best_params_"
   ]
  },
  {
   "cell_type": "code",
   "execution_count": 41,
   "id": "0da3e383",
   "metadata": {
    "id": "0da3e383"
   },
   "outputs": [],
   "source": [
    "DT_final = DecisionTreeClassifier(**best_modelDT)"
   ]
  },
  {
   "cell_type": "code",
   "execution_count": 42,
   "id": "66119c93",
   "metadata": {
    "colab": {
     "base_uri": "https://localhost:8080/",
     "height": 586
    },
    "id": "66119c93",
    "outputId": "4f89a75d-b7e9-4e6d-9bb3-593ae9951d48"
   },
   "outputs": [
    {
     "name": "stdout",
     "output_type": "stream",
     "text": [
      "              precision    recall  f1-score   support\n",
      "\n",
      "           0       0.75      0.91      0.83       871\n",
      "           1       0.90      0.72      0.80       929\n",
      "\n",
      "    accuracy                           0.81      1800\n",
      "   macro avg       0.83      0.82      0.81      1800\n",
      "weighted avg       0.83      0.81      0.81      1800\n",
      "\n"
     ]
    },
    {
     "data": {
      "image/png": "[encoded data removed]",
      "text/plain": [
       "<Figure size 640x480 with 2 Axes>"
      ]
     },
     "metadata": {},
     "output_type": "display_data"
    }
   ],
   "source": [
    "model_accuracy(DT_final,X_train,X_test,y_train,y_test)"
   ]
  },
  {
   "cell_type": "markdown",
   "id": "aabc510e",
   "metadata": {
    "id": "aabc510e"
   },
   "source": [
    "#### RandomForest Classifier"
   ]
  },
  {
   "cell_type": "code",
   "execution_count": 43,
   "id": "92b0ed8e",
   "metadata": {
    "colab": {
     "base_uri": "https://localhost:8080/",
     "height": 119
    },
    "id": "92b0ed8e",
    "outputId": "94602843-d8f2-4dd6-bdf7-5e83887d5e6b"
   },
   "outputs": [
    {
     "data": {
      "text/html": [
       "<style>#sk-container-id-1 {color: black;background-color: white;}#sk-container-id-1 pre{padding: 0;}#sk-container-id-1 div.sk-toggleable {background-color: white;}#sk-container-id-1 label.sk-toggleable__label {cursor: pointer;display: block;width: 100%;margin-bottom: 0;padding: 0.3em;box-sizing: border-box;text-align: center;}#sk-container-id-1 label.sk-toggleable__label-arrow:before {content: \"▸\";float: left;margin-right: 0.25em;color: #696969;}#sk-container-id-1 label.sk-toggleable__label-arrow:hover:before {color: black;}#sk-container-id-1 div.sk-estimator:hover label.sk-toggleable__label-arrow:before {color: black;}#sk-container-id-1 div.sk-toggleable__content {max-height: 0;max-width: 0;overflow: hidden;text-align: left;background-color: #f0f8ff;}#sk-container-id-1 div.sk-toggleable__content pre {margin: 0.2em;color: black;border-radius: 0.25em;background-color: #f0f8ff;}#sk-container-id-1 input.sk-toggleable__control:checked~div.sk-toggleable__content {max-height: 200px;max-width: 100%;overflow: auto;}#sk-container-id-1 input.sk-toggleable__control:checked~label.sk-toggleable__label-arrow:before {content: \"▾\";}#sk-container-id-1 div.sk-estimator input.sk-toggleable__control:checked~label.sk-toggleable__label {background-color: #d4ebff;}#sk-container-id-1 div.sk-label input.sk-toggleable__control:checked~label.sk-toggleable__label {background-color: #d4ebff;}#sk-container-id-1 input.sk-hidden--visually {border: 0;clip: rect(1px 1px 1px 1px);clip: rect(1px, 1px, 1px, 1px);height: 1px;margin: -1px;overflow: hidden;padding: 0;position: absolute;width: 1px;}#sk-container-id-1 div.sk-estimator {font-family: monospace;background-color: #f0f8ff;border: 1px dotted black;border-radius: 0.25em;box-sizing: border-box;margin-bottom: 0.5em;}#sk-container-id-1 div.sk-estimator:hover {background-color: #d4ebff;}#sk-container-id-1 div.sk-parallel-item::after {content: \"\";width: 100%;border-bottom: 1px solid gray;flex-grow: 1;}#sk-container-id-1 div.sk-label:hover label.sk-toggleable__label {background-color: #d4ebff;}#sk-container-id-1 div.sk-serial::before {content: \"\";position: absolute;border-left: 1px solid gray;box-sizing: border-box;top: 0;bottom: 0;left: 50%;z-index: 0;}#sk-container-id-1 div.sk-serial {display: flex;flex-direction: column;align-items: center;background-color: white;padding-right: 0.2em;padding-left: 0.2em;position: relative;}#sk-container-id-1 div.sk-item {position: relative;z-index: 1;}#sk-container-id-1 div.sk-parallel {display: flex;align-items: stretch;justify-content: center;background-color: white;position: relative;}#sk-container-id-1 div.sk-item::before, #sk-container-id-1 div.sk-parallel-item::before {content: \"\";position: absolute;border-left: 1px solid gray;box-sizing: border-box;top: 0;bottom: 0;left: 50%;z-index: -1;}#sk-container-id-1 div.sk-parallel-item {display: flex;flex-direction: column;z-index: 1;position: relative;background-color: white;}#sk-container-id-1 div.sk-parallel-item:first-child::after {align-self: flex-end;width: 50%;}#sk-container-id-1 div.sk-parallel-item:last-child::after {align-self: flex-start;width: 50%;}#sk-container-id-1 div.sk-parallel-item:only-child::after {width: 0;}#sk-container-id-1 div.sk-dashed-wrapped {border: 1px dashed gray;margin: 0 0.4em 0.5em 0.4em;box-sizing: border-box;padding-bottom: 0.4em;background-color: white;}#sk-container-id-1 div.sk-label label {font-family: monospace;font-weight: bold;display: inline-block;line-height: 1.2em;}#sk-container-id-1 div.sk-label-container {text-align: center;}#sk-container-id-1 div.sk-container {/* jupyter's `normalize.less` sets `[hidden] { display: none; }` but bootstrap.min.css set `[hidden] { display: none !important; }` so we also need the `!important` here to be able to override the default hidden behavior on the sphinx rendered scikit-learn.org. See: https://github.com/scikit-learn/scikit-learn/issues/21755 */display: inline-block !important;position: relative;}#sk-container-id-1 div.sk-text-repr-fallback {display: none;}</style><div id=\"sk-container-id-1\" class=\"sk-top-container\"><div class=\"sk-text-repr-fallback\"><pre>GridSearchCV(cv=5, estimator=RandomForestClassifier(), n_jobs=-1,\n",
       "             param_grid={&#x27;criterion&#x27;: [&#x27;gini&#x27;, &#x27;entropy&#x27;],\n",
       "                         &#x27;max_depth&#x27;: [5, 10, 15],\n",
       "                         &#x27;min_samples_split&#x27;: [2, 4, 5],\n",
       "                         &#x27;n_estimators&#x27;: [10, 20, 40, 50, 100, 150]},\n",
       "             scoring=&#x27;r2&#x27;)</pre><b>In a Jupyter environment, please rerun this cell to show the HTML representation or trust the notebook. <br />On GitHub, the HTML representation is unable to render, please try loading this page with nbviewer.org.</b></div><div class=\"sk-container\" hidden><div class=\"sk-item sk-dashed-wrapped\"><div class=\"sk-label-container\"><div class=\"sk-label sk-toggleable\"><input class=\"sk-toggleable__control sk-hidden--visually\" id=\"sk-estimator-id-1\" type=\"checkbox\" ><label for=\"sk-estimator-id-1\" class=\"sk-toggleable__label sk-toggleable__label-arrow\">GridSearchCV</label><div class=\"sk-toggleable__content\"><pre>GridSearchCV(cv=5, estimator=RandomForestClassifier(), n_jobs=-1,\n",
       "             param_grid={&#x27;criterion&#x27;: [&#x27;gini&#x27;, &#x27;entropy&#x27;],\n",
       "                         &#x27;max_depth&#x27;: [5, 10, 15],\n",
       "                         &#x27;min_samples_split&#x27;: [2, 4, 5],\n",
       "                         &#x27;n_estimators&#x27;: [10, 20, 40, 50, 100, 150]},\n",
       "             scoring=&#x27;r2&#x27;)</pre></div></div></div><div class=\"sk-parallel\"><div class=\"sk-parallel-item\"><div class=\"sk-item\"><div class=\"sk-label-container\"><div class=\"sk-label sk-toggleable\"><input class=\"sk-toggleable__control sk-hidden--visually\" id=\"sk-estimator-id-2\" type=\"checkbox\" ><label for=\"sk-estimator-id-2\" class=\"sk-toggleable__label sk-toggleable__label-arrow\">estimator: RandomForestClassifier</label><div class=\"sk-toggleable__content\"><pre>RandomForestClassifier()</pre></div></div></div><div class=\"sk-serial\"><div class=\"sk-item\"><div class=\"sk-estimator sk-toggleable\"><input class=\"sk-toggleable__control sk-hidden--visually\" id=\"sk-estimator-id-3\" type=\"checkbox\" ><label for=\"sk-estimator-id-3\" class=\"sk-toggleable__label sk-toggleable__label-arrow\">RandomForestClassifier</label><div class=\"sk-toggleable__content\"><pre>RandomForestClassifier()</pre></div></div></div></div></div></div></div></div></div></div>"
      ],
      "text/plain": [
       "GridSearchCV(cv=5, estimator=RandomForestClassifier(), n_jobs=-1,\n",
       "             param_grid={'criterion': ['gini', 'entropy'],\n",
       "                         'max_depth': [5, 10, 15],\n",
       "                         'min_samples_split': [2, 4, 5],\n",
       "                         'n_estimators': [10, 20, 40, 50, 100, 150]},\n",
       "             scoring='r2')"
      ]
     },
     "execution_count": 43,
     "metadata": {},
     "output_type": "execute_result"
    }
   ],
   "source": [
    "rf_model = RandomForestClassifier()\n",
    "\n",
    "\n",
    "# hyperparameter space\n",
    "rf_param_grid = dict(\n",
    "    n_estimators=[10, 20,40,50,100,150],\n",
    "    max_depth=[5, 10, 15],\n",
    "    min_samples_split=[2, 4,5],\n",
    "    criterion = ['gini', 'entropy'],\n",
    "#     max_features= ['auto', 'sqrt', 'log2']\n",
    ")\n",
    "\n",
    "\n",
    "# search\n",
    "rf_clf = GridSearchCV(rf_model, rf_param_grid,\n",
    "                   scoring='r2', cv=5, n_jobs = -1)\n",
    "\n",
    "rf_clf.fit(X_train,y_train)"
   ]
  },
  {
   "cell_type": "code",
   "execution_count": 44,
   "id": "87448b50",
   "metadata": {
    "id": "87448b50"
   },
   "outputs": [],
   "source": [
    "best_modelRF = rf_clf.best_params_"
   ]
  },
  {
   "cell_type": "code",
   "execution_count": 45,
   "id": "8b21bf76",
   "metadata": {
    "id": "8b21bf76"
   },
   "outputs": [],
   "source": [
    "rf_final = RandomForestClassifier(**best_modelRF)"
   ]
  },
  {
   "cell_type": "code",
   "execution_count": 46,
   "id": "f909a4dd",
   "metadata": {
    "colab": {
     "base_uri": "https://localhost:8080/",
     "height": 586
    },
    "id": "f909a4dd",
    "outputId": "c09e1c58-d7d8-4b32-c465-dd2fa2867a56"
   },
   "outputs": [
    {
     "name": "stdout",
     "output_type": "stream",
     "text": [
      "              precision    recall  f1-score   support\n",
      "\n",
      "           0       0.85      0.89      0.87       871\n",
      "           1       0.89      0.85      0.87       929\n",
      "\n",
      "    accuracy                           0.87      1800\n",
      "   macro avg       0.87      0.87      0.87      1800\n",
      "weighted avg       0.87      0.87      0.87      1800\n",
      "\n"
     ]
    },
    {
     "data": {
      "image/png": "[encoded data removed]",
      "text/plain": [
       "<Figure size 640x480 with 2 Axes>"
      ]
     },
     "metadata": {},
     "output_type": "display_data"
    }
   ],
   "source": [
    "model_accuracy(rf_final,X_train,X_test,y_train,y_test)"
   ]
  },
  {
   "cell_type": "markdown",
   "id": "aebf48fd",
   "metadata": {
    "id": "aebf48fd"
   },
   "source": [
    "#### XGBoost Classifier"
   ]
  },
  {
   "cell_type": "code",
   "execution_count": 47,
   "id": "30c09d35",
   "metadata": {
    "colab": {
     "base_uri": "https://localhost:8080/"
    },
    "id": "30c09d35",
    "outputId": "a7f1e24d-a308-44d1-93b4-73dba905fa04"
   },
   "outputs": [
    {
     "name": "stdout",
     "output_type": "stream",
     "text": [
      "Fitting 5 folds for each of 125 candidates, totalling 625 fits\n",
      "Best parameters: {'subsample': 0.6, 'n_estimators': 65, 'min_child_weight': 3, 'max_depth': 7, 'learning_rate': 0.2575, 'gamma': 0, 'colsample_bytree': 0.4052631578947368}\n"
     ]
    }
   ],
   "source": [
    "param_dist = {\n",
    "        'n_estimators':range(50,150,5),\n",
    "        'max_depth':range(2,15,1),\n",
    "        'learning_rate':np.linspace(0.01,1,25),\n",
    "        'subsample':np.linspace(0.1,0.9,25),\n",
    "        'colsample_bytree':np.linspace(0.3,0.8,20),\n",
    "        'min_child_weight':range(1,9,1),\n",
    "        'gamma': [0, 0.2,0.25, 0.3,0.35, 0.5, 1.0]\n",
    "\n",
    "        }\n",
    "\n",
    "\n",
    "xgbr = XGBClassifier()\n",
    "XGB_Model = RandomizedSearchCV(xgbr,\n",
    "                   param_dist,\n",
    "                   scoring='r2',\n",
    "                   verbose=1,\n",
    "                    cv = 5,\n",
    "                    n_iter=125,\n",
    "                    n_jobs = -1)\n",
    "XGB_Model.fit(X_train, y_train)\n",
    "print(\"Best parameters:\", XGB_Model.best_params_)\n",
    "\n",
    "best_modelXGB = XGB_Model.best_params_\n",
    "\n"
   ]
  },
  {
   "cell_type": "code",
   "execution_count": 48,
   "id": "acdbc323",
   "metadata": {
    "id": "acdbc323"
   },
   "outputs": [],
   "source": [
    "xgb_final = XGBClassifier(**best_modelXGB)"
   ]
  },
  {
   "cell_type": "code",
   "execution_count": 49,
   "id": "8495608f",
   "metadata": {
    "colab": {
     "base_uri": "https://localhost:8080/",
     "height": 587
    },
    "id": "8495608f",
    "outputId": "847358ef-5123-48f6-cc91-76cdf5c8678e"
   },
   "outputs": [
    {
     "name": "stdout",
     "output_type": "stream",
     "text": [
      "              precision    recall  f1-score   support\n",
      "\n",
      "           0       0.87      0.89      0.88       871\n",
      "           1       0.89      0.87      0.88       929\n",
      "\n",
      "    accuracy                           0.88      1800\n",
      "   macro avg       0.88      0.88      0.88      1800\n",
      "weighted avg       0.88      0.88      0.88      1800\n",
      "\n"
     ]
    },
    {
     "data": {
      "image/png": "[encoded data removed]",
      "text/plain": [
       "<Figure size 640x480 with 2 Axes>"
      ]
     },
     "metadata": {},
     "output_type": "display_data"
    }
   ],
   "source": [
    "model_accuracy(xgb_final,X_train,X_test,y_train,y_test)"
   ]
  },
  {
   "cell_type": "code",
   "execution_count": 49,
   "id": "cc316d26",
   "metadata": {
    "id": "cc316d26"
   },
   "outputs": [],
   "source": []
  }
 ],
 "metadata": {
  "accelerator": "GPU",
  "colab": {
   "gpuType": "A100",
   "machine_shape": "hm",
   "provenance": []
  },
  "kernelspec": {
   "display_name": "Python 3 (ipykernel)",
   "language": "python",
   "name": "python3"
  },
  "language_info": {
   "codemirror_mode": {
    "name": "ipython",
    "version": 3
   },
   "file_extension": ".py",
   "mimetype": "text/x-python",
   "name": "python",
   "nbconvert_exporter": "python",
   "pygments_lexer": "ipython3",
   "version": "3.11.4"
  }
 },
 "nbformat": 4,
 "nbformat_minor": 5
}
