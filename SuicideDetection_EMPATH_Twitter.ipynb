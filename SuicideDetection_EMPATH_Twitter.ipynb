{
 "cells": [
  {
   "cell_type": "markdown",
   "id": "0e44c65d",
   "metadata": {
    "id": "0e44c65d"
   },
   "source": [
    "### Detecting suicide ideation in online posts from Twitter using Machine Learning classifiers"
   ]
  },
  {
   "cell_type": "code",
   "execution_count": 1,
   "id": "52334675",
   "metadata": {
    "colab": {
     "base_uri": "https://localhost:8080/"
    },
    "id": "52334675",
    "outputId": "9f819bdc-f728-4ec8-d781-ce056fc01b6c"
   },
   "outputs": [
    {
     "name": "stdout",
     "output_type": "stream",
     "text": [
      "Requirement already satisfied: unidecode in c:\\programdata\\anaconda3\\lib\\site-packages (1.2.0)\n"
     ]
    }
   ],
   "source": [
    "!pip install  unidecode"
   ]
  },
  {
   "cell_type": "code",
   "execution_count": 2,
   "id": "9494ce8a",
   "metadata": {
    "id": "9494ce8a"
   },
   "outputs": [],
   "source": [
    "# This Python 3 environment comes with many helpful analytics libraries installed\n",
    "# It is defined by the kaggle/python Docker image: https://github.com/kaggle/docker-python\n",
    "# For example, here's several helpful packages to load\n",
    "import warnings\n",
    "warnings.filterwarnings('ignore')\n",
    "\n",
    "import numpy as np # linear algebra\n",
    "import pandas as pd # data processing, CSV file I/O (e.g. pd.read_csv)\n",
    "\n",
    "# Visualisation libraries\n",
    "import matplotlib.pyplot as plt\n",
    "import seaborn as sns\n",
    "\n",
    "# Machine Learning Libraries\n",
    "from sklearn.model_selection import train_test_split,GridSearchCV,RandomizedSearchCV\n",
    "from sklearn.feature_extraction.text import TfidfVectorizer\n",
    "from sklearn.feature_selection import SelectKBest,chi2,f_classif\n",
    "from sklearn.linear_model import LogisticRegression\n",
    "from sklearn.ensemble import RandomForestClassifier,VotingClassifier\n",
    "# AdaBoostClassifier,GradientBoostingClassifier,BaggingClassifier\n",
    "from sklearn.metrics import classification_report , confusion_matrix\n",
    "from sklearn.tree import DecisionTreeClassifier\n",
    "from xgboost import XGBClassifier\n",
    "from sklearn.neighbors import KNeighborsClassifier\n",
    "from sklearn.naive_bayes import GaussianNB, MultinomialNB, BernoulliNB\n",
    "from sklearn.preprocessing import LabelEncoder\n",
    "from sklearn.model_selection import train_test_split\n",
    "from sklearn.metrics import confusion_matrix\n",
    "from sklearn.metrics import accuracy_score\n",
    "\n",
    "import pickle\n",
    "import string\n",
    "import re\n",
    "import unidecode\n",
    "\n",
    "# Text Processing libraries\n",
    "import nltk\n",
    "from nltk.stem import PorterStemmer\n",
    "from nltk.corpus import stopwords\n",
    "from nltk.stem import WordNetLemmatizer"
   ]
  },
  {
   "cell_type": "code",
   "execution_count": 3,
   "id": "82f0fe4e",
   "metadata": {
    "colab": {
     "base_uri": "https://localhost:8080/",
     "height": 224
    },
    "id": "82f0fe4e",
    "outputId": "05d35ad3-0864-4ec5-9fae-f1f8dd1fbacb"
   },
   "outputs": [
    {
     "name": "stdout",
     "output_type": "stream",
     "text": [
      "(1787, 2)\n"
     ]
    },
    {
     "data": {
      "text/html": [
       "<div>\n",
       "<style scoped>\n",
       "    .dataframe tbody tr th:only-of-type {\n",
       "        vertical-align: middle;\n",
       "    }\n",
       "\n",
       "    .dataframe tbody tr th {\n",
       "        vertical-align: top;\n",
       "    }\n",
       "\n",
       "    .dataframe thead th {\n",
       "        text-align: right;\n",
       "    }\n",
       "</style>\n",
       "<table border=\"1\" class=\"dataframe\">\n",
       "  <thead>\n",
       "    <tr style=\"text-align: right;\">\n",
       "      <th></th>\n",
       "      <th>Tweet</th>\n",
       "      <th>Suicide</th>\n",
       "    </tr>\n",
       "  </thead>\n",
       "  <tbody>\n",
       "    <tr>\n",
       "      <th>0</th>\n",
       "      <td>making some lunch</td>\n",
       "      <td>Not Suicide post</td>\n",
       "    </tr>\n",
       "    <tr>\n",
       "      <th>1</th>\n",
       "      <td>@Alexia You want his money.</td>\n",
       "      <td>Not Suicide post</td>\n",
       "    </tr>\n",
       "    <tr>\n",
       "      <th>2</th>\n",
       "      <td>@dizzyhrvy that crap took me forever to put to...</td>\n",
       "      <td>Potential Suicide post</td>\n",
       "    </tr>\n",
       "    <tr>\n",
       "      <th>3</th>\n",
       "      <td>@jnaylor #kiwitweets Hey Jer! Since when did y...</td>\n",
       "      <td>Not Suicide post</td>\n",
       "    </tr>\n",
       "    <tr>\n",
       "      <th>4</th>\n",
       "      <td>Trying out &amp;quot;Delicious Library 2&amp;quot; wit...</td>\n",
       "      <td>Not Suicide post</td>\n",
       "    </tr>\n",
       "  </tbody>\n",
       "</table>\n",
       "</div>"
      ],
      "text/plain": [
       "                                               Tweet                  Suicide\n",
       "0                                  making some lunch         Not Suicide post\n",
       "1                        @Alexia You want his money.         Not Suicide post\n",
       "2  @dizzyhrvy that crap took me forever to put to...  Potential Suicide post \n",
       "3  @jnaylor #kiwitweets Hey Jer! Since when did y...         Not Suicide post\n",
       "4  Trying out &quot;Delicious Library 2&quot; wit...         Not Suicide post"
      ]
     },
     "execution_count": 3,
     "metadata": {},
     "output_type": "execute_result"
    }
   ],
   "source": [
    "df = pd.read_csv('Suicide_Ideation_Twitter.csv',encoding='utf-8',engine='python')\n",
    "\n",
    "print(df.shape)\n",
    "\n",
    "# df = df.sample(6000, random_state=47)\n",
    "# df.drop('Unnamed: 0', axis=1,inplace=True)\n",
    "df.head()"
   ]
  },
  {
   "cell_type": "code",
   "execution_count": 4,
   "id": "7f7e4e2a",
   "metadata": {
    "id": "7f7e4e2a"
   },
   "outputs": [],
   "source": [
    "df.rename(columns={'Tweet':'text','Suicide':'class'},inplace=True)"
   ]
  },
  {
   "cell_type": "code",
   "execution_count": 5,
   "id": "a257c8c6",
   "metadata": {
    "colab": {
     "base_uri": "https://localhost:8080/"
    },
    "id": "a257c8c6",
    "outputId": "9b32ee8e-7011-48da-dfb2-82b220a5269c"
   },
   "outputs": [
    {
     "name": "stdout",
     "output_type": "stream",
     "text": [
      "<class 'pandas.core.frame.DataFrame'>\n",
      "RangeIndex: 1787 entries, 0 to 1786\n",
      "Data columns (total 2 columns):\n",
      " #   Column  Non-Null Count  Dtype \n",
      "---  ------  --------------  ----- \n",
      " 0   text    1785 non-null   object\n",
      " 1   class   1787 non-null   object\n",
      "dtypes: object(2)\n",
      "memory usage: 28.1+ KB\n"
     ]
    }
   ],
   "source": [
    "df.info()"
   ]
  },
  {
   "cell_type": "code",
   "execution_count": 6,
   "id": "0db7f9a6",
   "metadata": {
    "id": "0db7f9a6"
   },
   "outputs": [],
   "source": [
    "df['text'] = df['text'].astype(str)\n",
    "df['class'] = df['class'].astype(str)\n",
    "df['text'] = df['text'].str.lower()\n",
    "df['class'] = df['class'].str.lower()"
   ]
  },
  {
   "cell_type": "code",
   "execution_count": 7,
   "id": "0d382a29",
   "metadata": {
    "id": "0d382a29"
   },
   "outputs": [],
   "source": [
    "df.reset_index(inplace=True,drop=True)"
   ]
  },
  {
   "cell_type": "code",
   "execution_count": 8,
   "id": "a562766a",
   "metadata": {
    "colab": {
     "base_uri": "https://localhost:8080/"
    },
    "id": "a562766a",
    "outputId": "47ff862c-eee5-419e-db27-b10c2487a589"
   },
   "outputs": [
    {
     "data": {
      "text/plain": [
       "Int64Index([], dtype='int64')"
      ]
     },
     "execution_count": 8,
     "metadata": {},
     "output_type": "execute_result"
    }
   ],
   "source": [
    "df[df['text'].isnull()].index"
   ]
  },
  {
   "cell_type": "code",
   "execution_count": 9,
   "id": "1980f6aa",
   "metadata": {},
   "outputs": [],
   "source": [
    "from empath import Empath\n",
    "lexicon = Empath()"
   ]
  },
  {
   "cell_type": "code",
   "execution_count": 10,
   "id": "e42912a6",
   "metadata": {},
   "outputs": [],
   "source": [
    "# for i in range(len(df)) :\n",
    "    \n",
    "#     txt = df.loc[i,'text']\n",
    "# #     d=lexicon.analyze(txt,categories=['negative_emotion','positive_emotion'],normalize=True)\n",
    "#     d=lexicon.analyze(txt,categories=['celebration','cheerfulness','death','violence','negative_emotion','postive_emotion'],normalize=True)\n",
    "#     df['celebration'] = d['celebration']\n",
    "#     df['cheerfulness'] = d['cheerfulness']\n",
    "#     df['death'] = d['death']\n",
    "#     df['violence'] = d['violence']\n",
    "#     df['negative_emotion'] = d['negative_emotion']\n",
    "#     df['positive_emotion'] = d['positive_emotion']"
   ]
  },
  {
   "cell_type": "code",
   "execution_count": 11,
   "id": "755f34c1",
   "metadata": {},
   "outputs": [],
   "source": [
    "df['class'] = np.where(df['class'].str.contains('not'),0,1)"
   ]
  },
  {
   "cell_type": "code",
   "execution_count": 12,
   "id": "3935a5e6",
   "metadata": {
    "id": "3935a5e6"
   },
   "outputs": [],
   "source": [
    "df.to_csv('suicide_detection_twitter_modified.csv')"
   ]
  },
  {
   "cell_type": "code",
   "execution_count": 13,
   "id": "44b42121",
   "metadata": {
    "id": "44b42121"
   },
   "outputs": [],
   "source": [
    "def rem_whitespace(text):\n",
    "    text = text.strip()\n",
    "    return \" \".join(text.split())\n",
    "\n",
    "def rem_url(text):\n",
    "    return re.sub(r'http\\S+', '', text)\n",
    "\n",
    "def rem_email(text):\n",
    "    return re.sub(r'\\S+@\\S+', '', text)\n",
    "\n",
    "def rem_symbols_digits(text):\n",
    "    return re.sub('[^a-zA-Z\\s]', ' ', text)\n",
    "\n",
    "def rem_emoji(text):\n",
    "    emoji_pattern = re.compile(\"[\"\n",
    "        u\"\\U0001F600-\\U0001F64F\"  # emoticons\n",
    "        u\"\\U0001F300-\\U0001F5FF\"  # symbols & pictographs\n",
    "        u\"\\U0001F680-\\U0001F6FF\"  # transport & map symbols\n",
    "        u\"\\U0001F1E0-\\U0001F1FF\"  # flags (iOS)\n",
    "                           \"]+\", flags=re.UNICODE)\n",
    "    return emoji_pattern.sub(r'', text)\n",
    "\n",
    "def rem_special(text):\n",
    "    return text.replace(\"\\r\", \" \").replace(\"\\n\", \" \").replace(\"    \", \" \").replace('\"', '')\n",
    "\n",
    "def rem_accented_chars(text):\n",
    "    text = unidecode.unidecode(text)\n",
    "    return text\n",
    "\n",
    "def fix_lengthening(text):\n",
    "     return re.sub(r\"(.)\\1{2,}\",r'\\1',text)\n"
   ]
  },
  {
   "cell_type": "code",
   "execution_count": 14,
   "id": "d500db7b",
   "metadata": {
    "colab": {
     "base_uri": "https://localhost:8080/"
    },
    "id": "d500db7b",
    "outputId": "eece2fad-d4b4-4c7a-b790-8f34fd7e8381"
   },
   "outputs": [
    {
     "name": "stderr",
     "output_type": "stream",
     "text": [
      "[nltk_data] Downloading package punkt to\n",
      "[nltk_data]     C:\\Users\\user\\AppData\\Roaming\\nltk_data...\n",
      "[nltk_data]   Package punkt is already up-to-date!\n"
     ]
    },
    {
     "data": {
      "text/plain": [
       "True"
      ]
     },
     "execution_count": 14,
     "metadata": {},
     "output_type": "execute_result"
    }
   ],
   "source": [
    "from nltk import word_tokenize, sent_tokenize\n",
    "nltk.download('punkt')"
   ]
  },
  {
   "cell_type": "code",
   "execution_count": 15,
   "id": "0c1e1fa6",
   "metadata": {
    "colab": {
     "base_uri": "https://localhost:8080/",
     "height": 36
    },
    "id": "0c1e1fa6",
    "outputId": "0026f71f-b09a-4283-a045-f194356a5101"
   },
   "outputs": [
    {
     "data": {
      "text/plain": [
       "\"@domselinakyle that sounds so terrible that's how i was when my dad still lived w me but i hope it gets better forâ\\x80¦ https://t.co/oah2tunbxt\""
      ]
     },
     "execution_count": 15,
     "metadata": {},
     "output_type": "execute_result"
    }
   ],
   "source": [
    "# Looking at a sample tweet\n",
    "df['text'][30]"
   ]
  },
  {
   "cell_type": "code",
   "execution_count": 16,
   "id": "e4fa6681",
   "metadata": {
    "id": "e4fa6681"
   },
   "outputs": [],
   "source": [
    "df['text']   = df['text'].apply(lambda t : rem_emoji(t))\n",
    "df['text']   = df['text'].apply(lambda t : rem_symbols_digits(t))\n",
    "df['text']   = df['text'].apply(lambda t : rem_url(t))\n",
    "df['text']   = df['text'].apply(lambda t : rem_email(t))\n",
    "df['text']   = df['text'].apply(lambda t : rem_special(t))\n",
    "df['text']   = df['text'].apply(lambda t : rem_accented_chars(t))\n",
    "df['text']   = df['text'].apply(lambda t : fix_lengthening(t))\n",
    "df['text']   = df['text'].apply(lambda t : rem_whitespace(t))"
   ]
  },
  {
   "cell_type": "code",
   "execution_count": 17,
   "id": "9e8b76f1",
   "metadata": {
    "colab": {
     "base_uri": "https://localhost:8080/",
     "height": 36
    },
    "id": "9e8b76f1",
    "outputId": "948a0f11-f096-4861-8f58-8518fca3aba9"
   },
   "outputs": [
    {
     "data": {
      "text/plain": [
       "'domselinakyle that sounds so terrible that s how i was when my dad still lived w me but i hope it gets better for t co oah tunbxt'"
      ]
     },
     "execution_count": 17,
     "metadata": {},
     "output_type": "execute_result"
    }
   ],
   "source": [
    "df['text'][30]"
   ]
  },
  {
   "cell_type": "code",
   "execution_count": 18,
   "id": "104e3d58",
   "metadata": {
    "colab": {
     "base_uri": "https://localhost:8080/"
    },
    "id": "104e3d58",
    "outputId": "f02723c3-6cb9-4662-f5a4-455d69f97c35"
   },
   "outputs": [
    {
     "name": "stderr",
     "output_type": "stream",
     "text": [
      "[nltk_data] Downloading package stopwords to\n",
      "[nltk_data]     C:\\Users\\user\\AppData\\Roaming\\nltk_data...\n",
      "[nltk_data]   Package stopwords is already up-to-date!\n"
     ]
    },
    {
     "data": {
      "text/plain": [
       "True"
      ]
     },
     "execution_count": 18,
     "metadata": {},
     "output_type": "execute_result"
    }
   ],
   "source": [
    "nltk.download('stopwords')"
   ]
  },
  {
   "cell_type": "code",
   "execution_count": 19,
   "id": "7f5c606d",
   "metadata": {
    "id": "7f5c606d"
   },
   "outputs": [],
   "source": [
    "from nltk.corpus import stopwords\n",
    "stop_words = stopwords.words('english')\n",
    "df['text'] = df['text'].apply(lambda x: ' '.join([word for word in x.split() if word not in (stop_words)]))"
   ]
  },
  {
   "cell_type": "code",
   "execution_count": 20,
   "id": "6ba76319",
   "metadata": {
    "id": "6ba76319"
   },
   "outputs": [],
   "source": [
    "df['text'] = df['text'].apply(lambda x:nltk.word_tokenize(x))"
   ]
  },
  {
   "cell_type": "code",
   "execution_count": 21,
   "id": "160ca8c0",
   "metadata": {
    "colab": {
     "base_uri": "https://localhost:8080/"
    },
    "id": "160ca8c0",
    "outputId": "1400aac5-530f-49cf-de28-8719688462ad"
   },
   "outputs": [
    {
     "data": {
      "text/plain": [
       "['domselinakyle',\n",
       " 'sounds',\n",
       " 'terrible',\n",
       " 'dad',\n",
       " 'still',\n",
       " 'lived',\n",
       " 'w',\n",
       " 'hope',\n",
       " 'gets',\n",
       " 'better',\n",
       " 'co',\n",
       " 'oah',\n",
       " 'tunbxt']"
      ]
     },
     "execution_count": 21,
     "metadata": {},
     "output_type": "execute_result"
    }
   ],
   "source": [
    "df['text'][30]"
   ]
  },
  {
   "cell_type": "code",
   "execution_count": 22,
   "id": "86722469",
   "metadata": {
    "colab": {
     "base_uri": "https://localhost:8080/"
    },
    "id": "86722469",
    "outputId": "6306cc08-76cf-432c-abc1-0ab1020bc883"
   },
   "outputs": [
    {
     "name": "stderr",
     "output_type": "stream",
     "text": [
      "[nltk_data] Downloading package wordnet to\n",
      "[nltk_data]     C:\\Users\\user\\AppData\\Roaming\\nltk_data...\n",
      "[nltk_data]   Package wordnet is already up-to-date!\n"
     ]
    },
    {
     "data": {
      "text/plain": [
       "True"
      ]
     },
     "execution_count": 22,
     "metadata": {},
     "output_type": "execute_result"
    }
   ],
   "source": [
    "nltk.download('wordnet')"
   ]
  },
  {
   "cell_type": "code",
   "execution_count": 23,
   "id": "3f2ef702",
   "metadata": {
    "id": "3f2ef702"
   },
   "outputs": [],
   "source": [
    "wl = WordNetLemmatizer()"
   ]
  },
  {
   "cell_type": "code",
   "execution_count": 24,
   "id": "d775fbc0",
   "metadata": {
    "id": "d775fbc0"
   },
   "outputs": [],
   "source": [
    "df['text'] = df['text'].apply(lambda x: [wl.lemmatize(i) for i in x])"
   ]
  },
  {
   "cell_type": "code",
   "execution_count": 25,
   "id": "e2fd0e52",
   "metadata": {
    "id": "e2fd0e52"
   },
   "outputs": [],
   "source": [
    "df['text']=df['text'].apply(lambda x : ' '.join(x))"
   ]
  },
  {
   "cell_type": "code",
   "execution_count": 26,
   "id": "d624512b",
   "metadata": {
    "id": "d624512b"
   },
   "outputs": [],
   "source": [
    "df.to_csv('suicide_clean.csv')"
   ]
  },
  {
   "cell_type": "code",
   "execution_count": null,
   "id": "1d47426c",
   "metadata": {},
   "outputs": [],
   "source": [
    "df['text'] = np.where(df['text']=='',np.NaN,df['text'])"
   ]
  },
  {
   "cell_type": "code",
   "execution_count": null,
   "id": "640aabaa",
   "metadata": {},
   "outputs": [],
   "source": [
    "df.dropna(subset=['text'],inplace=True)"
   ]
  },
  {
   "cell_type": "code",
   "execution_count": 28,
   "id": "a6809471",
   "metadata": {},
   "outputs": [
    {
     "name": "stdout",
     "output_type": "stream",
     "text": [
      "<class 'pandas.core.frame.DataFrame'>\n",
      "RangeIndex: 1787 entries, 0 to 1786\n",
      "Data columns (total 2 columns):\n",
      " #   Column  Non-Null Count  Dtype \n",
      "---  ------  --------------  ----- \n",
      " 0   text    1787 non-null   object\n",
      " 1   class   1787 non-null   int32 \n",
      "dtypes: int32(1), object(1)\n",
      "memory usage: 21.1+ KB\n"
     ]
    }
   ],
   "source": [
    "df.info()"
   ]
  },
  {
   "cell_type": "code",
   "execution_count": null,
   "id": "dd58c319",
   "metadata": {},
   "outputs": [],
   "source": [
    "df.reset_index(drop=True,inplace=True)"
   ]
  },
  {
   "cell_type": "code",
   "execution_count": 29,
   "id": "b82a8d2c",
   "metadata": {},
   "outputs": [],
   "source": [
    "for i in range(len(df)) :\n",
    "    \n",
    "    txt = df.loc[i,'text']\n",
    "    d=dict()\n",
    "    d=lexicon.analyze(txt,normalize=True)\n",
    "    for k in d.keys() :\n",
    "        df.loc[i,k] = d[k]\n",
    "   "
   ]
  },
  {
   "cell_type": "code",
   "execution_count": 30,
   "id": "43bdac91",
   "metadata": {},
   "outputs": [
    {
     "name": "stdout",
     "output_type": "stream",
     "text": [
      "<class 'pandas.core.frame.DataFrame'>\n",
      "RangeIndex: 1787 entries, 0 to 1786\n",
      "Columns: 196 entries, text to musical\n",
      "dtypes: float64(194), int32(1), object(1)\n",
      "memory usage: 2.7+ MB\n"
     ]
    }
   ],
   "source": [
    "df.info()"
   ]
  },
  {
   "cell_type": "code",
   "execution_count": 31,
   "id": "c3fee9f9",
   "metadata": {},
   "outputs": [
    {
     "data": {
      "text/html": [
       "<div>\n",
       "<style scoped>\n",
       "    .dataframe tbody tr th:only-of-type {\n",
       "        vertical-align: middle;\n",
       "    }\n",
       "\n",
       "    .dataframe tbody tr th {\n",
       "        vertical-align: top;\n",
       "    }\n",
       "\n",
       "    .dataframe thead th {\n",
       "        text-align: right;\n",
       "    }\n",
       "</style>\n",
       "<table border=\"1\" class=\"dataframe\">\n",
       "  <thead>\n",
       "    <tr style=\"text-align: right;\">\n",
       "      <th></th>\n",
       "      <th>text</th>\n",
       "      <th>class</th>\n",
       "      <th>help</th>\n",
       "      <th>office</th>\n",
       "      <th>dance</th>\n",
       "      <th>money</th>\n",
       "      <th>wedding</th>\n",
       "      <th>domestic_work</th>\n",
       "      <th>sleep</th>\n",
       "      <th>medical_emergency</th>\n",
       "      <th>...</th>\n",
       "      <th>weapon</th>\n",
       "      <th>children</th>\n",
       "      <th>monster</th>\n",
       "      <th>ocean</th>\n",
       "      <th>giving</th>\n",
       "      <th>contentment</th>\n",
       "      <th>writing</th>\n",
       "      <th>rural</th>\n",
       "      <th>positive_emotion</th>\n",
       "      <th>musical</th>\n",
       "    </tr>\n",
       "  </thead>\n",
       "  <tbody>\n",
       "    <tr>\n",
       "      <th>0</th>\n",
       "      <td>making lunch</td>\n",
       "      <td>0</td>\n",
       "      <td>0.0</td>\n",
       "      <td>0.0</td>\n",
       "      <td>0.0</td>\n",
       "      <td>0.000000</td>\n",
       "      <td>0.0</td>\n",
       "      <td>0.0</td>\n",
       "      <td>0.0</td>\n",
       "      <td>0.0</td>\n",
       "      <td>...</td>\n",
       "      <td>0.0</td>\n",
       "      <td>0.0</td>\n",
       "      <td>0.0</td>\n",
       "      <td>0.0</td>\n",
       "      <td>0.0</td>\n",
       "      <td>0.0</td>\n",
       "      <td>0.0</td>\n",
       "      <td>0.0</td>\n",
       "      <td>0.0</td>\n",
       "      <td>0.0</td>\n",
       "    </tr>\n",
       "    <tr>\n",
       "      <th>1</th>\n",
       "      <td>alexia want money</td>\n",
       "      <td>0</td>\n",
       "      <td>0.0</td>\n",
       "      <td>0.0</td>\n",
       "      <td>0.0</td>\n",
       "      <td>0.333333</td>\n",
       "      <td>0.0</td>\n",
       "      <td>0.0</td>\n",
       "      <td>0.0</td>\n",
       "      <td>0.0</td>\n",
       "      <td>...</td>\n",
       "      <td>0.0</td>\n",
       "      <td>0.0</td>\n",
       "      <td>0.0</td>\n",
       "      <td>0.0</td>\n",
       "      <td>0.0</td>\n",
       "      <td>0.0</td>\n",
       "      <td>0.0</td>\n",
       "      <td>0.0</td>\n",
       "      <td>0.0</td>\n",
       "      <td>0.0</td>\n",
       "    </tr>\n",
       "    <tr>\n",
       "      <th>2</th>\n",
       "      <td>dizzyhrvy crap took forever put together going...</td>\n",
       "      <td>1</td>\n",
       "      <td>0.0</td>\n",
       "      <td>0.0</td>\n",
       "      <td>0.0</td>\n",
       "      <td>0.000000</td>\n",
       "      <td>0.0</td>\n",
       "      <td>0.0</td>\n",
       "      <td>0.1</td>\n",
       "      <td>0.0</td>\n",
       "      <td>...</td>\n",
       "      <td>0.0</td>\n",
       "      <td>0.0</td>\n",
       "      <td>0.0</td>\n",
       "      <td>0.0</td>\n",
       "      <td>0.0</td>\n",
       "      <td>0.0</td>\n",
       "      <td>0.0</td>\n",
       "      <td>0.0</td>\n",
       "      <td>0.0</td>\n",
       "      <td>0.0</td>\n",
       "    </tr>\n",
       "    <tr>\n",
       "      <th>3</th>\n",
       "      <td>jnaylor kiwitweets hey jer since start twittering</td>\n",
       "      <td>0</td>\n",
       "      <td>0.0</td>\n",
       "      <td>0.0</td>\n",
       "      <td>0.0</td>\n",
       "      <td>0.000000</td>\n",
       "      <td>0.0</td>\n",
       "      <td>0.0</td>\n",
       "      <td>0.0</td>\n",
       "      <td>0.0</td>\n",
       "      <td>...</td>\n",
       "      <td>0.0</td>\n",
       "      <td>0.0</td>\n",
       "      <td>0.0</td>\n",
       "      <td>0.0</td>\n",
       "      <td>0.0</td>\n",
       "      <td>0.0</td>\n",
       "      <td>0.0</td>\n",
       "      <td>0.0</td>\n",
       "      <td>0.0</td>\n",
       "      <td>0.0</td>\n",
       "    </tr>\n",
       "    <tr>\n",
       "      <th>4</th>\n",
       "      <td>trying quot delicious library quot mixed resul...</td>\n",
       "      <td>0</td>\n",
       "      <td>0.0</td>\n",
       "      <td>0.0</td>\n",
       "      <td>0.0</td>\n",
       "      <td>0.000000</td>\n",
       "      <td>0.0</td>\n",
       "      <td>0.0</td>\n",
       "      <td>0.0</td>\n",
       "      <td>0.0</td>\n",
       "      <td>...</td>\n",
       "      <td>0.0</td>\n",
       "      <td>0.0</td>\n",
       "      <td>0.0</td>\n",
       "      <td>0.0</td>\n",
       "      <td>0.0</td>\n",
       "      <td>0.0</td>\n",
       "      <td>0.0</td>\n",
       "      <td>0.0</td>\n",
       "      <td>0.0</td>\n",
       "      <td>0.0</td>\n",
       "    </tr>\n",
       "  </tbody>\n",
       "</table>\n",
       "<p>5 rows × 196 columns</p>\n",
       "</div>"
      ],
      "text/plain": [
       "                                                text  class  help  office  \\\n",
       "0                                       making lunch      0   0.0     0.0   \n",
       "1                                  alexia want money      0   0.0     0.0   \n",
       "2  dizzyhrvy crap took forever put together going...      1   0.0     0.0   \n",
       "3  jnaylor kiwitweets hey jer since start twittering      0   0.0     0.0   \n",
       "4  trying quot delicious library quot mixed resul...      0   0.0     0.0   \n",
       "\n",
       "   dance     money  wedding  domestic_work  sleep  medical_emergency  ...  \\\n",
       "0    0.0  0.000000      0.0            0.0    0.0                0.0  ...   \n",
       "1    0.0  0.333333      0.0            0.0    0.0                0.0  ...   \n",
       "2    0.0  0.000000      0.0            0.0    0.1                0.0  ...   \n",
       "3    0.0  0.000000      0.0            0.0    0.0                0.0  ...   \n",
       "4    0.0  0.000000      0.0            0.0    0.0                0.0  ...   \n",
       "\n",
       "   weapon  children  monster  ocean  giving  contentment  writing  rural  \\\n",
       "0     0.0       0.0      0.0    0.0     0.0          0.0      0.0    0.0   \n",
       "1     0.0       0.0      0.0    0.0     0.0          0.0      0.0    0.0   \n",
       "2     0.0       0.0      0.0    0.0     0.0          0.0      0.0    0.0   \n",
       "3     0.0       0.0      0.0    0.0     0.0          0.0      0.0    0.0   \n",
       "4     0.0       0.0      0.0    0.0     0.0          0.0      0.0    0.0   \n",
       "\n",
       "   positive_emotion  musical  \n",
       "0               0.0      0.0  \n",
       "1               0.0      0.0  \n",
       "2               0.0      0.0  \n",
       "3               0.0      0.0  \n",
       "4               0.0      0.0  \n",
       "\n",
       "[5 rows x 196 columns]"
      ]
     },
     "execution_count": 31,
     "metadata": {},
     "output_type": "execute_result"
    }
   ],
   "source": [
    "df.head()"
   ]
  },
  {
   "cell_type": "code",
   "execution_count": 32,
   "id": "a7ed5302",
   "metadata": {},
   "outputs": [],
   "source": [
    "df_corr = df.drop(columns=['text']).corr()"
   ]
  },
  {
   "cell_type": "code",
   "execution_count": 33,
   "id": "5606b6c2",
   "metadata": {},
   "outputs": [
    {
     "data": {
      "text/plain": [
       "negative_emotion     0.416247\n",
       "death                0.316546\n",
       "hate                 0.265771\n",
       "swearing_terms       0.262253\n",
       "kill                 0.252722\n",
       "medical_emergency    0.245316\n",
       "envy                 0.217391\n",
       "shame                0.199403\n",
       "violence             0.193108\n",
       "pain                 0.177900\n",
       "Name: class, dtype: float64"
      ]
     },
     "execution_count": 33,
     "metadata": {},
     "output_type": "execute_result"
    }
   ],
   "source": [
    "df_corr['class'].sort_values(ascending=False).head(11)[1:]"
   ]
  },
  {
   "cell_type": "code",
   "execution_count": 34,
   "id": "77d3f469",
   "metadata": {},
   "outputs": [
    {
     "data": {
      "text/plain": [
       "['negative_emotion',\n",
       " 'death',\n",
       " 'hate',\n",
       " 'swearing_terms',\n",
       " 'kill',\n",
       " 'medical_emergency',\n",
       " 'envy',\n",
       " 'shame',\n",
       " 'violence',\n",
       " 'pain']"
      ]
     },
     "execution_count": 34,
     "metadata": {},
     "output_type": "execute_result"
    }
   ],
   "source": [
    "top_pos_corr = df_corr['class'].sort_values(ascending=False).head(11)[1:].index.tolist()\n",
    "\n",
    "top_pos_corr"
   ]
  },
  {
   "cell_type": "code",
   "execution_count": 35,
   "id": "94e549db",
   "metadata": {},
   "outputs": [
    {
     "data": {
      "text/plain": [
       "['wedding',\n",
       " 'cheerfulness',\n",
       " 'childish',\n",
       " 'internet',\n",
       " 'party',\n",
       " 'friends',\n",
       " 'social_media',\n",
       " 'achievement',\n",
       " 'celebration',\n",
       " 'optimism']"
      ]
     },
     "execution_count": 35,
     "metadata": {},
     "output_type": "execute_result"
    }
   ],
   "source": [
    "top_neg_corr = df_corr['class'].sort_values(ascending=False).tail(10).index.tolist()\n",
    "\n",
    "top_neg_corr"
   ]
  },
  {
   "cell_type": "code",
   "execution_count": 36,
   "id": "f9a7cea0",
   "metadata": {},
   "outputs": [
    {
     "data": {
      "text/html": [
       "<div>\n",
       "<style scoped>\n",
       "    .dataframe tbody tr th:only-of-type {\n",
       "        vertical-align: middle;\n",
       "    }\n",
       "\n",
       "    .dataframe tbody tr th {\n",
       "        vertical-align: top;\n",
       "    }\n",
       "\n",
       "    .dataframe thead th {\n",
       "        text-align: right;\n",
       "    }\n",
       "</style>\n",
       "<table border=\"1\" class=\"dataframe\">\n",
       "  <thead>\n",
       "    <tr style=\"text-align: right;\">\n",
       "      <th></th>\n",
       "      <th>negative_emotion</th>\n",
       "      <th>death</th>\n",
       "      <th>hate</th>\n",
       "      <th>swearing_terms</th>\n",
       "      <th>kill</th>\n",
       "      <th>medical_emergency</th>\n",
       "      <th>envy</th>\n",
       "      <th>shame</th>\n",
       "      <th>violence</th>\n",
       "      <th>pain</th>\n",
       "      <th>wedding</th>\n",
       "      <th>cheerfulness</th>\n",
       "      <th>childish</th>\n",
       "      <th>internet</th>\n",
       "      <th>party</th>\n",
       "      <th>friends</th>\n",
       "      <th>social_media</th>\n",
       "      <th>achievement</th>\n",
       "      <th>celebration</th>\n",
       "      <th>optimism</th>\n",
       "    </tr>\n",
       "  </thead>\n",
       "  <tbody>\n",
       "    <tr>\n",
       "      <th>0</th>\n",
       "      <td>0.000000</td>\n",
       "      <td>0.0</td>\n",
       "      <td>0.0</td>\n",
       "      <td>0.0</td>\n",
       "      <td>0.0</td>\n",
       "      <td>0.0</td>\n",
       "      <td>0.0</td>\n",
       "      <td>0.0</td>\n",
       "      <td>0.0</td>\n",
       "      <td>0.0</td>\n",
       "      <td>0.0</td>\n",
       "      <td>0.0</td>\n",
       "      <td>0.000000</td>\n",
       "      <td>0.0</td>\n",
       "      <td>0.000000</td>\n",
       "      <td>0.000000</td>\n",
       "      <td>0.0</td>\n",
       "      <td>0.000000</td>\n",
       "      <td>0.0</td>\n",
       "      <td>0.000000</td>\n",
       "    </tr>\n",
       "    <tr>\n",
       "      <th>1</th>\n",
       "      <td>0.000000</td>\n",
       "      <td>0.0</td>\n",
       "      <td>0.0</td>\n",
       "      <td>0.0</td>\n",
       "      <td>0.0</td>\n",
       "      <td>0.0</td>\n",
       "      <td>0.0</td>\n",
       "      <td>0.0</td>\n",
       "      <td>0.0</td>\n",
       "      <td>0.0</td>\n",
       "      <td>0.0</td>\n",
       "      <td>0.0</td>\n",
       "      <td>0.000000</td>\n",
       "      <td>0.0</td>\n",
       "      <td>0.000000</td>\n",
       "      <td>0.000000</td>\n",
       "      <td>0.0</td>\n",
       "      <td>0.000000</td>\n",
       "      <td>0.0</td>\n",
       "      <td>0.000000</td>\n",
       "    </tr>\n",
       "    <tr>\n",
       "      <th>2</th>\n",
       "      <td>0.000000</td>\n",
       "      <td>0.0</td>\n",
       "      <td>0.0</td>\n",
       "      <td>0.1</td>\n",
       "      <td>0.0</td>\n",
       "      <td>0.0</td>\n",
       "      <td>0.0</td>\n",
       "      <td>0.0</td>\n",
       "      <td>0.0</td>\n",
       "      <td>0.0</td>\n",
       "      <td>0.0</td>\n",
       "      <td>0.0</td>\n",
       "      <td>0.000000</td>\n",
       "      <td>0.0</td>\n",
       "      <td>0.000000</td>\n",
       "      <td>0.000000</td>\n",
       "      <td>0.0</td>\n",
       "      <td>0.000000</td>\n",
       "      <td>0.0</td>\n",
       "      <td>0.000000</td>\n",
       "    </tr>\n",
       "    <tr>\n",
       "      <th>3</th>\n",
       "      <td>0.000000</td>\n",
       "      <td>0.0</td>\n",
       "      <td>0.0</td>\n",
       "      <td>0.0</td>\n",
       "      <td>0.0</td>\n",
       "      <td>0.0</td>\n",
       "      <td>0.0</td>\n",
       "      <td>0.0</td>\n",
       "      <td>0.0</td>\n",
       "      <td>0.0</td>\n",
       "      <td>0.0</td>\n",
       "      <td>0.0</td>\n",
       "      <td>0.000000</td>\n",
       "      <td>0.0</td>\n",
       "      <td>0.000000</td>\n",
       "      <td>0.000000</td>\n",
       "      <td>0.0</td>\n",
       "      <td>0.000000</td>\n",
       "      <td>0.0</td>\n",
       "      <td>0.000000</td>\n",
       "    </tr>\n",
       "    <tr>\n",
       "      <th>4</th>\n",
       "      <td>0.052632</td>\n",
       "      <td>0.0</td>\n",
       "      <td>0.0</td>\n",
       "      <td>0.0</td>\n",
       "      <td>0.0</td>\n",
       "      <td>0.0</td>\n",
       "      <td>0.0</td>\n",
       "      <td>0.0</td>\n",
       "      <td>0.0</td>\n",
       "      <td>0.0</td>\n",
       "      <td>0.0</td>\n",
       "      <td>0.0</td>\n",
       "      <td>0.000000</td>\n",
       "      <td>0.0</td>\n",
       "      <td>0.000000</td>\n",
       "      <td>0.000000</td>\n",
       "      <td>0.0</td>\n",
       "      <td>0.000000</td>\n",
       "      <td>0.0</td>\n",
       "      <td>0.000000</td>\n",
       "    </tr>\n",
       "    <tr>\n",
       "      <th>...</th>\n",
       "      <td>...</td>\n",
       "      <td>...</td>\n",
       "      <td>...</td>\n",
       "      <td>...</td>\n",
       "      <td>...</td>\n",
       "      <td>...</td>\n",
       "      <td>...</td>\n",
       "      <td>...</td>\n",
       "      <td>...</td>\n",
       "      <td>...</td>\n",
       "      <td>...</td>\n",
       "      <td>...</td>\n",
       "      <td>...</td>\n",
       "      <td>...</td>\n",
       "      <td>...</td>\n",
       "      <td>...</td>\n",
       "      <td>...</td>\n",
       "      <td>...</td>\n",
       "      <td>...</td>\n",
       "      <td>...</td>\n",
       "    </tr>\n",
       "    <tr>\n",
       "      <th>1782</th>\n",
       "      <td>0.000000</td>\n",
       "      <td>0.0</td>\n",
       "      <td>0.0</td>\n",
       "      <td>0.0</td>\n",
       "      <td>0.0</td>\n",
       "      <td>0.0</td>\n",
       "      <td>0.0</td>\n",
       "      <td>0.0</td>\n",
       "      <td>0.0</td>\n",
       "      <td>0.0</td>\n",
       "      <td>0.0</td>\n",
       "      <td>0.0</td>\n",
       "      <td>0.000000</td>\n",
       "      <td>0.0</td>\n",
       "      <td>0.000000</td>\n",
       "      <td>0.200000</td>\n",
       "      <td>0.0</td>\n",
       "      <td>0.000000</td>\n",
       "      <td>0.0</td>\n",
       "      <td>0.200000</td>\n",
       "    </tr>\n",
       "    <tr>\n",
       "      <th>1783</th>\n",
       "      <td>0.000000</td>\n",
       "      <td>0.0</td>\n",
       "      <td>0.0</td>\n",
       "      <td>0.0</td>\n",
       "      <td>0.0</td>\n",
       "      <td>0.0</td>\n",
       "      <td>0.0</td>\n",
       "      <td>0.0</td>\n",
       "      <td>0.0</td>\n",
       "      <td>0.0</td>\n",
       "      <td>0.0</td>\n",
       "      <td>0.0</td>\n",
       "      <td>0.000000</td>\n",
       "      <td>0.0</td>\n",
       "      <td>0.000000</td>\n",
       "      <td>0.000000</td>\n",
       "      <td>0.0</td>\n",
       "      <td>0.285714</td>\n",
       "      <td>0.0</td>\n",
       "      <td>0.142857</td>\n",
       "    </tr>\n",
       "    <tr>\n",
       "      <th>1784</th>\n",
       "      <td>0.000000</td>\n",
       "      <td>0.0</td>\n",
       "      <td>0.0</td>\n",
       "      <td>0.0</td>\n",
       "      <td>0.0</td>\n",
       "      <td>0.0</td>\n",
       "      <td>0.0</td>\n",
       "      <td>0.0</td>\n",
       "      <td>0.0</td>\n",
       "      <td>0.0</td>\n",
       "      <td>0.0</td>\n",
       "      <td>0.0</td>\n",
       "      <td>0.166667</td>\n",
       "      <td>0.0</td>\n",
       "      <td>0.000000</td>\n",
       "      <td>0.166667</td>\n",
       "      <td>0.0</td>\n",
       "      <td>0.000000</td>\n",
       "      <td>0.0</td>\n",
       "      <td>0.000000</td>\n",
       "    </tr>\n",
       "    <tr>\n",
       "      <th>1785</th>\n",
       "      <td>0.071429</td>\n",
       "      <td>0.0</td>\n",
       "      <td>0.0</td>\n",
       "      <td>0.0</td>\n",
       "      <td>0.0</td>\n",
       "      <td>0.0</td>\n",
       "      <td>0.0</td>\n",
       "      <td>0.0</td>\n",
       "      <td>0.0</td>\n",
       "      <td>0.0</td>\n",
       "      <td>0.0</td>\n",
       "      <td>0.0</td>\n",
       "      <td>0.000000</td>\n",
       "      <td>0.0</td>\n",
       "      <td>0.071429</td>\n",
       "      <td>0.000000</td>\n",
       "      <td>0.0</td>\n",
       "      <td>0.000000</td>\n",
       "      <td>0.0</td>\n",
       "      <td>0.071429</td>\n",
       "    </tr>\n",
       "    <tr>\n",
       "      <th>1786</th>\n",
       "      <td>0.000000</td>\n",
       "      <td>0.0</td>\n",
       "      <td>0.0</td>\n",
       "      <td>0.0</td>\n",
       "      <td>0.0</td>\n",
       "      <td>0.0</td>\n",
       "      <td>0.0</td>\n",
       "      <td>0.0</td>\n",
       "      <td>0.0</td>\n",
       "      <td>0.0</td>\n",
       "      <td>0.0</td>\n",
       "      <td>0.0</td>\n",
       "      <td>0.000000</td>\n",
       "      <td>0.0</td>\n",
       "      <td>0.000000</td>\n",
       "      <td>0.111111</td>\n",
       "      <td>0.0</td>\n",
       "      <td>0.000000</td>\n",
       "      <td>0.0</td>\n",
       "      <td>0.111111</td>\n",
       "    </tr>\n",
       "  </tbody>\n",
       "</table>\n",
       "<p>1787 rows × 20 columns</p>\n",
       "</div>"
      ],
      "text/plain": [
       "      negative_emotion  death  hate  swearing_terms  kill  medical_emergency  \\\n",
       "0             0.000000    0.0   0.0             0.0   0.0                0.0   \n",
       "1             0.000000    0.0   0.0             0.0   0.0                0.0   \n",
       "2             0.000000    0.0   0.0             0.1   0.0                0.0   \n",
       "3             0.000000    0.0   0.0             0.0   0.0                0.0   \n",
       "4             0.052632    0.0   0.0             0.0   0.0                0.0   \n",
       "...                ...    ...   ...             ...   ...                ...   \n",
       "1782          0.000000    0.0   0.0             0.0   0.0                0.0   \n",
       "1783          0.000000    0.0   0.0             0.0   0.0                0.0   \n",
       "1784          0.000000    0.0   0.0             0.0   0.0                0.0   \n",
       "1785          0.071429    0.0   0.0             0.0   0.0                0.0   \n",
       "1786          0.000000    0.0   0.0             0.0   0.0                0.0   \n",
       "\n",
       "      envy  shame  violence  pain  wedding  cheerfulness  childish  internet  \\\n",
       "0      0.0    0.0       0.0   0.0      0.0           0.0  0.000000       0.0   \n",
       "1      0.0    0.0       0.0   0.0      0.0           0.0  0.000000       0.0   \n",
       "2      0.0    0.0       0.0   0.0      0.0           0.0  0.000000       0.0   \n",
       "3      0.0    0.0       0.0   0.0      0.0           0.0  0.000000       0.0   \n",
       "4      0.0    0.0       0.0   0.0      0.0           0.0  0.000000       0.0   \n",
       "...    ...    ...       ...   ...      ...           ...       ...       ...   \n",
       "1782   0.0    0.0       0.0   0.0      0.0           0.0  0.000000       0.0   \n",
       "1783   0.0    0.0       0.0   0.0      0.0           0.0  0.000000       0.0   \n",
       "1784   0.0    0.0       0.0   0.0      0.0           0.0  0.166667       0.0   \n",
       "1785   0.0    0.0       0.0   0.0      0.0           0.0  0.000000       0.0   \n",
       "1786   0.0    0.0       0.0   0.0      0.0           0.0  0.000000       0.0   \n",
       "\n",
       "         party   friends  social_media  achievement  celebration  optimism  \n",
       "0     0.000000  0.000000           0.0     0.000000          0.0  0.000000  \n",
       "1     0.000000  0.000000           0.0     0.000000          0.0  0.000000  \n",
       "2     0.000000  0.000000           0.0     0.000000          0.0  0.000000  \n",
       "3     0.000000  0.000000           0.0     0.000000          0.0  0.000000  \n",
       "4     0.000000  0.000000           0.0     0.000000          0.0  0.000000  \n",
       "...        ...       ...           ...          ...          ...       ...  \n",
       "1782  0.000000  0.200000           0.0     0.000000          0.0  0.200000  \n",
       "1783  0.000000  0.000000           0.0     0.285714          0.0  0.142857  \n",
       "1784  0.000000  0.166667           0.0     0.000000          0.0  0.000000  \n",
       "1785  0.071429  0.000000           0.0     0.000000          0.0  0.071429  \n",
       "1786  0.000000  0.111111           0.0     0.000000          0.0  0.111111  \n",
       "\n",
       "[1787 rows x 20 columns]"
      ]
     },
     "execution_count": 36,
     "metadata": {},
     "output_type": "execute_result"
    }
   ],
   "source": [
    "df[top_pos_corr+top_neg_corr]"
   ]
  },
  {
   "cell_type": "code",
   "execution_count": 37,
   "id": "66e55b3c",
   "metadata": {},
   "outputs": [
    {
     "data": {
      "text/html": [
       "<div>\n",
       "<style scoped>\n",
       "    .dataframe tbody tr th:only-of-type {\n",
       "        vertical-align: middle;\n",
       "    }\n",
       "\n",
       "    .dataframe tbody tr th {\n",
       "        vertical-align: top;\n",
       "    }\n",
       "\n",
       "    .dataframe thead th {\n",
       "        text-align: right;\n",
       "    }\n",
       "</style>\n",
       "<table border=\"1\" class=\"dataframe\">\n",
       "  <thead>\n",
       "    <tr style=\"text-align: right;\">\n",
       "      <th></th>\n",
       "      <th>negative_emotion</th>\n",
       "      <th>death</th>\n",
       "      <th>hate</th>\n",
       "      <th>swearing_terms</th>\n",
       "      <th>kill</th>\n",
       "      <th>medical_emergency</th>\n",
       "      <th>envy</th>\n",
       "      <th>shame</th>\n",
       "      <th>violence</th>\n",
       "      <th>pain</th>\n",
       "      <th>wedding</th>\n",
       "      <th>cheerfulness</th>\n",
       "      <th>childish</th>\n",
       "      <th>internet</th>\n",
       "      <th>party</th>\n",
       "      <th>friends</th>\n",
       "      <th>social_media</th>\n",
       "      <th>achievement</th>\n",
       "      <th>celebration</th>\n",
       "      <th>optimism</th>\n",
       "    </tr>\n",
       "  </thead>\n",
       "  <tbody>\n",
       "    <tr>\n",
       "      <th>0</th>\n",
       "      <td>0.000000</td>\n",
       "      <td>0.0</td>\n",
       "      <td>0.0</td>\n",
       "      <td>0.0</td>\n",
       "      <td>0.0</td>\n",
       "      <td>0.0</td>\n",
       "      <td>0.0</td>\n",
       "      <td>0.0</td>\n",
       "      <td>0.0</td>\n",
       "      <td>0.0</td>\n",
       "      <td>0.0</td>\n",
       "      <td>0.0</td>\n",
       "      <td>0.000000</td>\n",
       "      <td>0.0</td>\n",
       "      <td>0.000000</td>\n",
       "      <td>0.000000</td>\n",
       "      <td>0.0</td>\n",
       "      <td>0.000000</td>\n",
       "      <td>0.0</td>\n",
       "      <td>0.000000</td>\n",
       "    </tr>\n",
       "    <tr>\n",
       "      <th>1</th>\n",
       "      <td>0.000000</td>\n",
       "      <td>0.0</td>\n",
       "      <td>0.0</td>\n",
       "      <td>0.0</td>\n",
       "      <td>0.0</td>\n",
       "      <td>0.0</td>\n",
       "      <td>0.0</td>\n",
       "      <td>0.0</td>\n",
       "      <td>0.0</td>\n",
       "      <td>0.0</td>\n",
       "      <td>0.0</td>\n",
       "      <td>0.0</td>\n",
       "      <td>0.000000</td>\n",
       "      <td>0.0</td>\n",
       "      <td>0.000000</td>\n",
       "      <td>0.000000</td>\n",
       "      <td>0.0</td>\n",
       "      <td>0.000000</td>\n",
       "      <td>0.0</td>\n",
       "      <td>0.000000</td>\n",
       "    </tr>\n",
       "    <tr>\n",
       "      <th>2</th>\n",
       "      <td>0.000000</td>\n",
       "      <td>0.0</td>\n",
       "      <td>0.0</td>\n",
       "      <td>0.1</td>\n",
       "      <td>0.0</td>\n",
       "      <td>0.0</td>\n",
       "      <td>0.0</td>\n",
       "      <td>0.0</td>\n",
       "      <td>0.0</td>\n",
       "      <td>0.0</td>\n",
       "      <td>0.0</td>\n",
       "      <td>0.0</td>\n",
       "      <td>0.000000</td>\n",
       "      <td>0.0</td>\n",
       "      <td>0.000000</td>\n",
       "      <td>0.000000</td>\n",
       "      <td>0.0</td>\n",
       "      <td>0.000000</td>\n",
       "      <td>0.0</td>\n",
       "      <td>0.000000</td>\n",
       "    </tr>\n",
       "    <tr>\n",
       "      <th>3</th>\n",
       "      <td>0.000000</td>\n",
       "      <td>0.0</td>\n",
       "      <td>0.0</td>\n",
       "      <td>0.0</td>\n",
       "      <td>0.0</td>\n",
       "      <td>0.0</td>\n",
       "      <td>0.0</td>\n",
       "      <td>0.0</td>\n",
       "      <td>0.0</td>\n",
       "      <td>0.0</td>\n",
       "      <td>0.0</td>\n",
       "      <td>0.0</td>\n",
       "      <td>0.000000</td>\n",
       "      <td>0.0</td>\n",
       "      <td>0.000000</td>\n",
       "      <td>0.000000</td>\n",
       "      <td>0.0</td>\n",
       "      <td>0.000000</td>\n",
       "      <td>0.0</td>\n",
       "      <td>0.000000</td>\n",
       "    </tr>\n",
       "    <tr>\n",
       "      <th>4</th>\n",
       "      <td>0.052632</td>\n",
       "      <td>0.0</td>\n",
       "      <td>0.0</td>\n",
       "      <td>0.0</td>\n",
       "      <td>0.0</td>\n",
       "      <td>0.0</td>\n",
       "      <td>0.0</td>\n",
       "      <td>0.0</td>\n",
       "      <td>0.0</td>\n",
       "      <td>0.0</td>\n",
       "      <td>0.0</td>\n",
       "      <td>0.0</td>\n",
       "      <td>0.000000</td>\n",
       "      <td>0.0</td>\n",
       "      <td>0.000000</td>\n",
       "      <td>0.000000</td>\n",
       "      <td>0.0</td>\n",
       "      <td>0.000000</td>\n",
       "      <td>0.0</td>\n",
       "      <td>0.000000</td>\n",
       "    </tr>\n",
       "    <tr>\n",
       "      <th>...</th>\n",
       "      <td>...</td>\n",
       "      <td>...</td>\n",
       "      <td>...</td>\n",
       "      <td>...</td>\n",
       "      <td>...</td>\n",
       "      <td>...</td>\n",
       "      <td>...</td>\n",
       "      <td>...</td>\n",
       "      <td>...</td>\n",
       "      <td>...</td>\n",
       "      <td>...</td>\n",
       "      <td>...</td>\n",
       "      <td>...</td>\n",
       "      <td>...</td>\n",
       "      <td>...</td>\n",
       "      <td>...</td>\n",
       "      <td>...</td>\n",
       "      <td>...</td>\n",
       "      <td>...</td>\n",
       "      <td>...</td>\n",
       "    </tr>\n",
       "    <tr>\n",
       "      <th>1782</th>\n",
       "      <td>0.000000</td>\n",
       "      <td>0.0</td>\n",
       "      <td>0.0</td>\n",
       "      <td>0.0</td>\n",
       "      <td>0.0</td>\n",
       "      <td>0.0</td>\n",
       "      <td>0.0</td>\n",
       "      <td>0.0</td>\n",
       "      <td>0.0</td>\n",
       "      <td>0.0</td>\n",
       "      <td>0.0</td>\n",
       "      <td>0.0</td>\n",
       "      <td>0.000000</td>\n",
       "      <td>0.0</td>\n",
       "      <td>0.000000</td>\n",
       "      <td>0.200000</td>\n",
       "      <td>0.0</td>\n",
       "      <td>0.000000</td>\n",
       "      <td>0.0</td>\n",
       "      <td>0.200000</td>\n",
       "    </tr>\n",
       "    <tr>\n",
       "      <th>1783</th>\n",
       "      <td>0.000000</td>\n",
       "      <td>0.0</td>\n",
       "      <td>0.0</td>\n",
       "      <td>0.0</td>\n",
       "      <td>0.0</td>\n",
       "      <td>0.0</td>\n",
       "      <td>0.0</td>\n",
       "      <td>0.0</td>\n",
       "      <td>0.0</td>\n",
       "      <td>0.0</td>\n",
       "      <td>0.0</td>\n",
       "      <td>0.0</td>\n",
       "      <td>0.000000</td>\n",
       "      <td>0.0</td>\n",
       "      <td>0.000000</td>\n",
       "      <td>0.000000</td>\n",
       "      <td>0.0</td>\n",
       "      <td>0.285714</td>\n",
       "      <td>0.0</td>\n",
       "      <td>0.142857</td>\n",
       "    </tr>\n",
       "    <tr>\n",
       "      <th>1784</th>\n",
       "      <td>0.000000</td>\n",
       "      <td>0.0</td>\n",
       "      <td>0.0</td>\n",
       "      <td>0.0</td>\n",
       "      <td>0.0</td>\n",
       "      <td>0.0</td>\n",
       "      <td>0.0</td>\n",
       "      <td>0.0</td>\n",
       "      <td>0.0</td>\n",
       "      <td>0.0</td>\n",
       "      <td>0.0</td>\n",
       "      <td>0.0</td>\n",
       "      <td>0.166667</td>\n",
       "      <td>0.0</td>\n",
       "      <td>0.000000</td>\n",
       "      <td>0.166667</td>\n",
       "      <td>0.0</td>\n",
       "      <td>0.000000</td>\n",
       "      <td>0.0</td>\n",
       "      <td>0.000000</td>\n",
       "    </tr>\n",
       "    <tr>\n",
       "      <th>1785</th>\n",
       "      <td>0.071429</td>\n",
       "      <td>0.0</td>\n",
       "      <td>0.0</td>\n",
       "      <td>0.0</td>\n",
       "      <td>0.0</td>\n",
       "      <td>0.0</td>\n",
       "      <td>0.0</td>\n",
       "      <td>0.0</td>\n",
       "      <td>0.0</td>\n",
       "      <td>0.0</td>\n",
       "      <td>0.0</td>\n",
       "      <td>0.0</td>\n",
       "      <td>0.000000</td>\n",
       "      <td>0.0</td>\n",
       "      <td>0.071429</td>\n",
       "      <td>0.000000</td>\n",
       "      <td>0.0</td>\n",
       "      <td>0.000000</td>\n",
       "      <td>0.0</td>\n",
       "      <td>0.071429</td>\n",
       "    </tr>\n",
       "    <tr>\n",
       "      <th>1786</th>\n",
       "      <td>0.000000</td>\n",
       "      <td>0.0</td>\n",
       "      <td>0.0</td>\n",
       "      <td>0.0</td>\n",
       "      <td>0.0</td>\n",
       "      <td>0.0</td>\n",
       "      <td>0.0</td>\n",
       "      <td>0.0</td>\n",
       "      <td>0.0</td>\n",
       "      <td>0.0</td>\n",
       "      <td>0.0</td>\n",
       "      <td>0.0</td>\n",
       "      <td>0.000000</td>\n",
       "      <td>0.0</td>\n",
       "      <td>0.000000</td>\n",
       "      <td>0.111111</td>\n",
       "      <td>0.0</td>\n",
       "      <td>0.000000</td>\n",
       "      <td>0.0</td>\n",
       "      <td>0.111111</td>\n",
       "    </tr>\n",
       "  </tbody>\n",
       "</table>\n",
       "<p>1787 rows × 20 columns</p>\n",
       "</div>"
      ],
      "text/plain": [
       "      negative_emotion  death  hate  swearing_terms  kill  medical_emergency  \\\n",
       "0             0.000000    0.0   0.0             0.0   0.0                0.0   \n",
       "1             0.000000    0.0   0.0             0.0   0.0                0.0   \n",
       "2             0.000000    0.0   0.0             0.1   0.0                0.0   \n",
       "3             0.000000    0.0   0.0             0.0   0.0                0.0   \n",
       "4             0.052632    0.0   0.0             0.0   0.0                0.0   \n",
       "...                ...    ...   ...             ...   ...                ...   \n",
       "1782          0.000000    0.0   0.0             0.0   0.0                0.0   \n",
       "1783          0.000000    0.0   0.0             0.0   0.0                0.0   \n",
       "1784          0.000000    0.0   0.0             0.0   0.0                0.0   \n",
       "1785          0.071429    0.0   0.0             0.0   0.0                0.0   \n",
       "1786          0.000000    0.0   0.0             0.0   0.0                0.0   \n",
       "\n",
       "      envy  shame  violence  pain  wedding  cheerfulness  childish  internet  \\\n",
       "0      0.0    0.0       0.0   0.0      0.0           0.0  0.000000       0.0   \n",
       "1      0.0    0.0       0.0   0.0      0.0           0.0  0.000000       0.0   \n",
       "2      0.0    0.0       0.0   0.0      0.0           0.0  0.000000       0.0   \n",
       "3      0.0    0.0       0.0   0.0      0.0           0.0  0.000000       0.0   \n",
       "4      0.0    0.0       0.0   0.0      0.0           0.0  0.000000       0.0   \n",
       "...    ...    ...       ...   ...      ...           ...       ...       ...   \n",
       "1782   0.0    0.0       0.0   0.0      0.0           0.0  0.000000       0.0   \n",
       "1783   0.0    0.0       0.0   0.0      0.0           0.0  0.000000       0.0   \n",
       "1784   0.0    0.0       0.0   0.0      0.0           0.0  0.166667       0.0   \n",
       "1785   0.0    0.0       0.0   0.0      0.0           0.0  0.000000       0.0   \n",
       "1786   0.0    0.0       0.0   0.0      0.0           0.0  0.000000       0.0   \n",
       "\n",
       "         party   friends  social_media  achievement  celebration  optimism  \n",
       "0     0.000000  0.000000           0.0     0.000000          0.0  0.000000  \n",
       "1     0.000000  0.000000           0.0     0.000000          0.0  0.000000  \n",
       "2     0.000000  0.000000           0.0     0.000000          0.0  0.000000  \n",
       "3     0.000000  0.000000           0.0     0.000000          0.0  0.000000  \n",
       "4     0.000000  0.000000           0.0     0.000000          0.0  0.000000  \n",
       "...        ...       ...           ...          ...          ...       ...  \n",
       "1782  0.000000  0.200000           0.0     0.000000          0.0  0.200000  \n",
       "1783  0.000000  0.000000           0.0     0.285714          0.0  0.142857  \n",
       "1784  0.000000  0.166667           0.0     0.000000          0.0  0.000000  \n",
       "1785  0.071429  0.000000           0.0     0.000000          0.0  0.071429  \n",
       "1786  0.000000  0.111111           0.0     0.000000          0.0  0.111111  \n",
       "\n",
       "[1787 rows x 20 columns]"
      ]
     },
     "execution_count": 37,
     "metadata": {},
     "output_type": "execute_result"
    }
   ],
   "source": [
    "df_2 = df[top_pos_corr+top_neg_corr]\n",
    "\n",
    "df_2"
   ]
  },
  {
   "cell_type": "code",
   "execution_count": 38,
   "id": "3fdec3a3",
   "metadata": {
    "id": "3fdec3a3"
   },
   "outputs": [],
   "source": [
    "# from sklearn.preprocessing import LabelEncoder\n",
    "\n",
    "# le=LabelEncoder()\n",
    "\n",
    "# df['class']=le.fit_transform(df['class'])"
   ]
  },
  {
   "cell_type": "code",
   "execution_count": 39,
   "id": "a0f09a73",
   "metadata": {
    "colab": {
     "base_uri": "https://localhost:8080/"
    },
    "id": "a0f09a73",
    "outputId": "32d22cb6-c487-4ac9-db0d-fa1b104f9cb9"
   },
   "outputs": [],
   "source": [
    "# df['class'].value_counts()"
   ]
  },
  {
   "cell_type": "code",
   "execution_count": 40,
   "id": "0e4e679c",
   "metadata": {
    "id": "0e4e679c"
   },
   "outputs": [],
   "source": [
    "X = df['text']\n",
    "# y = df['class']"
   ]
  },
  {
   "cell_type": "code",
   "execution_count": 41,
   "id": "7386653b",
   "metadata": {
    "id": "7386653b"
   },
   "outputs": [],
   "source": [
    "vectorizer = TfidfVectorizer(min_df=50,max_features=6000,ngram_range=(1,2))\n",
    "x =  vectorizer.fit_transform(X).toarray()"
   ]
  },
  {
   "cell_type": "code",
   "execution_count": 42,
   "id": "ab609205",
   "metadata": {},
   "outputs": [
    {
     "data": {
      "text/plain": [
       "{'want': 38,\n",
       " 'going': 13,\n",
       " 'go': 12,\n",
       " 'day': 5,\n",
       " 'good': 14,\n",
       " 'got': 15,\n",
       " 'na': 27,\n",
       " 'one': 29,\n",
       " 'people': 30,\n",
       " 'co': 3,\n",
       " 'time': 35,\n",
       " 'hate': 16,\n",
       " 'life': 21,\n",
       " 'die': 6,\n",
       " 'tired': 36,\n",
       " 'everything': 8,\n",
       " 'like': 22,\n",
       " 'rt': 32,\n",
       " 'never': 28,\n",
       " 'dont': 7,\n",
       " 'anymore': 1,\n",
       " 'fucking': 10,\n",
       " 'kill': 19,\n",
       " 'im': 18,\n",
       " 'love': 24,\n",
       " 'much': 26,\n",
       " 'living': 23,\n",
       " 'get': 11,\n",
       " 'know': 20,\n",
       " 'http': 17,\n",
       " 'really': 31,\n",
       " 'think': 34,\n",
       " 'today': 37,\n",
       " 'see': 33,\n",
       " 'feel': 9,\n",
       " 'damn': 4,\n",
       " 'cant': 2,\n",
       " 'amp': 0,\n",
       " 'work': 39,\n",
       " 'make': 25}"
      ]
     },
     "execution_count": 42,
     "metadata": {},
     "output_type": "execute_result"
    }
   ],
   "source": [
    "vectorizer.vocabulary_"
   ]
  },
  {
   "cell_type": "code",
   "execution_count": 43,
   "id": "9165d5e1",
   "metadata": {},
   "outputs": [],
   "source": [
    "df_3 = pd.DataFrame(x, columns=vectorizer.vocabulary_)"
   ]
  },
  {
   "cell_type": "code",
   "execution_count": 44,
   "id": "f4770187",
   "metadata": {},
   "outputs": [
    {
     "data": {
      "text/html": [
       "<div>\n",
       "<style scoped>\n",
       "    .dataframe tbody tr th:only-of-type {\n",
       "        vertical-align: middle;\n",
       "    }\n",
       "\n",
       "    .dataframe tbody tr th {\n",
       "        vertical-align: top;\n",
       "    }\n",
       "\n",
       "    .dataframe thead th {\n",
       "        text-align: right;\n",
       "    }\n",
       "</style>\n",
       "<table border=\"1\" class=\"dataframe\">\n",
       "  <thead>\n",
       "    <tr style=\"text-align: right;\">\n",
       "      <th></th>\n",
       "      <th>want</th>\n",
       "      <th>going</th>\n",
       "      <th>go</th>\n",
       "      <th>day</th>\n",
       "      <th>good</th>\n",
       "      <th>got</th>\n",
       "      <th>na</th>\n",
       "      <th>one</th>\n",
       "      <th>people</th>\n",
       "      <th>co</th>\n",
       "      <th>...</th>\n",
       "      <th>really</th>\n",
       "      <th>think</th>\n",
       "      <th>today</th>\n",
       "      <th>see</th>\n",
       "      <th>feel</th>\n",
       "      <th>damn</th>\n",
       "      <th>cant</th>\n",
       "      <th>amp</th>\n",
       "      <th>work</th>\n",
       "      <th>make</th>\n",
       "    </tr>\n",
       "  </thead>\n",
       "  <tbody>\n",
       "    <tr>\n",
       "      <th>0</th>\n",
       "      <td>0.0</td>\n",
       "      <td>0.0</td>\n",
       "      <td>0.0</td>\n",
       "      <td>0.0</td>\n",
       "      <td>0.0</td>\n",
       "      <td>0.000000</td>\n",
       "      <td>0.0</td>\n",
       "      <td>0.0</td>\n",
       "      <td>0.0</td>\n",
       "      <td>0.0</td>\n",
       "      <td>...</td>\n",
       "      <td>0.0</td>\n",
       "      <td>0.0</td>\n",
       "      <td>0.0</td>\n",
       "      <td>0.0</td>\n",
       "      <td>0.0</td>\n",
       "      <td>0.000000</td>\n",
       "      <td>0.0</td>\n",
       "      <td>0.0</td>\n",
       "      <td>0.0</td>\n",
       "      <td>0.0</td>\n",
       "    </tr>\n",
       "    <tr>\n",
       "      <th>1</th>\n",
       "      <td>0.0</td>\n",
       "      <td>0.0</td>\n",
       "      <td>0.0</td>\n",
       "      <td>0.0</td>\n",
       "      <td>0.0</td>\n",
       "      <td>0.000000</td>\n",
       "      <td>0.0</td>\n",
       "      <td>0.0</td>\n",
       "      <td>0.0</td>\n",
       "      <td>0.0</td>\n",
       "      <td>...</td>\n",
       "      <td>0.0</td>\n",
       "      <td>0.0</td>\n",
       "      <td>0.0</td>\n",
       "      <td>0.0</td>\n",
       "      <td>0.0</td>\n",
       "      <td>0.000000</td>\n",
       "      <td>0.0</td>\n",
       "      <td>0.0</td>\n",
       "      <td>1.0</td>\n",
       "      <td>0.0</td>\n",
       "    </tr>\n",
       "    <tr>\n",
       "      <th>2</th>\n",
       "      <td>0.0</td>\n",
       "      <td>0.0</td>\n",
       "      <td>0.0</td>\n",
       "      <td>0.0</td>\n",
       "      <td>0.0</td>\n",
       "      <td>0.548807</td>\n",
       "      <td>0.0</td>\n",
       "      <td>0.0</td>\n",
       "      <td>0.0</td>\n",
       "      <td>0.0</td>\n",
       "      <td>...</td>\n",
       "      <td>0.0</td>\n",
       "      <td>0.0</td>\n",
       "      <td>0.0</td>\n",
       "      <td>0.0</td>\n",
       "      <td>0.0</td>\n",
       "      <td>0.000000</td>\n",
       "      <td>0.0</td>\n",
       "      <td>0.0</td>\n",
       "      <td>0.0</td>\n",
       "      <td>0.0</td>\n",
       "    </tr>\n",
       "    <tr>\n",
       "      <th>3</th>\n",
       "      <td>0.0</td>\n",
       "      <td>0.0</td>\n",
       "      <td>0.0</td>\n",
       "      <td>0.0</td>\n",
       "      <td>0.0</td>\n",
       "      <td>0.000000</td>\n",
       "      <td>0.0</td>\n",
       "      <td>0.0</td>\n",
       "      <td>0.0</td>\n",
       "      <td>0.0</td>\n",
       "      <td>...</td>\n",
       "      <td>0.0</td>\n",
       "      <td>0.0</td>\n",
       "      <td>0.0</td>\n",
       "      <td>0.0</td>\n",
       "      <td>0.0</td>\n",
       "      <td>0.000000</td>\n",
       "      <td>0.0</td>\n",
       "      <td>0.0</td>\n",
       "      <td>0.0</td>\n",
       "      <td>0.0</td>\n",
       "    </tr>\n",
       "    <tr>\n",
       "      <th>4</th>\n",
       "      <td>0.0</td>\n",
       "      <td>0.0</td>\n",
       "      <td>0.0</td>\n",
       "      <td>0.0</td>\n",
       "      <td>0.0</td>\n",
       "      <td>0.000000</td>\n",
       "      <td>0.0</td>\n",
       "      <td>0.0</td>\n",
       "      <td>0.0</td>\n",
       "      <td>0.0</td>\n",
       "      <td>...</td>\n",
       "      <td>0.0</td>\n",
       "      <td>0.0</td>\n",
       "      <td>0.0</td>\n",
       "      <td>0.0</td>\n",
       "      <td>0.0</td>\n",
       "      <td>0.000000</td>\n",
       "      <td>0.0</td>\n",
       "      <td>0.0</td>\n",
       "      <td>0.0</td>\n",
       "      <td>0.0</td>\n",
       "    </tr>\n",
       "    <tr>\n",
       "      <th>...</th>\n",
       "      <td>...</td>\n",
       "      <td>...</td>\n",
       "      <td>...</td>\n",
       "      <td>...</td>\n",
       "      <td>...</td>\n",
       "      <td>...</td>\n",
       "      <td>...</td>\n",
       "      <td>...</td>\n",
       "      <td>...</td>\n",
       "      <td>...</td>\n",
       "      <td>...</td>\n",
       "      <td>...</td>\n",
       "      <td>...</td>\n",
       "      <td>...</td>\n",
       "      <td>...</td>\n",
       "      <td>...</td>\n",
       "      <td>...</td>\n",
       "      <td>...</td>\n",
       "      <td>...</td>\n",
       "      <td>...</td>\n",
       "      <td>...</td>\n",
       "    </tr>\n",
       "    <tr>\n",
       "      <th>1782</th>\n",
       "      <td>0.0</td>\n",
       "      <td>0.0</td>\n",
       "      <td>0.0</td>\n",
       "      <td>0.0</td>\n",
       "      <td>0.0</td>\n",
       "      <td>0.000000</td>\n",
       "      <td>0.0</td>\n",
       "      <td>0.0</td>\n",
       "      <td>0.0</td>\n",
       "      <td>0.0</td>\n",
       "      <td>...</td>\n",
       "      <td>0.0</td>\n",
       "      <td>0.0</td>\n",
       "      <td>0.0</td>\n",
       "      <td>0.0</td>\n",
       "      <td>0.0</td>\n",
       "      <td>0.000000</td>\n",
       "      <td>0.0</td>\n",
       "      <td>0.0</td>\n",
       "      <td>0.0</td>\n",
       "      <td>0.0</td>\n",
       "    </tr>\n",
       "    <tr>\n",
       "      <th>1783</th>\n",
       "      <td>0.0</td>\n",
       "      <td>0.0</td>\n",
       "      <td>0.0</td>\n",
       "      <td>0.0</td>\n",
       "      <td>0.0</td>\n",
       "      <td>1.000000</td>\n",
       "      <td>0.0</td>\n",
       "      <td>0.0</td>\n",
       "      <td>0.0</td>\n",
       "      <td>0.0</td>\n",
       "      <td>...</td>\n",
       "      <td>0.0</td>\n",
       "      <td>0.0</td>\n",
       "      <td>0.0</td>\n",
       "      <td>0.0</td>\n",
       "      <td>0.0</td>\n",
       "      <td>0.000000</td>\n",
       "      <td>0.0</td>\n",
       "      <td>0.0</td>\n",
       "      <td>0.0</td>\n",
       "      <td>0.0</td>\n",
       "    </tr>\n",
       "    <tr>\n",
       "      <th>1784</th>\n",
       "      <td>0.0</td>\n",
       "      <td>0.0</td>\n",
       "      <td>0.0</td>\n",
       "      <td>0.0</td>\n",
       "      <td>0.0</td>\n",
       "      <td>0.000000</td>\n",
       "      <td>0.0</td>\n",
       "      <td>0.0</td>\n",
       "      <td>0.0</td>\n",
       "      <td>0.0</td>\n",
       "      <td>...</td>\n",
       "      <td>0.0</td>\n",
       "      <td>0.0</td>\n",
       "      <td>0.0</td>\n",
       "      <td>0.0</td>\n",
       "      <td>0.0</td>\n",
       "      <td>0.000000</td>\n",
       "      <td>0.0</td>\n",
       "      <td>0.0</td>\n",
       "      <td>0.0</td>\n",
       "      <td>0.0</td>\n",
       "    </tr>\n",
       "    <tr>\n",
       "      <th>1785</th>\n",
       "      <td>0.0</td>\n",
       "      <td>0.0</td>\n",
       "      <td>0.0</td>\n",
       "      <td>0.0</td>\n",
       "      <td>0.0</td>\n",
       "      <td>0.000000</td>\n",
       "      <td>0.0</td>\n",
       "      <td>0.0</td>\n",
       "      <td>0.0</td>\n",
       "      <td>0.0</td>\n",
       "      <td>...</td>\n",
       "      <td>0.0</td>\n",
       "      <td>0.0</td>\n",
       "      <td>0.0</td>\n",
       "      <td>0.0</td>\n",
       "      <td>0.0</td>\n",
       "      <td>0.737668</td>\n",
       "      <td>0.0</td>\n",
       "      <td>0.0</td>\n",
       "      <td>0.0</td>\n",
       "      <td>0.0</td>\n",
       "    </tr>\n",
       "    <tr>\n",
       "      <th>1786</th>\n",
       "      <td>0.0</td>\n",
       "      <td>0.0</td>\n",
       "      <td>0.0</td>\n",
       "      <td>0.0</td>\n",
       "      <td>0.0</td>\n",
       "      <td>0.000000</td>\n",
       "      <td>0.0</td>\n",
       "      <td>0.0</td>\n",
       "      <td>0.0</td>\n",
       "      <td>0.0</td>\n",
       "      <td>...</td>\n",
       "      <td>0.0</td>\n",
       "      <td>0.0</td>\n",
       "      <td>0.0</td>\n",
       "      <td>0.0</td>\n",
       "      <td>0.0</td>\n",
       "      <td>0.000000</td>\n",
       "      <td>0.0</td>\n",
       "      <td>0.0</td>\n",
       "      <td>0.0</td>\n",
       "      <td>0.0</td>\n",
       "    </tr>\n",
       "  </tbody>\n",
       "</table>\n",
       "<p>1787 rows × 40 columns</p>\n",
       "</div>"
      ],
      "text/plain": [
       "      want  going   go  day  good       got   na  one  people   co  ...  \\\n",
       "0      0.0    0.0  0.0  0.0   0.0  0.000000  0.0  0.0     0.0  0.0  ...   \n",
       "1      0.0    0.0  0.0  0.0   0.0  0.000000  0.0  0.0     0.0  0.0  ...   \n",
       "2      0.0    0.0  0.0  0.0   0.0  0.548807  0.0  0.0     0.0  0.0  ...   \n",
       "3      0.0    0.0  0.0  0.0   0.0  0.000000  0.0  0.0     0.0  0.0  ...   \n",
       "4      0.0    0.0  0.0  0.0   0.0  0.000000  0.0  0.0     0.0  0.0  ...   \n",
       "...    ...    ...  ...  ...   ...       ...  ...  ...     ...  ...  ...   \n",
       "1782   0.0    0.0  0.0  0.0   0.0  0.000000  0.0  0.0     0.0  0.0  ...   \n",
       "1783   0.0    0.0  0.0  0.0   0.0  1.000000  0.0  0.0     0.0  0.0  ...   \n",
       "1784   0.0    0.0  0.0  0.0   0.0  0.000000  0.0  0.0     0.0  0.0  ...   \n",
       "1785   0.0    0.0  0.0  0.0   0.0  0.000000  0.0  0.0     0.0  0.0  ...   \n",
       "1786   0.0    0.0  0.0  0.0   0.0  0.000000  0.0  0.0     0.0  0.0  ...   \n",
       "\n",
       "      really  think  today  see  feel      damn  cant  amp  work  make  \n",
       "0        0.0    0.0    0.0  0.0   0.0  0.000000   0.0  0.0   0.0   0.0  \n",
       "1        0.0    0.0    0.0  0.0   0.0  0.000000   0.0  0.0   1.0   0.0  \n",
       "2        0.0    0.0    0.0  0.0   0.0  0.000000   0.0  0.0   0.0   0.0  \n",
       "3        0.0    0.0    0.0  0.0   0.0  0.000000   0.0  0.0   0.0   0.0  \n",
       "4        0.0    0.0    0.0  0.0   0.0  0.000000   0.0  0.0   0.0   0.0  \n",
       "...      ...    ...    ...  ...   ...       ...   ...  ...   ...   ...  \n",
       "1782     0.0    0.0    0.0  0.0   0.0  0.000000   0.0  0.0   0.0   0.0  \n",
       "1783     0.0    0.0    0.0  0.0   0.0  0.000000   0.0  0.0   0.0   0.0  \n",
       "1784     0.0    0.0    0.0  0.0   0.0  0.000000   0.0  0.0   0.0   0.0  \n",
       "1785     0.0    0.0    0.0  0.0   0.0  0.737668   0.0  0.0   0.0   0.0  \n",
       "1786     0.0    0.0    0.0  0.0   0.0  0.000000   0.0  0.0   0.0   0.0  \n",
       "\n",
       "[1787 rows x 40 columns]"
      ]
     },
     "execution_count": 44,
     "metadata": {},
     "output_type": "execute_result"
    }
   ],
   "source": [
    "df_3"
   ]
  },
  {
   "cell_type": "code",
   "execution_count": 45,
   "id": "cea86c63",
   "metadata": {},
   "outputs": [],
   "source": [
    "# # Combining TF_IDF dataframe with the EMPATH top positive and top negative \n",
    "\n",
    "# df_combined = pd.concat([df_3,df_2],axis=1)\n",
    "\n",
    "# df_combined"
   ]
  },
  {
   "cell_type": "code",
   "execution_count": 46,
   "id": "83102211",
   "metadata": {},
   "outputs": [
    {
     "data": {
      "text/html": [
       "<div>\n",
       "<style scoped>\n",
       "    .dataframe tbody tr th:only-of-type {\n",
       "        vertical-align: middle;\n",
       "    }\n",
       "\n",
       "    .dataframe tbody tr th {\n",
       "        vertical-align: top;\n",
       "    }\n",
       "\n",
       "    .dataframe thead th {\n",
       "        text-align: right;\n",
       "    }\n",
       "</style>\n",
       "<table border=\"1\" class=\"dataframe\">\n",
       "  <thead>\n",
       "    <tr style=\"text-align: right;\">\n",
       "      <th></th>\n",
       "      <th>want</th>\n",
       "      <th>going</th>\n",
       "      <th>go</th>\n",
       "      <th>day</th>\n",
       "      <th>good</th>\n",
       "      <th>got</th>\n",
       "      <th>na</th>\n",
       "      <th>one</th>\n",
       "      <th>people</th>\n",
       "      <th>co</th>\n",
       "      <th>...</th>\n",
       "      <th>wedding</th>\n",
       "      <th>cheerfulness</th>\n",
       "      <th>childish</th>\n",
       "      <th>internet</th>\n",
       "      <th>party</th>\n",
       "      <th>friends</th>\n",
       "      <th>social_media</th>\n",
       "      <th>achievement</th>\n",
       "      <th>celebration</th>\n",
       "      <th>optimism</th>\n",
       "    </tr>\n",
       "  </thead>\n",
       "  <tbody>\n",
       "    <tr>\n",
       "      <th>0</th>\n",
       "      <td>0.0</td>\n",
       "      <td>0.0</td>\n",
       "      <td>0.0</td>\n",
       "      <td>0.0</td>\n",
       "      <td>0.0</td>\n",
       "      <td>0.000000</td>\n",
       "      <td>0.0</td>\n",
       "      <td>0.0</td>\n",
       "      <td>0.0</td>\n",
       "      <td>0.0</td>\n",
       "      <td>...</td>\n",
       "      <td>0.0</td>\n",
       "      <td>0.0</td>\n",
       "      <td>0.000000</td>\n",
       "      <td>0.0</td>\n",
       "      <td>0.000000</td>\n",
       "      <td>0.000000</td>\n",
       "      <td>0.0</td>\n",
       "      <td>0.000000</td>\n",
       "      <td>0.0</td>\n",
       "      <td>0.000000</td>\n",
       "    </tr>\n",
       "    <tr>\n",
       "      <th>1</th>\n",
       "      <td>0.0</td>\n",
       "      <td>0.0</td>\n",
       "      <td>0.0</td>\n",
       "      <td>0.0</td>\n",
       "      <td>0.0</td>\n",
       "      <td>0.000000</td>\n",
       "      <td>0.0</td>\n",
       "      <td>0.0</td>\n",
       "      <td>0.0</td>\n",
       "      <td>0.0</td>\n",
       "      <td>...</td>\n",
       "      <td>0.0</td>\n",
       "      <td>0.0</td>\n",
       "      <td>0.000000</td>\n",
       "      <td>0.0</td>\n",
       "      <td>0.000000</td>\n",
       "      <td>0.000000</td>\n",
       "      <td>0.0</td>\n",
       "      <td>0.000000</td>\n",
       "      <td>0.0</td>\n",
       "      <td>0.000000</td>\n",
       "    </tr>\n",
       "    <tr>\n",
       "      <th>2</th>\n",
       "      <td>0.0</td>\n",
       "      <td>0.0</td>\n",
       "      <td>0.0</td>\n",
       "      <td>0.0</td>\n",
       "      <td>0.0</td>\n",
       "      <td>0.548807</td>\n",
       "      <td>0.0</td>\n",
       "      <td>0.0</td>\n",
       "      <td>0.0</td>\n",
       "      <td>0.0</td>\n",
       "      <td>...</td>\n",
       "      <td>0.0</td>\n",
       "      <td>0.0</td>\n",
       "      <td>0.000000</td>\n",
       "      <td>0.0</td>\n",
       "      <td>0.000000</td>\n",
       "      <td>0.000000</td>\n",
       "      <td>0.0</td>\n",
       "      <td>0.000000</td>\n",
       "      <td>0.0</td>\n",
       "      <td>0.000000</td>\n",
       "    </tr>\n",
       "    <tr>\n",
       "      <th>3</th>\n",
       "      <td>0.0</td>\n",
       "      <td>0.0</td>\n",
       "      <td>0.0</td>\n",
       "      <td>0.0</td>\n",
       "      <td>0.0</td>\n",
       "      <td>0.000000</td>\n",
       "      <td>0.0</td>\n",
       "      <td>0.0</td>\n",
       "      <td>0.0</td>\n",
       "      <td>0.0</td>\n",
       "      <td>...</td>\n",
       "      <td>0.0</td>\n",
       "      <td>0.0</td>\n",
       "      <td>0.000000</td>\n",
       "      <td>0.0</td>\n",
       "      <td>0.000000</td>\n",
       "      <td>0.000000</td>\n",
       "      <td>0.0</td>\n",
       "      <td>0.000000</td>\n",
       "      <td>0.0</td>\n",
       "      <td>0.000000</td>\n",
       "    </tr>\n",
       "    <tr>\n",
       "      <th>4</th>\n",
       "      <td>0.0</td>\n",
       "      <td>0.0</td>\n",
       "      <td>0.0</td>\n",
       "      <td>0.0</td>\n",
       "      <td>0.0</td>\n",
       "      <td>0.000000</td>\n",
       "      <td>0.0</td>\n",
       "      <td>0.0</td>\n",
       "      <td>0.0</td>\n",
       "      <td>0.0</td>\n",
       "      <td>...</td>\n",
       "      <td>0.0</td>\n",
       "      <td>0.0</td>\n",
       "      <td>0.000000</td>\n",
       "      <td>0.0</td>\n",
       "      <td>0.000000</td>\n",
       "      <td>0.000000</td>\n",
       "      <td>0.0</td>\n",
       "      <td>0.000000</td>\n",
       "      <td>0.0</td>\n",
       "      <td>0.000000</td>\n",
       "    </tr>\n",
       "    <tr>\n",
       "      <th>...</th>\n",
       "      <td>...</td>\n",
       "      <td>...</td>\n",
       "      <td>...</td>\n",
       "      <td>...</td>\n",
       "      <td>...</td>\n",
       "      <td>...</td>\n",
       "      <td>...</td>\n",
       "      <td>...</td>\n",
       "      <td>...</td>\n",
       "      <td>...</td>\n",
       "      <td>...</td>\n",
       "      <td>...</td>\n",
       "      <td>...</td>\n",
       "      <td>...</td>\n",
       "      <td>...</td>\n",
       "      <td>...</td>\n",
       "      <td>...</td>\n",
       "      <td>...</td>\n",
       "      <td>...</td>\n",
       "      <td>...</td>\n",
       "      <td>...</td>\n",
       "    </tr>\n",
       "    <tr>\n",
       "      <th>1782</th>\n",
       "      <td>0.0</td>\n",
       "      <td>0.0</td>\n",
       "      <td>0.0</td>\n",
       "      <td>0.0</td>\n",
       "      <td>0.0</td>\n",
       "      <td>0.000000</td>\n",
       "      <td>0.0</td>\n",
       "      <td>0.0</td>\n",
       "      <td>0.0</td>\n",
       "      <td>0.0</td>\n",
       "      <td>...</td>\n",
       "      <td>0.0</td>\n",
       "      <td>0.0</td>\n",
       "      <td>0.000000</td>\n",
       "      <td>0.0</td>\n",
       "      <td>0.000000</td>\n",
       "      <td>0.200000</td>\n",
       "      <td>0.0</td>\n",
       "      <td>0.000000</td>\n",
       "      <td>0.0</td>\n",
       "      <td>0.200000</td>\n",
       "    </tr>\n",
       "    <tr>\n",
       "      <th>1783</th>\n",
       "      <td>0.0</td>\n",
       "      <td>0.0</td>\n",
       "      <td>0.0</td>\n",
       "      <td>0.0</td>\n",
       "      <td>0.0</td>\n",
       "      <td>1.000000</td>\n",
       "      <td>0.0</td>\n",
       "      <td>0.0</td>\n",
       "      <td>0.0</td>\n",
       "      <td>0.0</td>\n",
       "      <td>...</td>\n",
       "      <td>0.0</td>\n",
       "      <td>0.0</td>\n",
       "      <td>0.000000</td>\n",
       "      <td>0.0</td>\n",
       "      <td>0.000000</td>\n",
       "      <td>0.000000</td>\n",
       "      <td>0.0</td>\n",
       "      <td>0.285714</td>\n",
       "      <td>0.0</td>\n",
       "      <td>0.142857</td>\n",
       "    </tr>\n",
       "    <tr>\n",
       "      <th>1784</th>\n",
       "      <td>0.0</td>\n",
       "      <td>0.0</td>\n",
       "      <td>0.0</td>\n",
       "      <td>0.0</td>\n",
       "      <td>0.0</td>\n",
       "      <td>0.000000</td>\n",
       "      <td>0.0</td>\n",
       "      <td>0.0</td>\n",
       "      <td>0.0</td>\n",
       "      <td>0.0</td>\n",
       "      <td>...</td>\n",
       "      <td>0.0</td>\n",
       "      <td>0.0</td>\n",
       "      <td>0.166667</td>\n",
       "      <td>0.0</td>\n",
       "      <td>0.000000</td>\n",
       "      <td>0.166667</td>\n",
       "      <td>0.0</td>\n",
       "      <td>0.000000</td>\n",
       "      <td>0.0</td>\n",
       "      <td>0.000000</td>\n",
       "    </tr>\n",
       "    <tr>\n",
       "      <th>1785</th>\n",
       "      <td>0.0</td>\n",
       "      <td>0.0</td>\n",
       "      <td>0.0</td>\n",
       "      <td>0.0</td>\n",
       "      <td>0.0</td>\n",
       "      <td>0.000000</td>\n",
       "      <td>0.0</td>\n",
       "      <td>0.0</td>\n",
       "      <td>0.0</td>\n",
       "      <td>0.0</td>\n",
       "      <td>...</td>\n",
       "      <td>0.0</td>\n",
       "      <td>0.0</td>\n",
       "      <td>0.000000</td>\n",
       "      <td>0.0</td>\n",
       "      <td>0.071429</td>\n",
       "      <td>0.000000</td>\n",
       "      <td>0.0</td>\n",
       "      <td>0.000000</td>\n",
       "      <td>0.0</td>\n",
       "      <td>0.071429</td>\n",
       "    </tr>\n",
       "    <tr>\n",
       "      <th>1786</th>\n",
       "      <td>0.0</td>\n",
       "      <td>0.0</td>\n",
       "      <td>0.0</td>\n",
       "      <td>0.0</td>\n",
       "      <td>0.0</td>\n",
       "      <td>0.000000</td>\n",
       "      <td>0.0</td>\n",
       "      <td>0.0</td>\n",
       "      <td>0.0</td>\n",
       "      <td>0.0</td>\n",
       "      <td>...</td>\n",
       "      <td>0.0</td>\n",
       "      <td>0.0</td>\n",
       "      <td>0.000000</td>\n",
       "      <td>0.0</td>\n",
       "      <td>0.000000</td>\n",
       "      <td>0.111111</td>\n",
       "      <td>0.0</td>\n",
       "      <td>0.000000</td>\n",
       "      <td>0.0</td>\n",
       "      <td>0.111111</td>\n",
       "    </tr>\n",
       "  </tbody>\n",
       "</table>\n",
       "<p>1787 rows × 60 columns</p>\n",
       "</div>"
      ],
      "text/plain": [
       "      want  going   go  day  good       got   na  one  people   co  ...  \\\n",
       "0      0.0    0.0  0.0  0.0   0.0  0.000000  0.0  0.0     0.0  0.0  ...   \n",
       "1      0.0    0.0  0.0  0.0   0.0  0.000000  0.0  0.0     0.0  0.0  ...   \n",
       "2      0.0    0.0  0.0  0.0   0.0  0.548807  0.0  0.0     0.0  0.0  ...   \n",
       "3      0.0    0.0  0.0  0.0   0.0  0.000000  0.0  0.0     0.0  0.0  ...   \n",
       "4      0.0    0.0  0.0  0.0   0.0  0.000000  0.0  0.0     0.0  0.0  ...   \n",
       "...    ...    ...  ...  ...   ...       ...  ...  ...     ...  ...  ...   \n",
       "1782   0.0    0.0  0.0  0.0   0.0  0.000000  0.0  0.0     0.0  0.0  ...   \n",
       "1783   0.0    0.0  0.0  0.0   0.0  1.000000  0.0  0.0     0.0  0.0  ...   \n",
       "1784   0.0    0.0  0.0  0.0   0.0  0.000000  0.0  0.0     0.0  0.0  ...   \n",
       "1785   0.0    0.0  0.0  0.0   0.0  0.000000  0.0  0.0     0.0  0.0  ...   \n",
       "1786   0.0    0.0  0.0  0.0   0.0  0.000000  0.0  0.0     0.0  0.0  ...   \n",
       "\n",
       "      wedding  cheerfulness  childish  internet     party   friends  \\\n",
       "0         0.0           0.0  0.000000       0.0  0.000000  0.000000   \n",
       "1         0.0           0.0  0.000000       0.0  0.000000  0.000000   \n",
       "2         0.0           0.0  0.000000       0.0  0.000000  0.000000   \n",
       "3         0.0           0.0  0.000000       0.0  0.000000  0.000000   \n",
       "4         0.0           0.0  0.000000       0.0  0.000000  0.000000   \n",
       "...       ...           ...       ...       ...       ...       ...   \n",
       "1782      0.0           0.0  0.000000       0.0  0.000000  0.200000   \n",
       "1783      0.0           0.0  0.000000       0.0  0.000000  0.000000   \n",
       "1784      0.0           0.0  0.166667       0.0  0.000000  0.166667   \n",
       "1785      0.0           0.0  0.000000       0.0  0.071429  0.000000   \n",
       "1786      0.0           0.0  0.000000       0.0  0.000000  0.111111   \n",
       "\n",
       "      social_media  achievement  celebration  optimism  \n",
       "0              0.0     0.000000          0.0  0.000000  \n",
       "1              0.0     0.000000          0.0  0.000000  \n",
       "2              0.0     0.000000          0.0  0.000000  \n",
       "3              0.0     0.000000          0.0  0.000000  \n",
       "4              0.0     0.000000          0.0  0.000000  \n",
       "...            ...          ...          ...       ...  \n",
       "1782           0.0     0.000000          0.0  0.200000  \n",
       "1783           0.0     0.285714          0.0  0.142857  \n",
       "1784           0.0     0.000000          0.0  0.000000  \n",
       "1785           0.0     0.000000          0.0  0.071429  \n",
       "1786           0.0     0.000000          0.0  0.111111  \n",
       "\n",
       "[1787 rows x 60 columns]"
      ]
     },
     "execution_count": 46,
     "metadata": {},
     "output_type": "execute_result"
    }
   ],
   "source": [
    "df_combined = pd.merge(df_3,df_2,left_index=True,right_index=True)\n",
    "\n",
    "df_combined"
   ]
  },
  {
   "cell_type": "code",
   "execution_count": 47,
   "id": "eb33a245",
   "metadata": {},
   "outputs": [
    {
     "data": {
      "text/plain": [
       "Index(['want', 'going', 'go', 'day', 'good', 'got', 'na', 'one', 'people',\n",
       "       'co', 'time', 'hate_x', 'life', 'die', 'tired', 'everything', 'like',\n",
       "       'rt', 'never', 'dont', 'anymore', 'fucking', 'kill_x', 'im', 'love',\n",
       "       'much', 'living', 'get', 'know', 'http', 'really', 'think', 'today',\n",
       "       'see', 'feel', 'damn', 'cant', 'amp', 'work', 'make',\n",
       "       'negative_emotion', 'death', 'hate_y', 'swearing_terms', 'kill_y',\n",
       "       'medical_emergency', 'envy', 'shame', 'violence', 'pain', 'wedding',\n",
       "       'cheerfulness', 'childish', 'internet', 'party', 'friends',\n",
       "       'social_media', 'achievement', 'celebration', 'optimism'],\n",
       "      dtype='object')"
      ]
     },
     "execution_count": 47,
     "metadata": {},
     "output_type": "execute_result"
    }
   ],
   "source": [
    "df_combined.columns"
   ]
  },
  {
   "cell_type": "code",
   "execution_count": 48,
   "id": "52add3b2",
   "metadata": {
    "colab": {
     "base_uri": "https://localhost:8080/"
    },
    "id": "52add3b2",
    "outputId": "609e510b-7362-4077-b033-6011af904c3c"
   },
   "outputs": [
    {
     "data": {
      "text/plain": [
       "((1250, 60), (537, 60))"
      ]
     },
     "execution_count": 48,
     "metadata": {},
     "output_type": "execute_result"
    }
   ],
   "source": [
    "X_train,X_test,y_train,y_test = train_test_split(df_combined,df['class'],test_size=0.30,random_state=5)\n",
    "\n",
    "X_train.shape,X_test.shape"
   ]
  },
  {
   "cell_type": "code",
   "execution_count": 49,
   "id": "04142f4a",
   "metadata": {},
   "outputs": [
    {
     "data": {
      "text/plain": [
       "Index(['want', 'going', 'go', 'day', 'good', 'got', 'na', 'one', 'people',\n",
       "       'co', 'time', 'hate_x', 'life', 'die', 'tired', 'everything', 'like',\n",
       "       'rt', 'never', 'dont', 'anymore', 'fucking', 'kill_x', 'im', 'love',\n",
       "       'much', 'living', 'get', 'know', 'http', 'really', 'think', 'today',\n",
       "       'see', 'feel', 'damn', 'cant', 'amp', 'work', 'make',\n",
       "       'negative_emotion', 'death', 'hate_y', 'swearing_terms', 'kill_y',\n",
       "       'medical_emergency', 'envy', 'shame', 'violence', 'pain', 'wedding',\n",
       "       'cheerfulness', 'childish', 'internet', 'party', 'friends',\n",
       "       'social_media', 'achievement', 'celebration', 'optimism'],\n",
       "      dtype='object')"
      ]
     },
     "execution_count": 49,
     "metadata": {},
     "output_type": "execute_result"
    }
   ],
   "source": [
    "X_train.columns"
   ]
  },
  {
   "cell_type": "code",
   "execution_count": 50,
   "id": "58a6d8d0",
   "metadata": {
    "id": "58a6d8d0"
   },
   "outputs": [],
   "source": [
    "def model_accuracy (clf,train,test,target_train,target_test):\n",
    "\n",
    "    clf.fit(train,target_train)\n",
    "\n",
    "    y_pred = clf.predict(test)\n",
    "\n",
    "    sns.heatmap(confusion_matrix(y_test,y_pred),annot=True,cmap='summer')\n",
    "    print(classification_report(y_test,y_pred))"
   ]
  },
  {
   "cell_type": "code",
   "execution_count": 51,
   "id": "b0fb583e",
   "metadata": {
    "colab": {
     "base_uri": "https://localhost:8080/",
     "height": 586
    },
    "id": "b0fb583e",
    "outputId": "84dc86a6-c96e-449a-87ca-c46d9af9e9af"
   },
   "outputs": [
    {
     "name": "stdout",
     "output_type": "stream",
     "text": [
      "              precision    recall  f1-score   support\n",
      "\n",
      "           0       0.90      0.93      0.91       332\n",
      "           1       0.88      0.82      0.85       205\n",
      "\n",
      "    accuracy                           0.89       537\n",
      "   macro avg       0.89      0.88      0.88       537\n",
      "weighted avg       0.89      0.89      0.89       537\n",
      "\n"
     ]
    },
    {
     "data": {
      "image/png": "[encoded data removed]",
      "text/plain": [
       "<Figure size 640x480 with 2 Axes>"
      ]
     },
     "metadata": {},
     "output_type": "display_data"
    }
   ],
   "source": [
    "lr_clf = LogisticRegression(random_state=42)\n",
    "\n",
    "model_accuracy(lr_clf,X_train,X_test,y_train,y_test)"
   ]
  },
  {
   "cell_type": "code",
   "execution_count": 52,
   "id": "a29404bb",
   "metadata": {
    "colab": {
     "base_uri": "https://localhost:8080/",
     "height": 586
    },
    "id": "a29404bb",
    "outputId": "ecadfc4f-faf5-405e-93b3-46bcad3da7a9"
   },
   "outputs": [
    {
     "name": "stdout",
     "output_type": "stream",
     "text": [
      "              precision    recall  f1-score   support\n",
      "\n",
      "           0       0.89      0.95      0.92       332\n",
      "           1       0.91      0.81      0.86       205\n",
      "\n",
      "    accuracy                           0.90       537\n",
      "   macro avg       0.90      0.88      0.89       537\n",
      "weighted avg       0.90      0.90      0.90       537\n",
      "\n"
     ]
    },
    {
     "data": {
      "image/png": "[encoded data removed]",
      "text/plain": [
       "<Figure size 640x480 with 2 Axes>"
      ]
     },
     "metadata": {},
     "output_type": "display_data"
    }
   ],
   "source": [
    "nb_clf = BernoulliNB()\n",
    "\n",
    "model_accuracy(nb_clf,X_train,X_test,y_train,y_test)"
   ]
  },
  {
   "cell_type": "markdown",
   "id": "08281a5c",
   "metadata": {
    "id": "08281a5c"
   },
   "source": [
    "#### Decision Tree Classifier"
   ]
  },
  {
   "cell_type": "code",
   "execution_count": 53,
   "id": "3ca0eecf",
   "metadata": {
    "id": "3ca0eecf"
   },
   "outputs": [],
   "source": [
    "dt = DecisionTreeClassifier()\n",
    "\n",
    "params_dt = {\n",
    "'min_samples_split': range(1,10),\n",
    "'criterion':['gini','entropy'],\n",
    "'max_depth': range(1,10),\n",
    "'min_samples_leaf': range(1,5)\n",
    "}\n",
    "# Instantiate a 10-fold CV grid search object 'grid_dt'\n",
    "grid_dt = GridSearchCV(estimator=dt,\n",
    "param_grid=params_dt,\n",
    "scoring= 'r2',\n",
    "cv=5,\n",
    "n_jobs=-1)\n",
    "\n",
    "grid_dt.fit(X_train, y_train)\n",
    "\n",
    "# Extract best model from 'grid_dt'\n",
    "best_modelDT = grid_dt.best_params_"
   ]
  },
  {
   "cell_type": "code",
   "execution_count": 54,
   "id": "0da3e383",
   "metadata": {
    "id": "0da3e383"
   },
   "outputs": [],
   "source": [
    "DT_final = DecisionTreeClassifier(**best_modelDT)"
   ]
  },
  {
   "cell_type": "code",
   "execution_count": 55,
   "id": "66119c93",
   "metadata": {
    "colab": {
     "base_uri": "https://localhost:8080/",
     "height": 586
    },
    "id": "66119c93",
    "outputId": "a8de7f6e-0df8-4ddc-9ff0-cefed51592a4"
   },
   "outputs": [
    {
     "name": "stdout",
     "output_type": "stream",
     "text": [
      "              precision    recall  f1-score   support\n",
      "\n",
      "           0       0.92      0.94      0.93       332\n",
      "           1       0.90      0.87      0.89       205\n",
      "\n",
      "    accuracy                           0.91       537\n",
      "   macro avg       0.91      0.91      0.91       537\n",
      "weighted avg       0.91      0.91      0.91       537\n",
      "\n"
     ]
    },
    {
     "data": {
      "image/png": "[encoded data removed]",
      "text/plain": [
       "<Figure size 640x480 with 2 Axes>"
      ]
     },
     "metadata": {},
     "output_type": "display_data"
    }
   ],
   "source": [
    "model_accuracy(DT_final,X_train,X_test,y_train,y_test)"
   ]
  },
  {
   "cell_type": "markdown",
   "id": "aabc510e",
   "metadata": {
    "id": "aabc510e"
   },
   "source": [
    "#### RandomForest Classifier"
   ]
  },
  {
   "cell_type": "code",
   "execution_count": 56,
   "id": "92b0ed8e",
   "metadata": {
    "colab": {
     "base_uri": "https://localhost:8080/",
     "height": 136
    },
    "id": "92b0ed8e",
    "outputId": "d01b7f05-0d4a-49df-9ea7-3ca6a09fad1f"
   },
   "outputs": [
    {
     "name": "stdout",
     "output_type": "stream",
     "text": [
      "Fitting 5 folds for each of 108 candidates, totalling 540 fits\n"
     ]
    },
    {
     "data": {
      "text/html": [
       "<style>#sk-container-id-1 {color: black;background-color: white;}#sk-container-id-1 pre{padding: 0;}#sk-container-id-1 div.sk-toggleable {background-color: white;}#sk-container-id-1 label.sk-toggleable__label {cursor: pointer;display: block;width: 100%;margin-bottom: 0;padding: 0.3em;box-sizing: border-box;text-align: center;}#sk-container-id-1 label.sk-toggleable__label-arrow:before {content: \"▸\";float: left;margin-right: 0.25em;color: #696969;}#sk-container-id-1 label.sk-toggleable__label-arrow:hover:before {color: black;}#sk-container-id-1 div.sk-estimator:hover label.sk-toggleable__label-arrow:before {color: black;}#sk-container-id-1 div.sk-toggleable__content {max-height: 0;max-width: 0;overflow: hidden;text-align: left;background-color: #f0f8ff;}#sk-container-id-1 div.sk-toggleable__content pre {margin: 0.2em;color: black;border-radius: 0.25em;background-color: #f0f8ff;}#sk-container-id-1 input.sk-toggleable__control:checked~div.sk-toggleable__content {max-height: 200px;max-width: 100%;overflow: auto;}#sk-container-id-1 input.sk-toggleable__control:checked~label.sk-toggleable__label-arrow:before {content: \"▾\";}#sk-container-id-1 div.sk-estimator input.sk-toggleable__control:checked~label.sk-toggleable__label {background-color: #d4ebff;}#sk-container-id-1 div.sk-label input.sk-toggleable__control:checked~label.sk-toggleable__label {background-color: #d4ebff;}#sk-container-id-1 input.sk-hidden--visually {border: 0;clip: rect(1px 1px 1px 1px);clip: rect(1px, 1px, 1px, 1px);height: 1px;margin: -1px;overflow: hidden;padding: 0;position: absolute;width: 1px;}#sk-container-id-1 div.sk-estimator {font-family: monospace;background-color: #f0f8ff;border: 1px dotted black;border-radius: 0.25em;box-sizing: border-box;margin-bottom: 0.5em;}#sk-container-id-1 div.sk-estimator:hover {background-color: #d4ebff;}#sk-container-id-1 div.sk-parallel-item::after {content: \"\";width: 100%;border-bottom: 1px solid gray;flex-grow: 1;}#sk-container-id-1 div.sk-label:hover label.sk-toggleable__label {background-color: #d4ebff;}#sk-container-id-1 div.sk-serial::before {content: \"\";position: absolute;border-left: 1px solid gray;box-sizing: border-box;top: 0;bottom: 0;left: 50%;z-index: 0;}#sk-container-id-1 div.sk-serial {display: flex;flex-direction: column;align-items: center;background-color: white;padding-right: 0.2em;padding-left: 0.2em;position: relative;}#sk-container-id-1 div.sk-item {position: relative;z-index: 1;}#sk-container-id-1 div.sk-parallel {display: flex;align-items: stretch;justify-content: center;background-color: white;position: relative;}#sk-container-id-1 div.sk-item::before, #sk-container-id-1 div.sk-parallel-item::before {content: \"\";position: absolute;border-left: 1px solid gray;box-sizing: border-box;top: 0;bottom: 0;left: 50%;z-index: -1;}#sk-container-id-1 div.sk-parallel-item {display: flex;flex-direction: column;z-index: 1;position: relative;background-color: white;}#sk-container-id-1 div.sk-parallel-item:first-child::after {align-self: flex-end;width: 50%;}#sk-container-id-1 div.sk-parallel-item:last-child::after {align-self: flex-start;width: 50%;}#sk-container-id-1 div.sk-parallel-item:only-child::after {width: 0;}#sk-container-id-1 div.sk-dashed-wrapped {border: 1px dashed gray;margin: 0 0.4em 0.5em 0.4em;box-sizing: border-box;padding-bottom: 0.4em;background-color: white;}#sk-container-id-1 div.sk-label label {font-family: monospace;font-weight: bold;display: inline-block;line-height: 1.2em;}#sk-container-id-1 div.sk-label-container {text-align: center;}#sk-container-id-1 div.sk-container {/* jupyter's `normalize.less` sets `[hidden] { display: none; }` but bootstrap.min.css set `[hidden] { display: none !important; }` so we also need the `!important` here to be able to override the default hidden behavior on the sphinx rendered scikit-learn.org. See: https://github.com/scikit-learn/scikit-learn/issues/21755 */display: inline-block !important;position: relative;}#sk-container-id-1 div.sk-text-repr-fallback {display: none;}</style><div id=\"sk-container-id-1\" class=\"sk-top-container\"><div class=\"sk-text-repr-fallback\"><pre>GridSearchCV(cv=5, estimator=RandomForestClassifier(), n_jobs=-1,\n",
       "             param_grid={&#x27;criterion&#x27;: [&#x27;gini&#x27;, &#x27;entropy&#x27;],\n",
       "                         &#x27;max_depth&#x27;: [5, 10, 15],\n",
       "                         &#x27;min_samples_split&#x27;: [2, 4, 5],\n",
       "                         &#x27;n_estimators&#x27;: [10, 20, 40, 50, 100, 150]},\n",
       "             scoring=&#x27;r2&#x27;, verbose=1)</pre><b>In a Jupyter environment, please rerun this cell to show the HTML representation or trust the notebook. <br />On GitHub, the HTML representation is unable to render, please try loading this page with nbviewer.org.</b></div><div class=\"sk-container\" hidden><div class=\"sk-item sk-dashed-wrapped\"><div class=\"sk-label-container\"><div class=\"sk-label sk-toggleable\"><input class=\"sk-toggleable__control sk-hidden--visually\" id=\"sk-estimator-id-1\" type=\"checkbox\" ><label for=\"sk-estimator-id-1\" class=\"sk-toggleable__label sk-toggleable__label-arrow\">GridSearchCV</label><div class=\"sk-toggleable__content\"><pre>GridSearchCV(cv=5, estimator=RandomForestClassifier(), n_jobs=-1,\n",
       "             param_grid={&#x27;criterion&#x27;: [&#x27;gini&#x27;, &#x27;entropy&#x27;],\n",
       "                         &#x27;max_depth&#x27;: [5, 10, 15],\n",
       "                         &#x27;min_samples_split&#x27;: [2, 4, 5],\n",
       "                         &#x27;n_estimators&#x27;: [10, 20, 40, 50, 100, 150]},\n",
       "             scoring=&#x27;r2&#x27;, verbose=1)</pre></div></div></div><div class=\"sk-parallel\"><div class=\"sk-parallel-item\"><div class=\"sk-item\"><div class=\"sk-label-container\"><div class=\"sk-label sk-toggleable\"><input class=\"sk-toggleable__control sk-hidden--visually\" id=\"sk-estimator-id-2\" type=\"checkbox\" ><label for=\"sk-estimator-id-2\" class=\"sk-toggleable__label sk-toggleable__label-arrow\">estimator: RandomForestClassifier</label><div class=\"sk-toggleable__content\"><pre>RandomForestClassifier()</pre></div></div></div><div class=\"sk-serial\"><div class=\"sk-item\"><div class=\"sk-estimator sk-toggleable\"><input class=\"sk-toggleable__control sk-hidden--visually\" id=\"sk-estimator-id-3\" type=\"checkbox\" ><label for=\"sk-estimator-id-3\" class=\"sk-toggleable__label sk-toggleable__label-arrow\">RandomForestClassifier</label><div class=\"sk-toggleable__content\"><pre>RandomForestClassifier()</pre></div></div></div></div></div></div></div></div></div></div>"
      ],
      "text/plain": [
       "GridSearchCV(cv=5, estimator=RandomForestClassifier(), n_jobs=-1,\n",
       "             param_grid={'criterion': ['gini', 'entropy'],\n",
       "                         'max_depth': [5, 10, 15],\n",
       "                         'min_samples_split': [2, 4, 5],\n",
       "                         'n_estimators': [10, 20, 40, 50, 100, 150]},\n",
       "             scoring='r2', verbose=1)"
      ]
     },
     "execution_count": 56,
     "metadata": {},
     "output_type": "execute_result"
    }
   ],
   "source": [
    "rf_model = RandomForestClassifier()\n",
    "\n",
    "\n",
    "# hyperparameter space\n",
    "rf_param_grid = dict(\n",
    "    n_estimators=[10, 20,40,50,100,150],\n",
    "    max_depth=[5, 10, 15],\n",
    "    min_samples_split=[2, 4,5],\n",
    "    criterion = ['gini', 'entropy'],\n",
    "#     max_features= ['auto', 'sqrt', 'log2']\n",
    ")\n",
    "\n",
    "# search\n",
    "rf_clf = GridSearchCV(rf_model, rf_param_grid,\n",
    "                   scoring='r2', cv=5, n_jobs = -1,verbose=1)\n",
    "\n",
    "rf_clf.fit(X_train,y_train)"
   ]
  },
  {
   "cell_type": "code",
   "execution_count": 57,
   "id": "87448b50",
   "metadata": {
    "id": "87448b50"
   },
   "outputs": [],
   "source": [
    "best_modelRF = rf_clf.best_params_"
   ]
  },
  {
   "cell_type": "code",
   "execution_count": 58,
   "id": "8b21bf76",
   "metadata": {
    "id": "8b21bf76"
   },
   "outputs": [],
   "source": [
    "rf_final = RandomForestClassifier(**best_modelRF)"
   ]
  },
  {
   "cell_type": "code",
   "execution_count": 59,
   "id": "f909a4dd",
   "metadata": {
    "colab": {
     "base_uri": "https://localhost:8080/",
     "height": 586
    },
    "id": "f909a4dd",
    "outputId": "2bf82622-b741-4a69-d65e-b11b0a5a558e"
   },
   "outputs": [
    {
     "name": "stdout",
     "output_type": "stream",
     "text": [
      "              precision    recall  f1-score   support\n",
      "\n",
      "           0       0.92      0.96      0.94       332\n",
      "           1       0.94      0.86      0.90       205\n",
      "\n",
      "    accuracy                           0.93       537\n",
      "   macro avg       0.93      0.91      0.92       537\n",
      "weighted avg       0.93      0.93      0.92       537\n",
      "\n"
     ]
    },
    {
     "data": {
      "image/png": "[encoded data removed]",
      "text/plain": [
       "<Figure size 640x480 with 2 Axes>"
      ]
     },
     "metadata": {},
     "output_type": "display_data"
    }
   ],
   "source": [
    "model_accuracy(rf_final,X_train,X_test,y_train,y_test)"
   ]
  },
  {
   "cell_type": "markdown",
   "id": "aebf48fd",
   "metadata": {
    "id": "aebf48fd"
   },
   "source": [
    "#### XGBoost Classifier"
   ]
  },
  {
   "cell_type": "code",
   "execution_count": 60,
   "id": "30c09d35",
   "metadata": {
    "colab": {
     "base_uri": "https://localhost:8080/"
    },
    "id": "30c09d35",
    "outputId": "50704897-1394-424a-c9f7-cb4c4fa9a086"
   },
   "outputs": [
    {
     "name": "stdout",
     "output_type": "stream",
     "text": [
      "Fitting 5 folds for each of 125 candidates, totalling 625 fits\n",
      "Best parameters: {'subsample': 0.7666666666666666, 'n_estimators': 55, 'min_child_weight': 1, 'max_depth': 10, 'learning_rate': 0.13375, 'gamma': 0.35, 'colsample_bytree': 0.8}\n"
     ]
    }
   ],
   "source": [
    "param_dist = {\n",
    "        'n_estimators':range(50,150,5),\n",
    "        'max_depth':range(2,15,1),\n",
    "        'learning_rate':np.linspace(0.01,1,25),\n",
    "        'subsample':np.linspace(0.1,0.9,25),\n",
    "        'colsample_bytree':np.linspace(0.3,0.8,20),\n",
    "        'min_child_weight':range(1,9,1),\n",
    "        'gamma': [0, 0.2,0.25, 0.3,0.35, 0.5, 1.0]\n",
    "\n",
    "        }\n",
    "\n",
    "\n",
    "xgbr = XGBClassifier()\n",
    "XGB_Model = RandomizedSearchCV(xgbr,\n",
    "                   param_dist,\n",
    "                   scoring='r2',\n",
    "                   verbose=1,\n",
    "                    cv = 5,\n",
    "                    n_iter=125,\n",
    "                    n_jobs = -1)\n",
    "XGB_Model.fit(X_train, y_train)\n",
    "print(\"Best parameters:\", XGB_Model.best_params_)\n",
    "\n",
    "best_modelXGB = XGB_Model.best_params_\n",
    "\n"
   ]
  },
  {
   "cell_type": "code",
   "execution_count": 61,
   "id": "acdbc323",
   "metadata": {
    "id": "acdbc323"
   },
   "outputs": [],
   "source": [
    "xgb_final = XGBClassifier(**best_modelXGB)"
   ]
  },
  {
   "cell_type": "code",
   "execution_count": 62,
   "id": "8495608f",
   "metadata": {
    "colab": {
     "base_uri": "https://localhost:8080/",
     "height": 586
    },
    "id": "8495608f",
    "outputId": "7dbd2353-ca4d-48ba-da7c-88ce2c014866"
   },
   "outputs": [
    {
     "name": "stdout",
     "output_type": "stream",
     "text": [
      "              precision    recall  f1-score   support\n",
      "\n",
      "           0       0.94      0.95      0.95       332\n",
      "           1       0.93      0.90      0.91       205\n",
      "\n",
      "    accuracy                           0.93       537\n",
      "   macro avg       0.93      0.93      0.93       537\n",
      "weighted avg       0.93      0.93      0.93       537\n",
      "\n"
     ]
    },
    {
     "data": {
      "image/png": "[encoded data removed]",
      "text/plain": [
       "<Figure size 640x480 with 2 Axes>"
      ]
     },
     "metadata": {},
     "output_type": "display_data"
    }
   ],
   "source": [
    "model_accuracy(xgb_final,X_train,X_test,y_train,y_test)"
   ]
  },
  {
   "cell_type": "code",
   "execution_count": null,
   "id": "cc316d26",
   "metadata": {
    "id": "cc316d26"
   },
   "outputs": [],
   "source": []
  }
 ],
 "metadata": {
  "colab": {
   "provenance": []
  },
  "kernelspec": {
   "display_name": "Python 3 (ipykernel)",
   "language": "python",
   "name": "python3"
  },
  "language_info": {
   "codemirror_mode": {
    "name": "ipython",
    "version": 3
   },
   "file_extension": ".py",
   "mimetype": "text/x-python",
   "name": "python",
   "nbconvert_exporter": "python",
   "pygments_lexer": "ipython3",
   "version": "3.11.4"
  }
 },
 "nbformat": 4,
 "nbformat_minor": 5
}
