{
 "cells": [
  {
   "cell_type": "code",
   "execution_count": 1,
   "id": "9ea757dc",
   "metadata": {},
   "outputs": [],
   "source": [
    "import numpy as np\n",
    "import pandas as pd\n",
    "# import geopandas as gpd\n",
    "\n",
    "import matplotlib.pyplot as plt\n",
    "import seaborn as sns\n",
    "import plotly.express as px\n"
   ]
  },
  {
   "cell_type": "code",
   "execution_count": 2,
   "id": "775e769d",
   "metadata": {},
   "outputs": [
    {
     "name": "stderr",
     "output_type": "stream",
     "text": [
      "C:\\Users\\user\\AppData\\Local\\Temp\\ipykernel_4536\\1383274434.py:1: DtypeWarning: Columns (5,6) have mixed types. Specify dtype option on import or set low_memory=False.\n",
      "  disorder_df = pd.read_csv('Mental health Depression disorder Data.csv')\n"
     ]
    }
   ],
   "source": [
    "disorder_df = pd.read_csv('Mental health Depression disorder Data.csv')"
   ]
  },
  {
   "cell_type": "code",
   "execution_count": 3,
   "id": "a9ef2348",
   "metadata": {},
   "outputs": [
    {
     "name": "stdout",
     "output_type": "stream",
     "text": [
      "<class 'pandas.core.frame.DataFrame'>\n",
      "RangeIndex: 108553 entries, 0 to 108552\n",
      "Data columns (total 11 columns):\n",
      " #   Column                     Non-Null Count   Dtype  \n",
      "---  ------                     --------------   -----  \n",
      " 0   index                      108553 non-null  int64  \n",
      " 1   Entity                     108553 non-null  object \n",
      " 2   Code                       103141 non-null  object \n",
      " 3   Year                       108553 non-null  object \n",
      " 4   Schizophrenia (%)          25875 non-null   object \n",
      " 5   Bipolar disorder (%)       19406 non-null   object \n",
      " 6   Eating disorders (%)       100236 non-null  object \n",
      " 7   Anxiety disorders (%)      6468 non-null    float64\n",
      " 8   Drug use disorders (%)     6468 non-null    float64\n",
      " 9   Depression (%)             6468 non-null    float64\n",
      " 10  Alcohol use disorders (%)  6468 non-null    float64\n",
      "dtypes: float64(4), int64(1), object(6)\n",
      "memory usage: 9.1+ MB\n"
     ]
    }
   ],
   "source": [
    "disorder_df.info()"
   ]
  },
  {
   "cell_type": "code",
   "execution_count": 4,
   "id": "160395e5",
   "metadata": {},
   "outputs": [
    {
     "data": {
      "text/plain": [
       "Int64Index([  6689,   6690,   6691,   6692,   6693,   6694,   6695,   6696,\n",
       "              6697,   6698,\n",
       "            ...\n",
       "            101273, 101274, 101275, 101276, 101277, 101278, 101279, 101280,\n",
       "            101281, 101282],\n",
       "           dtype='int64', length=140)"
      ]
     },
     "execution_count": 4,
     "metadata": {},
     "output_type": "execute_result"
    }
   ],
   "source": [
    "# bce_ind = disorder_df['Year'].str.contains('BCE')\n",
    "ind = disorder_df[disorder_df['Year'].str.contains('BCE')].index\n",
    "ind"
   ]
  },
  {
   "cell_type": "code",
   "execution_count": 5,
   "id": "a09b8a02",
   "metadata": {},
   "outputs": [],
   "source": [
    "disorder_df.drop(ind,axis=0,inplace=True)"
   ]
  },
  {
   "cell_type": "code",
   "execution_count": 6,
   "id": "6bd81794",
   "metadata": {},
   "outputs": [
    {
     "data": {
      "text/html": [
       "<div>\n",
       "<style scoped>\n",
       "    .dataframe tbody tr th:only-of-type {\n",
       "        vertical-align: middle;\n",
       "    }\n",
       "\n",
       "    .dataframe tbody tr th {\n",
       "        vertical-align: top;\n",
       "    }\n",
       "\n",
       "    .dataframe thead th {\n",
       "        text-align: right;\n",
       "    }\n",
       "</style>\n",
       "<table border=\"1\" class=\"dataframe\">\n",
       "  <thead>\n",
       "    <tr style=\"text-align: right;\">\n",
       "      <th></th>\n",
       "      <th>index</th>\n",
       "      <th>Entity</th>\n",
       "      <th>Code</th>\n",
       "      <th>Year</th>\n",
       "      <th>Schizophrenia (%)</th>\n",
       "      <th>Bipolar disorder (%)</th>\n",
       "      <th>Eating disorders (%)</th>\n",
       "      <th>Anxiety disorders (%)</th>\n",
       "      <th>Drug use disorders (%)</th>\n",
       "      <th>Depression (%)</th>\n",
       "      <th>Alcohol use disorders (%)</th>\n",
       "    </tr>\n",
       "  </thead>\n",
       "  <tbody>\n",
       "    <tr>\n",
       "      <th>0</th>\n",
       "      <td>0</td>\n",
       "      <td>Afghanistan</td>\n",
       "      <td>AFG</td>\n",
       "      <td>1990</td>\n",
       "      <td>0.16056</td>\n",
       "      <td>0.697779</td>\n",
       "      <td>0.101855</td>\n",
       "      <td>4.828830</td>\n",
       "      <td>1.677082</td>\n",
       "      <td>4.071831</td>\n",
       "      <td>0.672404</td>\n",
       "    </tr>\n",
       "    <tr>\n",
       "      <th>1</th>\n",
       "      <td>1</td>\n",
       "      <td>Afghanistan</td>\n",
       "      <td>AFG</td>\n",
       "      <td>1991</td>\n",
       "      <td>0.160312</td>\n",
       "      <td>0.697961</td>\n",
       "      <td>0.099313</td>\n",
       "      <td>4.829740</td>\n",
       "      <td>1.684746</td>\n",
       "      <td>4.079531</td>\n",
       "      <td>0.671768</td>\n",
       "    </tr>\n",
       "    <tr>\n",
       "      <th>2</th>\n",
       "      <td>2</td>\n",
       "      <td>Afghanistan</td>\n",
       "      <td>AFG</td>\n",
       "      <td>1992</td>\n",
       "      <td>0.160135</td>\n",
       "      <td>0.698107</td>\n",
       "      <td>0.096692</td>\n",
       "      <td>4.831108</td>\n",
       "      <td>1.694334</td>\n",
       "      <td>4.088358</td>\n",
       "      <td>0.670644</td>\n",
       "    </tr>\n",
       "    <tr>\n",
       "      <th>3</th>\n",
       "      <td>3</td>\n",
       "      <td>Afghanistan</td>\n",
       "      <td>AFG</td>\n",
       "      <td>1993</td>\n",
       "      <td>0.160037</td>\n",
       "      <td>0.698257</td>\n",
       "      <td>0.094336</td>\n",
       "      <td>4.830864</td>\n",
       "      <td>1.705320</td>\n",
       "      <td>4.096190</td>\n",
       "      <td>0.669738</td>\n",
       "    </tr>\n",
       "    <tr>\n",
       "      <th>4</th>\n",
       "      <td>4</td>\n",
       "      <td>Afghanistan</td>\n",
       "      <td>AFG</td>\n",
       "      <td>1994</td>\n",
       "      <td>0.160022</td>\n",
       "      <td>0.698469</td>\n",
       "      <td>0.092439</td>\n",
       "      <td>4.829423</td>\n",
       "      <td>1.716069</td>\n",
       "      <td>4.099582</td>\n",
       "      <td>0.669260</td>\n",
       "    </tr>\n",
       "    <tr>\n",
       "      <th>...</th>\n",
       "      <td>...</td>\n",
       "      <td>...</td>\n",
       "      <td>...</td>\n",
       "      <td>...</td>\n",
       "      <td>...</td>\n",
       "      <td>...</td>\n",
       "      <td>...</td>\n",
       "      <td>...</td>\n",
       "      <td>...</td>\n",
       "      <td>...</td>\n",
       "      <td>...</td>\n",
       "    </tr>\n",
       "    <tr>\n",
       "      <th>108408</th>\n",
       "      <td>108548</td>\n",
       "      <td>Zimbabwe</td>\n",
       "      <td>ZWE</td>\n",
       "      <td>2013</td>\n",
       "      <td>303564.60359</td>\n",
       "      <td>NaN</td>\n",
       "      <td>NaN</td>\n",
       "      <td>NaN</td>\n",
       "      <td>NaN</td>\n",
       "      <td>NaN</td>\n",
       "      <td>NaN</td>\n",
       "    </tr>\n",
       "    <tr>\n",
       "      <th>108409</th>\n",
       "      <td>108549</td>\n",
       "      <td>Zimbabwe</td>\n",
       "      <td>ZWE</td>\n",
       "      <td>2014</td>\n",
       "      <td>311665.769283</td>\n",
       "      <td>NaN</td>\n",
       "      <td>NaN</td>\n",
       "      <td>NaN</td>\n",
       "      <td>NaN</td>\n",
       "      <td>NaN</td>\n",
       "      <td>NaN</td>\n",
       "    </tr>\n",
       "    <tr>\n",
       "      <th>108410</th>\n",
       "      <td>108550</td>\n",
       "      <td>Zimbabwe</td>\n",
       "      <td>ZWE</td>\n",
       "      <td>2015</td>\n",
       "      <td>320638.507158</td>\n",
       "      <td>NaN</td>\n",
       "      <td>NaN</td>\n",
       "      <td>NaN</td>\n",
       "      <td>NaN</td>\n",
       "      <td>NaN</td>\n",
       "      <td>NaN</td>\n",
       "    </tr>\n",
       "    <tr>\n",
       "      <th>108411</th>\n",
       "      <td>108551</td>\n",
       "      <td>Zimbabwe</td>\n",
       "      <td>ZWE</td>\n",
       "      <td>2016</td>\n",
       "      <td>330437.353798</td>\n",
       "      <td>NaN</td>\n",
       "      <td>NaN</td>\n",
       "      <td>NaN</td>\n",
       "      <td>NaN</td>\n",
       "      <td>NaN</td>\n",
       "      <td>NaN</td>\n",
       "    </tr>\n",
       "    <tr>\n",
       "      <th>108412</th>\n",
       "      <td>108552</td>\n",
       "      <td>Zimbabwe</td>\n",
       "      <td>ZWE</td>\n",
       "      <td>2017</td>\n",
       "      <td>340583.157405</td>\n",
       "      <td>NaN</td>\n",
       "      <td>NaN</td>\n",
       "      <td>NaN</td>\n",
       "      <td>NaN</td>\n",
       "      <td>NaN</td>\n",
       "      <td>NaN</td>\n",
       "    </tr>\n",
       "  </tbody>\n",
       "</table>\n",
       "<p>108413 rows × 11 columns</p>\n",
       "</div>"
      ],
      "text/plain": [
       "         index       Entity Code  Year Schizophrenia (%) Bipolar disorder (%)  \\\n",
       "0            0  Afghanistan  AFG  1990           0.16056             0.697779   \n",
       "1            1  Afghanistan  AFG  1991          0.160312             0.697961   \n",
       "2            2  Afghanistan  AFG  1992          0.160135             0.698107   \n",
       "3            3  Afghanistan  AFG  1993          0.160037             0.698257   \n",
       "4            4  Afghanistan  AFG  1994          0.160022             0.698469   \n",
       "...        ...          ...  ...   ...               ...                  ...   \n",
       "108408  108548     Zimbabwe  ZWE  2013      303564.60359                  NaN   \n",
       "108409  108549     Zimbabwe  ZWE  2014     311665.769283                  NaN   \n",
       "108410  108550     Zimbabwe  ZWE  2015     320638.507158                  NaN   \n",
       "108411  108551     Zimbabwe  ZWE  2016     330437.353798                  NaN   \n",
       "108412  108552     Zimbabwe  ZWE  2017     340583.157405                  NaN   \n",
       "\n",
       "       Eating disorders (%)  Anxiety disorders (%)  Drug use disorders (%)  \\\n",
       "0                  0.101855               4.828830                1.677082   \n",
       "1                  0.099313               4.829740                1.684746   \n",
       "2                  0.096692               4.831108                1.694334   \n",
       "3                  0.094336               4.830864                1.705320   \n",
       "4                  0.092439               4.829423                1.716069   \n",
       "...                     ...                    ...                     ...   \n",
       "108408                  NaN                    NaN                     NaN   \n",
       "108409                  NaN                    NaN                     NaN   \n",
       "108410                  NaN                    NaN                     NaN   \n",
       "108411                  NaN                    NaN                     NaN   \n",
       "108412                  NaN                    NaN                     NaN   \n",
       "\n",
       "        Depression (%)  Alcohol use disorders (%)  \n",
       "0             4.071831                   0.672404  \n",
       "1             4.079531                   0.671768  \n",
       "2             4.088358                   0.670644  \n",
       "3             4.096190                   0.669738  \n",
       "4             4.099582                   0.669260  \n",
       "...                ...                        ...  \n",
       "108408             NaN                        NaN  \n",
       "108409             NaN                        NaN  \n",
       "108410             NaN                        NaN  \n",
       "108411             NaN                        NaN  \n",
       "108412             NaN                        NaN  \n",
       "\n",
       "[108413 rows x 11 columns]"
      ]
     },
     "execution_count": 6,
     "metadata": {},
     "output_type": "execute_result"
    }
   ],
   "source": [
    "disorder_df.reset_index(drop=True)"
   ]
  },
  {
   "cell_type": "code",
   "execution_count": 7,
   "id": "a15c5e95",
   "metadata": {},
   "outputs": [],
   "source": [
    "disorder_df.drop(columns=['index'],inplace=True)"
   ]
  },
  {
   "cell_type": "code",
   "execution_count": 8,
   "id": "da7e3171",
   "metadata": {},
   "outputs": [
    {
     "name": "stdout",
     "output_type": "stream",
     "text": [
      "<class 'pandas.core.frame.DataFrame'>\n",
      "Int64Index: 108413 entries, 0 to 108552\n",
      "Data columns (total 10 columns):\n",
      " #   Column                     Non-Null Count   Dtype  \n",
      "---  ------                     --------------   -----  \n",
      " 0   Entity                     108413 non-null  object \n",
      " 1   Code                       103121 non-null  object \n",
      " 2   Year                       108413 non-null  object \n",
      " 3   Schizophrenia (%)          25875 non-null   object \n",
      " 4   Bipolar disorder (%)       19406 non-null   object \n",
      " 5   Eating disorders (%)       100096 non-null  object \n",
      " 6   Anxiety disorders (%)      6468 non-null    float64\n",
      " 7   Drug use disorders (%)     6468 non-null    float64\n",
      " 8   Depression (%)             6468 non-null    float64\n",
      " 9   Alcohol use disorders (%)  6468 non-null    float64\n",
      "dtypes: float64(4), object(6)\n",
      "memory usage: 9.1+ MB\n"
     ]
    }
   ],
   "source": [
    "disorder_df.info()"
   ]
  },
  {
   "cell_type": "code",
   "execution_count": 9,
   "id": "ffd9f5df",
   "metadata": {},
   "outputs": [],
   "source": [
    "disorder_df.to_csv('Global Mental Health.csv',index=False)"
   ]
  },
  {
   "cell_type": "code",
   "execution_count": 10,
   "id": "be632ff5",
   "metadata": {},
   "outputs": [
    {
     "name": "stderr",
     "output_type": "stream",
     "text": [
      "C:\\Users\\user\\AppData\\Local\\Temp\\ipykernel_4536\\2181830882.py:1: DtypeWarning: Columns (4,5) have mixed types. Specify dtype option on import or set low_memory=False.\n",
      "  disorder_df_2 = pd.read_csv('Global Mental Health.csv')\n"
     ]
    }
   ],
   "source": [
    "disorder_df_2 = pd.read_csv('Global Mental Health.csv')"
   ]
  },
  {
   "cell_type": "code",
   "execution_count": 11,
   "id": "ea35c516",
   "metadata": {},
   "outputs": [
    {
     "name": "stdout",
     "output_type": "stream",
     "text": [
      "<class 'pandas.core.frame.DataFrame'>\n",
      "RangeIndex: 108413 entries, 0 to 108412\n",
      "Data columns (total 10 columns):\n",
      " #   Column                     Non-Null Count   Dtype  \n",
      "---  ------                     --------------   -----  \n",
      " 0   Entity                     108413 non-null  object \n",
      " 1   Code                       103121 non-null  object \n",
      " 2   Year                       108413 non-null  object \n",
      " 3   Schizophrenia (%)          25875 non-null   object \n",
      " 4   Bipolar disorder (%)       19406 non-null   object \n",
      " 5   Eating disorders (%)       100096 non-null  object \n",
      " 6   Anxiety disorders (%)      6468 non-null    float64\n",
      " 7   Drug use disorders (%)     6468 non-null    float64\n",
      " 8   Depression (%)             6468 non-null    float64\n",
      " 9   Alcohol use disorders (%)  6468 non-null    float64\n",
      "dtypes: float64(4), object(6)\n",
      "memory usage: 8.3+ MB\n"
     ]
    }
   ],
   "source": [
    "disorder_df_2.info()"
   ]
  },
  {
   "cell_type": "code",
   "execution_count": 12,
   "id": "1e60840a",
   "metadata": {},
   "outputs": [
    {
     "name": "stdout",
     "output_type": "stream",
     "text": [
      "<class 'pandas.core.frame.DataFrame'>\n",
      "Int64Index: 6468 entries, 0 to 6467\n",
      "Data columns (total 10 columns):\n",
      " #   Column                     Non-Null Count  Dtype  \n",
      "---  ------                     --------------  -----  \n",
      " 0   Entity                     6468 non-null   object \n",
      " 1   Code                       5488 non-null   object \n",
      " 2   Year                       6468 non-null   object \n",
      " 3   Schizophrenia (%)          6468 non-null   object \n",
      " 4   Bipolar disorder (%)       6468 non-null   object \n",
      " 5   Eating disorders (%)       6468 non-null   object \n",
      " 6   Anxiety disorders (%)      6468 non-null   float64\n",
      " 7   Drug use disorders (%)     6468 non-null   float64\n",
      " 8   Depression (%)             6468 non-null   float64\n",
      " 9   Alcohol use disorders (%)  6468 non-null   float64\n",
      "dtypes: float64(4), object(6)\n",
      "memory usage: 555.8+ KB\n"
     ]
    }
   ],
   "source": [
    "mental_health_tab_1 = disorder_df.iloc[:6468].copy()\n",
    "mental_health_tab_1.info()"
   ]
  },
  {
   "cell_type": "code",
   "execution_count": 13,
   "id": "f04fefb4",
   "metadata": {},
   "outputs": [],
   "source": [
    "mental_health_tab_1.columns = ['country', 'country_code', 'year','schizophrenia', 'bipolar','eating', 'anxiety','drug_use', 'depression','alcohol_use']"
   ]
  },
  {
   "cell_type": "code",
   "execution_count": 14,
   "id": "2ca214bc",
   "metadata": {},
   "outputs": [
    {
     "name": "stdout",
     "output_type": "stream",
     "text": [
      "<class 'pandas.core.frame.DataFrame'>\n",
      "Int64Index: 6468 entries, 0 to 6467\n",
      "Data columns (total 10 columns):\n",
      " #   Column         Non-Null Count  Dtype  \n",
      "---  ------         --------------  -----  \n",
      " 0   country        6468 non-null   object \n",
      " 1   country_code   5488 non-null   object \n",
      " 2   year           6468 non-null   object \n",
      " 3   schizophrenia  6468 non-null   object \n",
      " 4   bipolar        6468 non-null   object \n",
      " 5   eating         6468 non-null   object \n",
      " 6   anxiety        6468 non-null   float64\n",
      " 7   drug_use       6468 non-null   float64\n",
      " 8   depression     6468 non-null   float64\n",
      " 9   alcohol_use    6468 non-null   float64\n",
      "dtypes: float64(4), object(6)\n",
      "memory usage: 555.8+ KB\n"
     ]
    }
   ],
   "source": [
    "mental_health_tab_1.info()"
   ]
  },
  {
   "cell_type": "code",
   "execution_count": 15,
   "id": "b889c682",
   "metadata": {},
   "outputs": [
    {
     "data": {
      "text/html": [
       "<div>\n",
       "<style scoped>\n",
       "    .dataframe tbody tr th:only-of-type {\n",
       "        vertical-align: middle;\n",
       "    }\n",
       "\n",
       "    .dataframe tbody tr th {\n",
       "        vertical-align: top;\n",
       "    }\n",
       "\n",
       "    .dataframe thead th {\n",
       "        text-align: right;\n",
       "    }\n",
       "</style>\n",
       "<table border=\"1\" class=\"dataframe\">\n",
       "  <thead>\n",
       "    <tr style=\"text-align: right;\">\n",
       "      <th></th>\n",
       "      <th>country</th>\n",
       "      <th>country_code</th>\n",
       "      <th>year</th>\n",
       "      <th>schizophrenia</th>\n",
       "      <th>bipolar</th>\n",
       "      <th>eating</th>\n",
       "      <th>anxiety</th>\n",
       "      <th>drug_use</th>\n",
       "      <th>depression</th>\n",
       "      <th>alcohol_use</th>\n",
       "    </tr>\n",
       "  </thead>\n",
       "  <tbody>\n",
       "    <tr>\n",
       "      <th>6463</th>\n",
       "      <td>Zimbabwe</td>\n",
       "      <td>ZWE</td>\n",
       "      <td>2013</td>\n",
       "      <td>0.15567</td>\n",
       "      <td>0.607993</td>\n",
       "      <td>0.117248</td>\n",
       "      <td>3.090168</td>\n",
       "      <td>0.766280</td>\n",
       "      <td>3.128192</td>\n",
       "      <td>1.515641</td>\n",
       "    </tr>\n",
       "    <tr>\n",
       "      <th>6464</th>\n",
       "      <td>Zimbabwe</td>\n",
       "      <td>ZWE</td>\n",
       "      <td>2014</td>\n",
       "      <td>0.155993</td>\n",
       "      <td>0.60861</td>\n",
       "      <td>0.118073</td>\n",
       "      <td>3.093964</td>\n",
       "      <td>0.768914</td>\n",
       "      <td>3.140290</td>\n",
       "      <td>1.515470</td>\n",
       "    </tr>\n",
       "    <tr>\n",
       "      <th>6465</th>\n",
       "      <td>Zimbabwe</td>\n",
       "      <td>ZWE</td>\n",
       "      <td>2015</td>\n",
       "      <td>0.156465</td>\n",
       "      <td>0.609363</td>\n",
       "      <td>0.11947</td>\n",
       "      <td>3.098687</td>\n",
       "      <td>0.771802</td>\n",
       "      <td>3.155710</td>\n",
       "      <td>1.514751</td>\n",
       "    </tr>\n",
       "    <tr>\n",
       "      <th>6466</th>\n",
       "      <td>Zimbabwe</td>\n",
       "      <td>ZWE</td>\n",
       "      <td>2016</td>\n",
       "      <td>0.157111</td>\n",
       "      <td>0.610234</td>\n",
       "      <td>0.121456</td>\n",
       "      <td>3.104294</td>\n",
       "      <td>0.772275</td>\n",
       "      <td>3.174134</td>\n",
       "      <td>1.513269</td>\n",
       "    </tr>\n",
       "    <tr>\n",
       "      <th>6467</th>\n",
       "      <td>Zimbabwe</td>\n",
       "      <td>ZWE</td>\n",
       "      <td>2017</td>\n",
       "      <td>0.157963</td>\n",
       "      <td>0.611242</td>\n",
       "      <td>0.124443</td>\n",
       "      <td>3.110926</td>\n",
       "      <td>0.772648</td>\n",
       "      <td>3.192789</td>\n",
       "      <td>1.510943</td>\n",
       "    </tr>\n",
       "  </tbody>\n",
       "</table>\n",
       "</div>"
      ],
      "text/plain": [
       "       country country_code  year schizophrenia   bipolar    eating   anxiety  \\\n",
       "6463  Zimbabwe          ZWE  2013       0.15567  0.607993  0.117248  3.090168   \n",
       "6464  Zimbabwe          ZWE  2014      0.155993   0.60861  0.118073  3.093964   \n",
       "6465  Zimbabwe          ZWE  2015      0.156465  0.609363   0.11947  3.098687   \n",
       "6466  Zimbabwe          ZWE  2016      0.157111  0.610234  0.121456  3.104294   \n",
       "6467  Zimbabwe          ZWE  2017      0.157963  0.611242  0.124443  3.110926   \n",
       "\n",
       "      drug_use  depression  alcohol_use  \n",
       "6463  0.766280    3.128192     1.515641  \n",
       "6464  0.768914    3.140290     1.515470  \n",
       "6465  0.771802    3.155710     1.514751  \n",
       "6466  0.772275    3.174134     1.513269  \n",
       "6467  0.772648    3.192789     1.510943  "
      ]
     },
     "execution_count": 15,
     "metadata": {},
     "output_type": "execute_result"
    }
   ],
   "source": [
    "mental_health_tab_1.tail()"
   ]
  },
  {
   "cell_type": "code",
   "execution_count": 16,
   "id": "b2c34a6f",
   "metadata": {},
   "outputs": [],
   "source": [
    "data_type_change_cols = ['year','schizophrenia','bipolar','eating']\n",
    "\n",
    "for col in data_type_change_cols :\n",
    "    mental_health_tab_1[col] = mental_health_tab_1[col].astype('float64')"
   ]
  },
  {
   "cell_type": "code",
   "execution_count": 17,
   "id": "252e6329",
   "metadata": {},
   "outputs": [
    {
     "name": "stdout",
     "output_type": "stream",
     "text": [
      "<class 'pandas.core.frame.DataFrame'>\n",
      "Int64Index: 6468 entries, 0 to 6467\n",
      "Data columns (total 10 columns):\n",
      " #   Column         Non-Null Count  Dtype  \n",
      "---  ------         --------------  -----  \n",
      " 0   country        6468 non-null   object \n",
      " 1   country_code   5488 non-null   object \n",
      " 2   year           6468 non-null   float64\n",
      " 3   schizophrenia  6468 non-null   float64\n",
      " 4   bipolar        6468 non-null   float64\n",
      " 5   eating         6468 non-null   float64\n",
      " 6   anxiety        6468 non-null   float64\n",
      " 7   drug_use       6468 non-null   float64\n",
      " 8   depression     6468 non-null   float64\n",
      " 9   alcohol_use    6468 non-null   float64\n",
      "dtypes: float64(8), object(2)\n",
      "memory usage: 555.8+ KB\n"
     ]
    }
   ],
   "source": [
    "mental_health_tab_1.info()"
   ]
  },
  {
   "cell_type": "code",
   "execution_count": 18,
   "id": "381ff1fa",
   "metadata": {},
   "outputs": [
    {
     "name": "stdout",
     "output_type": "stream",
     "text": [
      "<class 'pandas.core.frame.DataFrame'>\n",
      "Int64Index: 6468 entries, 0 to 6467\n",
      "Data columns (total 10 columns):\n",
      " #   Column         Non-Null Count  Dtype  \n",
      "---  ------         --------------  -----  \n",
      " 0   country        6468 non-null   object \n",
      " 1   country_code   5488 non-null   object \n",
      " 2   year           6468 non-null   int32  \n",
      " 3   schizophrenia  6468 non-null   float64\n",
      " 4   bipolar        6468 non-null   float64\n",
      " 5   eating         6468 non-null   float64\n",
      " 6   anxiety        6468 non-null   float64\n",
      " 7   drug_use       6468 non-null   float64\n",
      " 8   depression     6468 non-null   float64\n",
      " 9   alcohol_use    6468 non-null   float64\n",
      "dtypes: float64(7), int32(1), object(2)\n",
      "memory usage: 530.6+ KB\n"
     ]
    }
   ],
   "source": [
    "mental_health_tab_1['year'] = mental_health_tab_1['year'].astype('int')\n",
    "\n",
    "mental_health_tab_1.info()"
   ]
  },
  {
   "cell_type": "code",
   "execution_count": 19,
   "id": "320de0eb",
   "metadata": {},
   "outputs": [],
   "source": [
    "disorder_flt = mental_health_tab_1[mental_health_tab_1['year'] >= 1997]"
   ]
  },
  {
   "cell_type": "code",
   "execution_count": 20,
   "id": "d3524d4a",
   "metadata": {},
   "outputs": [
    {
     "name": "stdout",
     "output_type": "stream",
     "text": [
      "<class 'pandas.core.frame.DataFrame'>\n",
      "Int64Index: 4851 entries, 7 to 6467\n",
      "Data columns (total 10 columns):\n",
      " #   Column         Non-Null Count  Dtype  \n",
      "---  ------         --------------  -----  \n",
      " 0   country        4851 non-null   object \n",
      " 1   country_code   4116 non-null   object \n",
      " 2   year           4851 non-null   int32  \n",
      " 3   schizophrenia  4851 non-null   float64\n",
      " 4   bipolar        4851 non-null   float64\n",
      " 5   eating         4851 non-null   float64\n",
      " 6   anxiety        4851 non-null   float64\n",
      " 7   drug_use       4851 non-null   float64\n",
      " 8   depression     4851 non-null   float64\n",
      " 9   alcohol_use    4851 non-null   float64\n",
      "dtypes: float64(7), int32(1), object(2)\n",
      "memory usage: 397.9+ KB\n"
     ]
    }
   ],
   "source": [
    "disorder_flt.info()"
   ]
  },
  {
   "cell_type": "code",
   "execution_count": 21,
   "id": "e9ac2a6c",
   "metadata": {},
   "outputs": [],
   "source": [
    "disorder_flt.reset_index(inplace=True)"
   ]
  },
  {
   "cell_type": "code",
   "execution_count": 22,
   "id": "e87eed1c",
   "metadata": {},
   "outputs": [
    {
     "data": {
      "text/plain": [
       "{'Afghanistan': 'AFG',\n",
       " 'Albania': 'ALB',\n",
       " 'Algeria': 'DZA',\n",
       " 'American Samoa': 'ASM',\n",
       " 'Andean Latin America': nan,\n",
       " 'Andorra': 'AND',\n",
       " 'Angola': 'AGO',\n",
       " 'Antigua and Barbuda': 'ATG',\n",
       " 'Argentina': 'ARG',\n",
       " 'Armenia': 'ARM',\n",
       " 'Australasia': nan,\n",
       " 'Australia': 'AUS',\n",
       " 'Austria': 'AUT',\n",
       " 'Azerbaijan': 'AZE',\n",
       " 'Bahamas': 'BHS',\n",
       " 'Bahrain': 'BHR',\n",
       " 'Bangladesh': 'BGD',\n",
       " 'Barbados': 'BRB',\n",
       " 'Belarus': 'BLR',\n",
       " 'Belgium': 'BEL',\n",
       " 'Belize': 'BLZ',\n",
       " 'Benin': 'BEN',\n",
       " 'Bermuda': 'BMU',\n",
       " 'Bhutan': 'BTN',\n",
       " 'Bolivia': 'BOL',\n",
       " 'Bosnia and Herzegovina': 'BIH',\n",
       " 'Botswana': 'BWA',\n",
       " 'Brazil': 'BRA',\n",
       " 'Brunei': 'BRN',\n",
       " 'Bulgaria': 'BGR',\n",
       " 'Burkina Faso': 'BFA',\n",
       " 'Burundi': 'BDI',\n",
       " 'Cambodia': 'KHM',\n",
       " 'Cameroon': 'CMR',\n",
       " 'Canada': 'CAN',\n",
       " 'Cape Verde': 'CPV',\n",
       " 'Caribbean': nan,\n",
       " 'Central African Republic': 'CAF',\n",
       " 'Central Asia': nan,\n",
       " 'Central Europe': nan,\n",
       " 'Central Europe, Eastern Europe, and Central Asia': nan,\n",
       " 'Central Latin America': nan,\n",
       " 'Central Sub-Saharan Africa': nan,\n",
       " 'Chad': 'TCD',\n",
       " 'Chile': 'CHL',\n",
       " 'China': 'CHN',\n",
       " 'Colombia': 'COL',\n",
       " 'Comoros': 'COM',\n",
       " 'Congo': 'COG',\n",
       " 'Costa Rica': 'CRI',\n",
       " \"Cote d'Ivoire\": 'CIV',\n",
       " 'Croatia': 'HRV',\n",
       " 'Cuba': 'CUB',\n",
       " 'Cyprus': 'CYP',\n",
       " 'Czech Republic': 'CZE',\n",
       " 'Democratic Republic of Congo': 'COD',\n",
       " 'Denmark': 'DNK',\n",
       " 'Djibouti': 'DJI',\n",
       " 'Dominica': 'DMA',\n",
       " 'Dominican Republic': 'DOM',\n",
       " 'East Asia': nan,\n",
       " 'Eastern Europe': nan,\n",
       " 'Eastern Sub-Saharan Africa': nan,\n",
       " 'Ecuador': 'ECU',\n",
       " 'Egypt': 'EGY',\n",
       " 'El Salvador': 'SLV',\n",
       " 'England': nan,\n",
       " 'Equatorial Guinea': 'GNQ',\n",
       " 'Eritrea': 'ERI',\n",
       " 'Estonia': 'EST',\n",
       " 'Ethiopia': 'ETH',\n",
       " 'Fiji': 'FJI',\n",
       " 'Finland': 'FIN',\n",
       " 'France': 'FRA',\n",
       " 'Gabon': 'GAB',\n",
       " 'Gambia': 'GMB',\n",
       " 'Georgia': 'GEO',\n",
       " 'Germany': 'DEU',\n",
       " 'Ghana': 'GHA',\n",
       " 'Greece': 'GRC',\n",
       " 'Greenland': 'GRL',\n",
       " 'Grenada': 'GRD',\n",
       " 'Guam': 'GUM',\n",
       " 'Guatemala': 'GTM',\n",
       " 'Guinea': 'GIN',\n",
       " 'Guinea-Bissau': 'GNB',\n",
       " 'Guyana': 'GUY',\n",
       " 'Haiti': 'HTI',\n",
       " 'High SDI': nan,\n",
       " 'High-income': nan,\n",
       " 'High-income Asia Pacific': nan,\n",
       " 'High-middle SDI': nan,\n",
       " 'Honduras': 'HND',\n",
       " 'Hungary': 'HUN',\n",
       " 'Iceland': 'ISL',\n",
       " 'India': 'IND',\n",
       " 'Indonesia': 'IDN',\n",
       " 'Iran': 'IRN',\n",
       " 'Iraq': 'IRQ',\n",
       " 'Ireland': 'IRL',\n",
       " 'Israel': 'ISR',\n",
       " 'Italy': 'ITA',\n",
       " 'Jamaica': 'JAM',\n",
       " 'Japan': 'JPN',\n",
       " 'Jordan': 'JOR',\n",
       " 'Kazakhstan': 'KAZ',\n",
       " 'Kenya': 'KEN',\n",
       " 'Kiribati': 'KIR',\n",
       " 'Kuwait': 'KWT',\n",
       " 'Kyrgyzstan': 'KGZ',\n",
       " 'Laos': 'LAO',\n",
       " 'Latin America and Caribbean': nan,\n",
       " 'Latvia': 'LVA',\n",
       " 'Lebanon': 'LBN',\n",
       " 'Lesotho': 'LSO',\n",
       " 'Liberia': 'LBR',\n",
       " 'Libya': 'LBY',\n",
       " 'Lithuania': 'LTU',\n",
       " 'Low SDI': nan,\n",
       " 'Low-middle SDI': nan,\n",
       " 'Luxembourg': 'LUX',\n",
       " 'Macedonia': 'MKD',\n",
       " 'Madagascar': 'MDG',\n",
       " 'Malawi': 'MWI',\n",
       " 'Malaysia': 'MYS',\n",
       " 'Maldives': 'MDV',\n",
       " 'Mali': 'MLI',\n",
       " 'Malta': 'MLT',\n",
       " 'Marshall Islands': 'MHL',\n",
       " 'Mauritania': 'MRT',\n",
       " 'Mauritius': 'MUS',\n",
       " 'Mexico': 'MEX',\n",
       " 'Micronesia (country)': 'FSM',\n",
       " 'Middle SDI': nan,\n",
       " 'Moldova': 'MDA',\n",
       " 'Mongolia': 'MNG',\n",
       " 'Montenegro': 'MNE',\n",
       " 'Morocco': 'MAR',\n",
       " 'Mozambique': 'MOZ',\n",
       " 'Myanmar': 'MMR',\n",
       " 'Namibia': 'NAM',\n",
       " 'Nepal': 'NPL',\n",
       " 'Netherlands': 'NLD',\n",
       " 'New Zealand': 'NZL',\n",
       " 'Nicaragua': 'NIC',\n",
       " 'Niger': 'NER',\n",
       " 'Nigeria': 'NGA',\n",
       " 'North Africa and Middle East': nan,\n",
       " 'North America': nan,\n",
       " 'North Korea': 'PRK',\n",
       " 'Northern Ireland': nan,\n",
       " 'Northern Mariana Islands': 'MNP',\n",
       " 'Norway': 'NOR',\n",
       " 'Oceania': nan,\n",
       " 'Oman': 'OMN',\n",
       " 'Pakistan': 'PAK',\n",
       " 'Palestine': 'PSE',\n",
       " 'Panama': 'PAN',\n",
       " 'Papua New Guinea': 'PNG',\n",
       " 'Paraguay': 'PRY',\n",
       " 'Peru': 'PER',\n",
       " 'Philippines': 'PHL',\n",
       " 'Poland': 'POL',\n",
       " 'Portugal': 'PRT',\n",
       " 'Puerto Rico': 'PRI',\n",
       " 'Qatar': 'QAT',\n",
       " 'Romania': 'ROU',\n",
       " 'Russia': 'RUS',\n",
       " 'Rwanda': 'RWA',\n",
       " 'Saint Lucia': 'LCA',\n",
       " 'Saint Vincent and the Grenadines': 'VCT',\n",
       " 'Samoa': 'WSM',\n",
       " 'Sao Tome and Principe': 'STP',\n",
       " 'Saudi Arabia': 'SAU',\n",
       " 'Scotland': nan,\n",
       " 'Senegal': 'SEN',\n",
       " 'Serbia': 'SRB',\n",
       " 'Seychelles': 'SYC',\n",
       " 'Sierra Leone': 'SLE',\n",
       " 'Singapore': 'SGP',\n",
       " 'Slovakia': 'SVK',\n",
       " 'Slovenia': 'SVN',\n",
       " 'Solomon Islands': 'SLB',\n",
       " 'Somalia': 'SOM',\n",
       " 'South Africa': 'ZAF',\n",
       " 'South Asia': nan,\n",
       " 'South Korea': 'KOR',\n",
       " 'South Sudan': 'SSD',\n",
       " 'Southeast Asia': nan,\n",
       " 'Southeast Asia, East Asia, and Oceania': nan,\n",
       " 'Southern Latin America': nan,\n",
       " 'Southern Sub-Saharan Africa': nan,\n",
       " 'Spain': 'ESP',\n",
       " 'Sri Lanka': 'LKA',\n",
       " 'Sub-Saharan Africa': nan,\n",
       " 'Sudan': 'SDN',\n",
       " 'Suriname': 'SUR',\n",
       " 'Swaziland': 'SWZ',\n",
       " 'Sweden': 'SWE',\n",
       " 'Switzerland': 'CHE',\n",
       " 'Syria': 'SYR',\n",
       " 'Taiwan': 'TWN',\n",
       " 'Tajikistan': 'TJK',\n",
       " 'Tanzania': 'TZA',\n",
       " 'Thailand': 'THA',\n",
       " 'Timor': 'TLS',\n",
       " 'Togo': 'TGO',\n",
       " 'Tonga': 'TON',\n",
       " 'Trinidad and Tobago': 'TTO',\n",
       " 'Tropical Latin America': nan,\n",
       " 'Tunisia': 'TUN',\n",
       " 'Turkey': 'TUR',\n",
       " 'Turkmenistan': 'TKM',\n",
       " 'Uganda': 'UGA',\n",
       " 'Ukraine': 'UKR',\n",
       " 'United Arab Emirates': 'ARE',\n",
       " 'United Kingdom': 'GBR',\n",
       " 'United States': 'USA',\n",
       " 'United States Virgin Islands': 'VIR',\n",
       " 'Uruguay': 'URY',\n",
       " 'Uzbekistan': 'UZB',\n",
       " 'Vanuatu': 'VUT',\n",
       " 'Venezuela': 'VEN',\n",
       " 'Vietnam': 'VNM',\n",
       " 'Wales': nan,\n",
       " 'Western Europe': nan,\n",
       " 'Western Sub-Saharan Africa': nan,\n",
       " 'World': 'OWID_WRL',\n",
       " 'Yemen': 'YEM',\n",
       " 'Zambia': 'ZMB',\n",
       " 'Zimbabwe': 'ZWE'}"
      ]
     },
     "execution_count": 22,
     "metadata": {},
     "output_type": "execute_result"
    }
   ],
   "source": [
    "country_dict = {}\n",
    "\n",
    "for i in range(disorder_flt.shape[0]) :\n",
    "#     print(i)\n",
    "    country = disorder_flt.loc[i,'country']\n",
    "#     print(country)\n",
    "    code = disorder_flt.loc[i,'country_code']\n",
    "    country_dict[country] = code\n",
    "    \n",
    "country_dict    "
   ]
  },
  {
   "cell_type": "code",
   "execution_count": 23,
   "id": "4b44cdde",
   "metadata": {},
   "outputs": [
    {
     "name": "stdout",
     "output_type": "stream",
     "text": [
      "<class 'pandas.core.frame.DataFrame'>\n",
      "RangeIndex: 15110 entries, 0 to 15109\n",
      "Data columns (total 26 columns):\n",
      " #   Column                                                                             Non-Null Count  Dtype  \n",
      "---  ------                                                                             --------------  -----  \n",
      " 0   country                                                                            15110 non-null  object \n",
      " 1   year                                                                               15110 non-null  int64  \n",
      " 2   sex                                                                                15110 non-null  object \n",
      " 3   age                                                                                15110 non-null  object \n",
      " 4   suicides_no                                                                        15110 non-null  int64  \n",
      " 5   population                                                                         15110 non-null  int64  \n",
      " 6   suicidesper100k                                                                    15110 non-null  float64\n",
      " 7   country-year                                                                       15110 non-null  object \n",
      " 8   yearlyHDI                                                                          4740 non-null   float64\n",
      " 9   GDPpyear                                                                           15110 non-null  float64\n",
      " 10  GDPpcapital                                                                        15110 non-null  int64  \n",
      " 11  generation                                                                         15110 non-null  object \n",
      " 12  suicide%                                                                           15110 non-null  float64\n",
      " 13  Individuals using the Internet (% of population)                                   15002 non-null  float64\n",
      " 14  Expense (% of GDP)                                                                 13634 non-null  float64\n",
      " 15  Compensation of employees                                                          13538 non-null  float64\n",
      " 16  Unemployment(% of total labor force)                                               15110 non-null  float64\n",
      " 17  Physicians (per 1,000 people)                                                      12782 non-null  float64\n",
      " 18  Strength of legal rights index (0=weak to 12=strong)                               5618 non-null   float64\n",
      " 19  Labor force strength                                                               15110 non-null  int64  \n",
      " 20  Life expectancy                                                                    15110 non-null  float64\n",
      " 21  Mobile cellular subscriptions (per 100 people)                                     15110 non-null  float64\n",
      " 22  Refugee population by country or territory of origin                               14978 non-null  float64\n",
      " 23  Contributing family workers, total (% of total employment) (modeled ILO estimate)  15110 non-null  float64\n",
      " 24  Access to electricity (% of population)                                            14642 non-null  float64\n",
      " 25  Lower secondary completion rate, total (% of relevant age group)                   9542 non-null   float64\n",
      "dtypes: float64(16), int64(5), object(5)\n",
      "memory usage: 3.0+ MB\n"
     ]
    }
   ],
   "source": [
    "df_extra_features = pd.read_csv('suicidedataextrafestures.csv')\n",
    "\n",
    "df_extra_features.info()"
   ]
  },
  {
   "cell_type": "code",
   "execution_count": 24,
   "id": "5828fc02",
   "metadata": {},
   "outputs": [],
   "source": [
    "df_extra_features_v2 = df_extra_features[['country','year','GDPpyear','GDPpcapital','Expense (% of GDP)','Compensation of employees','Unemployment(% of total labor force)','Life expectancy','Individuals using the Internet (% of population)','Access to electricity (% of population)']]"
   ]
  },
  {
   "cell_type": "code",
   "execution_count": 25,
   "id": "da6ceb14",
   "metadata": {},
   "outputs": [
    {
     "name": "stdout",
     "output_type": "stream",
     "text": [
      "<class 'pandas.core.frame.DataFrame'>\n",
      "RangeIndex: 15110 entries, 0 to 15109\n",
      "Data columns (total 10 columns):\n",
      " #   Column                                            Non-Null Count  Dtype  \n",
      "---  ------                                            --------------  -----  \n",
      " 0   country                                           15110 non-null  object \n",
      " 1   year                                              15110 non-null  int64  \n",
      " 2   GDPpyear                                          15110 non-null  float64\n",
      " 3   GDPpcapital                                       15110 non-null  int64  \n",
      " 4   Expense (% of GDP)                                13634 non-null  float64\n",
      " 5   Compensation of employees                         13538 non-null  float64\n",
      " 6   Unemployment(% of total labor force)              15110 non-null  float64\n",
      " 7   Life expectancy                                   15110 non-null  float64\n",
      " 8   Individuals using the Internet (% of population)  15002 non-null  float64\n",
      " 9   Access to electricity (% of population)           14642 non-null  float64\n",
      "dtypes: float64(7), int64(2), object(1)\n",
      "memory usage: 1.2+ MB\n"
     ]
    }
   ],
   "source": [
    "df_extra_features_v2.info()"
   ]
  },
  {
   "cell_type": "code",
   "execution_count": 26,
   "id": "f0796185",
   "metadata": {},
   "outputs": [
    {
     "name": "stderr",
     "output_type": "stream",
     "text": [
      "C:\\Users\\user\\AppData\\Local\\Temp\\ipykernel_4536\\2417568466.py:1: SettingWithCopyWarning: \n",
      "A value is trying to be set on a copy of a slice from a DataFrame.\n",
      "Try using .loc[row_indexer,col_indexer] = value instead\n",
      "\n",
      "See the caveats in the documentation: https://pandas.pydata.org/pandas-docs/stable/user_guide/indexing.html#returning-a-view-versus-a-copy\n",
      "  df_extra_features_v2['country_code'] =  df_extra_features['country'].map(country_dict)\n"
     ]
    }
   ],
   "source": [
    "df_extra_features_v2['country_code'] =  df_extra_features['country'].map(country_dict)"
   ]
  },
  {
   "cell_type": "code",
   "execution_count": 27,
   "id": "ada5f77c",
   "metadata": {},
   "outputs": [
    {
     "name": "stderr",
     "output_type": "stream",
     "text": [
      "C:\\Users\\user\\AppData\\Local\\Temp\\ipykernel_4536\\1448332869.py:1: SettingWithCopyWarning: \n",
      "A value is trying to be set on a copy of a slice from a DataFrame\n",
      "\n",
      "See the caveats in the documentation: https://pandas.pydata.org/pandas-docs/stable/user_guide/indexing.html#returning-a-view-versus-a-copy\n",
      "  df_extra_features_v2.drop_duplicates(inplace=True)\n"
     ]
    }
   ],
   "source": [
    "df_extra_features_v2.drop_duplicates(inplace=True)"
   ]
  },
  {
   "cell_type": "code",
   "execution_count": 28,
   "id": "1e8786a8",
   "metadata": {},
   "outputs": [],
   "source": [
    "df_extra_features_v2.reset_index(inplace=True,drop=True)"
   ]
  },
  {
   "cell_type": "code",
   "execution_count": 29,
   "id": "986f911d",
   "metadata": {},
   "outputs": [
    {
     "name": "stdout",
     "output_type": "stream",
     "text": [
      "<class 'pandas.core.frame.DataFrame'>\n",
      "RangeIndex: 1261 entries, 0 to 1260\n",
      "Data columns (total 11 columns):\n",
      " #   Column                                            Non-Null Count  Dtype  \n",
      "---  ------                                            --------------  -----  \n",
      " 0   country                                           1261 non-null   object \n",
      " 1   year                                              1261 non-null   int64  \n",
      " 2   GDPpyear                                          1261 non-null   float64\n",
      " 3   GDPpcapital                                       1261 non-null   int64  \n",
      " 4   Expense (% of GDP)                                1138 non-null   float64\n",
      " 5   Compensation of employees                         1130 non-null   float64\n",
      " 6   Unemployment(% of total labor force)              1261 non-null   float64\n",
      " 7   Life expectancy                                   1261 non-null   float64\n",
      " 8   Individuals using the Internet (% of population)  1252 non-null   float64\n",
      " 9   Access to electricity (% of population)           1222 non-null   float64\n",
      " 10  country_code                                      1234 non-null   object \n",
      "dtypes: float64(7), int64(2), object(2)\n",
      "memory usage: 108.5+ KB\n"
     ]
    }
   ],
   "source": [
    "df_extra_features_v2.info()"
   ]
  },
  {
   "cell_type": "code",
   "execution_count": 30,
   "id": "246361b3",
   "metadata": {},
   "outputs": [
    {
     "data": {
      "text/html": [
       "<div>\n",
       "<style scoped>\n",
       "    .dataframe tbody tr th:only-of-type {\n",
       "        vertical-align: middle;\n",
       "    }\n",
       "\n",
       "    .dataframe tbody tr th {\n",
       "        vertical-align: top;\n",
       "    }\n",
       "\n",
       "    .dataframe thead th {\n",
       "        text-align: right;\n",
       "    }\n",
       "</style>\n",
       "<table border=\"1\" class=\"dataframe\">\n",
       "  <thead>\n",
       "    <tr style=\"text-align: right;\">\n",
       "      <th></th>\n",
       "      <th>country</th>\n",
       "      <th>year</th>\n",
       "      <th>GDPpyear</th>\n",
       "      <th>GDPpcapital</th>\n",
       "      <th>Expense (% of GDP)</th>\n",
       "      <th>Compensation of employees</th>\n",
       "      <th>Unemployment(% of total labor force)</th>\n",
       "      <th>Life expectancy</th>\n",
       "      <th>Individuals using the Internet (% of population)</th>\n",
       "      <th>Access to electricity (% of population)</th>\n",
       "      <th>country_code</th>\n",
       "    </tr>\n",
       "  </thead>\n",
       "  <tbody>\n",
       "    <tr>\n",
       "      <th>0</th>\n",
       "      <td>Argentina</td>\n",
       "      <td>1985</td>\n",
       "      <td>8.841667e+10</td>\n",
       "      <td>3264</td>\n",
       "      <td>0.0</td>\n",
       "      <td>0.0</td>\n",
       "      <td>0.0</td>\n",
       "      <td>0.0</td>\n",
       "      <td>0.0</td>\n",
       "      <td>0.0</td>\n",
       "      <td>ARG</td>\n",
       "    </tr>\n",
       "    <tr>\n",
       "      <th>1</th>\n",
       "      <td>Argentina</td>\n",
       "      <td>1986</td>\n",
       "      <td>1.110000e+11</td>\n",
       "      <td>4072</td>\n",
       "      <td>0.0</td>\n",
       "      <td>0.0</td>\n",
       "      <td>0.0</td>\n",
       "      <td>0.0</td>\n",
       "      <td>0.0</td>\n",
       "      <td>0.0</td>\n",
       "      <td>ARG</td>\n",
       "    </tr>\n",
       "    <tr>\n",
       "      <th>2</th>\n",
       "      <td>Argentina</td>\n",
       "      <td>1987</td>\n",
       "      <td>1.110000e+11</td>\n",
       "      <td>4026</td>\n",
       "      <td>0.0</td>\n",
       "      <td>0.0</td>\n",
       "      <td>0.0</td>\n",
       "      <td>0.0</td>\n",
       "      <td>0.0</td>\n",
       "      <td>0.0</td>\n",
       "      <td>ARG</td>\n",
       "    </tr>\n",
       "    <tr>\n",
       "      <th>3</th>\n",
       "      <td>Argentina</td>\n",
       "      <td>1988</td>\n",
       "      <td>1.260000e+11</td>\n",
       "      <td>4458</td>\n",
       "      <td>0.0</td>\n",
       "      <td>0.0</td>\n",
       "      <td>0.0</td>\n",
       "      <td>0.0</td>\n",
       "      <td>0.0</td>\n",
       "      <td>0.0</td>\n",
       "      <td>ARG</td>\n",
       "    </tr>\n",
       "    <tr>\n",
       "      <th>4</th>\n",
       "      <td>Argentina</td>\n",
       "      <td>1989</td>\n",
       "      <td>7.663690e+10</td>\n",
       "      <td>2670</td>\n",
       "      <td>0.0</td>\n",
       "      <td>0.0</td>\n",
       "      <td>0.0</td>\n",
       "      <td>0.0</td>\n",
       "      <td>0.0</td>\n",
       "      <td>0.0</td>\n",
       "      <td>ARG</td>\n",
       "    </tr>\n",
       "  </tbody>\n",
       "</table>\n",
       "</div>"
      ],
      "text/plain": [
       "     country  year      GDPpyear  GDPpcapital  Expense (% of GDP)  \\\n",
       "0  Argentina  1985  8.841667e+10         3264                 0.0   \n",
       "1  Argentina  1986  1.110000e+11         4072                 0.0   \n",
       "2  Argentina  1987  1.110000e+11         4026                 0.0   \n",
       "3  Argentina  1988  1.260000e+11         4458                 0.0   \n",
       "4  Argentina  1989  7.663690e+10         2670                 0.0   \n",
       "\n",
       "   Compensation of employees  Unemployment(% of total labor force)  \\\n",
       "0                        0.0                                   0.0   \n",
       "1                        0.0                                   0.0   \n",
       "2                        0.0                                   0.0   \n",
       "3                        0.0                                   0.0   \n",
       "4                        0.0                                   0.0   \n",
       "\n",
       "   Life expectancy  Individuals using the Internet (% of population)  \\\n",
       "0              0.0                                               0.0   \n",
       "1              0.0                                               0.0   \n",
       "2              0.0                                               0.0   \n",
       "3              0.0                                               0.0   \n",
       "4              0.0                                               0.0   \n",
       "\n",
       "   Access to electricity (% of population) country_code  \n",
       "0                                      0.0          ARG  \n",
       "1                                      0.0          ARG  \n",
       "2                                      0.0          ARG  \n",
       "3                                      0.0          ARG  \n",
       "4                                      0.0          ARG  "
      ]
     },
     "execution_count": 30,
     "metadata": {},
     "output_type": "execute_result"
    }
   ],
   "source": [
    "df_extra_features_v2.head()"
   ]
  },
  {
   "cell_type": "code",
   "execution_count": 31,
   "id": "f1952828",
   "metadata": {},
   "outputs": [],
   "source": [
    "disorder_flt = disorder_flt[['country_code','year','drug_use']].merge(df_extra_features_v2,on=['country_code','year'])"
   ]
  },
  {
   "cell_type": "code",
   "execution_count": 32,
   "id": "c4eec39e",
   "metadata": {},
   "outputs": [
    {
     "name": "stdout",
     "output_type": "stream",
     "text": [
      "<class 'pandas.core.frame.DataFrame'>\n",
      "Int64Index: 1481 entries, 0 to 1480\n",
      "Data columns (total 12 columns):\n",
      " #   Column                                            Non-Null Count  Dtype  \n",
      "---  ------                                            --------------  -----  \n",
      " 0   country_code                                      816 non-null    object \n",
      " 1   year                                              1481 non-null   int32  \n",
      " 2   drug_use                                          1481 non-null   float64\n",
      " 3   country                                           1481 non-null   object \n",
      " 4   GDPpyear                                          1481 non-null   float64\n",
      " 5   GDPpcapital                                       1481 non-null   int64  \n",
      " 6   Expense (% of GDP)                                1345 non-null   float64\n",
      " 7   Compensation of employees                         1306 non-null   float64\n",
      " 8   Unemployment(% of total labor force)              1481 non-null   float64\n",
      " 9   Life expectancy                                   1481 non-null   float64\n",
      " 10  Individuals using the Internet (% of population)  1474 non-null   float64\n",
      " 11  Access to electricity (% of population)           1457 non-null   float64\n",
      "dtypes: float64(8), int32(1), int64(1), object(2)\n",
      "memory usage: 144.6+ KB\n"
     ]
    }
   ],
   "source": [
    "disorder_flt.info()"
   ]
  },
  {
   "cell_type": "code",
   "execution_count": 33,
   "id": "6bf593a6",
   "metadata": {},
   "outputs": [
    {
     "data": {
      "text/html": [
       "<div>\n",
       "<style scoped>\n",
       "    .dataframe tbody tr th:only-of-type {\n",
       "        vertical-align: middle;\n",
       "    }\n",
       "\n",
       "    .dataframe tbody tr th {\n",
       "        vertical-align: top;\n",
       "    }\n",
       "\n",
       "    .dataframe thead th {\n",
       "        text-align: right;\n",
       "    }\n",
       "</style>\n",
       "<table border=\"1\" class=\"dataframe\">\n",
       "  <thead>\n",
       "    <tr style=\"text-align: right;\">\n",
       "      <th></th>\n",
       "      <th>country_code</th>\n",
       "      <th>year</th>\n",
       "      <th>drug_use</th>\n",
       "      <th>country</th>\n",
       "      <th>GDPpyear</th>\n",
       "      <th>GDPpcapital</th>\n",
       "      <th>Expense (% of GDP)</th>\n",
       "      <th>Compensation of employees</th>\n",
       "      <th>Unemployment(% of total labor force)</th>\n",
       "      <th>Life expectancy</th>\n",
       "      <th>Individuals using the Internet (% of population)</th>\n",
       "      <th>Access to electricity (% of population)</th>\n",
       "    </tr>\n",
       "  </thead>\n",
       "  <tbody>\n",
       "    <tr>\n",
       "      <th>0</th>\n",
       "      <td>NaN</td>\n",
       "      <td>1997</td>\n",
       "      <td>0.625305</td>\n",
       "      <td>Russian Federation</td>\n",
       "      <td>4.050000e+11</td>\n",
       "      <td>2907</td>\n",
       "      <td>NaN</td>\n",
       "      <td>NaN</td>\n",
       "      <td>11.813</td>\n",
       "      <td>66.69878</td>\n",
       "      <td>0.472964</td>\n",
       "      <td>100.0</td>\n",
       "    </tr>\n",
       "    <tr>\n",
       "      <th>1</th>\n",
       "      <td>NaN</td>\n",
       "      <td>1997</td>\n",
       "      <td>2.329014</td>\n",
       "      <td>Russian Federation</td>\n",
       "      <td>4.050000e+11</td>\n",
       "      <td>2907</td>\n",
       "      <td>NaN</td>\n",
       "      <td>NaN</td>\n",
       "      <td>11.813</td>\n",
       "      <td>66.69878</td>\n",
       "      <td>0.472964</td>\n",
       "      <td>100.0</td>\n",
       "    </tr>\n",
       "    <tr>\n",
       "      <th>2</th>\n",
       "      <td>NaN</td>\n",
       "      <td>1997</td>\n",
       "      <td>0.751169</td>\n",
       "      <td>Russian Federation</td>\n",
       "      <td>4.050000e+11</td>\n",
       "      <td>2907</td>\n",
       "      <td>NaN</td>\n",
       "      <td>NaN</td>\n",
       "      <td>11.813</td>\n",
       "      <td>66.69878</td>\n",
       "      <td>0.472964</td>\n",
       "      <td>100.0</td>\n",
       "    </tr>\n",
       "    <tr>\n",
       "      <th>3</th>\n",
       "      <td>NaN</td>\n",
       "      <td>1997</td>\n",
       "      <td>0.472244</td>\n",
       "      <td>Russian Federation</td>\n",
       "      <td>4.050000e+11</td>\n",
       "      <td>2907</td>\n",
       "      <td>NaN</td>\n",
       "      <td>NaN</td>\n",
       "      <td>11.813</td>\n",
       "      <td>66.69878</td>\n",
       "      <td>0.472964</td>\n",
       "      <td>100.0</td>\n",
       "    </tr>\n",
       "    <tr>\n",
       "      <th>4</th>\n",
       "      <td>NaN</td>\n",
       "      <td>1997</td>\n",
       "      <td>0.638340</td>\n",
       "      <td>Russian Federation</td>\n",
       "      <td>4.050000e+11</td>\n",
       "      <td>2907</td>\n",
       "      <td>NaN</td>\n",
       "      <td>NaN</td>\n",
       "      <td>11.813</td>\n",
       "      <td>66.69878</td>\n",
       "      <td>0.472964</td>\n",
       "      <td>100.0</td>\n",
       "    </tr>\n",
       "  </tbody>\n",
       "</table>\n",
       "</div>"
      ],
      "text/plain": [
       "  country_code  year  drug_use             country      GDPpyear  GDPpcapital  \\\n",
       "0          NaN  1997  0.625305  Russian Federation  4.050000e+11         2907   \n",
       "1          NaN  1997  2.329014  Russian Federation  4.050000e+11         2907   \n",
       "2          NaN  1997  0.751169  Russian Federation  4.050000e+11         2907   \n",
       "3          NaN  1997  0.472244  Russian Federation  4.050000e+11         2907   \n",
       "4          NaN  1997  0.638340  Russian Federation  4.050000e+11         2907   \n",
       "\n",
       "   Expense (% of GDP)  Compensation of employees  \\\n",
       "0                 NaN                        NaN   \n",
       "1                 NaN                        NaN   \n",
       "2                 NaN                        NaN   \n",
       "3                 NaN                        NaN   \n",
       "4                 NaN                        NaN   \n",
       "\n",
       "   Unemployment(% of total labor force)  Life expectancy  \\\n",
       "0                                11.813         66.69878   \n",
       "1                                11.813         66.69878   \n",
       "2                                11.813         66.69878   \n",
       "3                                11.813         66.69878   \n",
       "4                                11.813         66.69878   \n",
       "\n",
       "   Individuals using the Internet (% of population)  \\\n",
       "0                                          0.472964   \n",
       "1                                          0.472964   \n",
       "2                                          0.472964   \n",
       "3                                          0.472964   \n",
       "4                                          0.472964   \n",
       "\n",
       "   Access to electricity (% of population)  \n",
       "0                                    100.0  \n",
       "1                                    100.0  \n",
       "2                                    100.0  \n",
       "3                                    100.0  \n",
       "4                                    100.0  "
      ]
     },
     "execution_count": 33,
     "metadata": {},
     "output_type": "execute_result"
    }
   ],
   "source": [
    "disorder_flt.head()"
   ]
  },
  {
   "cell_type": "code",
   "execution_count": 34,
   "id": "093c7386",
   "metadata": {},
   "outputs": [
    {
     "data": {
      "text/plain": [
       "['year',\n",
       " 'drug_use',\n",
       " 'GDPpyear',\n",
       " 'GDPpcapital',\n",
       " 'Expense (% of GDP)',\n",
       " 'Compensation of employees',\n",
       " 'Unemployment(% of total labor force)',\n",
       " 'Life expectancy',\n",
       " 'Individuals using the Internet (% of population)',\n",
       " 'Access to electricity (% of population)']"
      ]
     },
     "execution_count": 34,
     "metadata": {},
     "output_type": "execute_result"
    }
   ],
   "source": [
    "num_cols = disorder_flt.select_dtypes(include=['number']).columns.tolist()\n",
    "\n",
    "num_cols"
   ]
  },
  {
   "cell_type": "code",
   "execution_count": 35,
   "id": "c05c3218",
   "metadata": {},
   "outputs": [],
   "source": [
    "num_cols.remove('year')"
   ]
  },
  {
   "cell_type": "code",
   "execution_count": 36,
   "id": "d07f8a1a",
   "metadata": {},
   "outputs": [
    {
     "data": {
      "text/plain": [
       "<Axes: >"
      ]
     },
     "execution_count": 36,
     "metadata": {},
     "output_type": "execute_result"
    },
    {
     "data": {
      "image/png": "[encoded data removed]",
      "text/plain": [
       "<Figure size 2000x2000 with 2 Axes>"
      ]
     },
     "metadata": {},
     "output_type": "display_data"
    }
   ],
   "source": [
    "plt.figure(figsize=(20,20))\n",
    "df_numeric = disorder_flt[num_cols]\n",
    "\n",
    "sns.heatmap(\n",
    "    df_numeric.corr(), \n",
    "    vmin=-1, \n",
    "    vmax=1, \n",
    "    cmap=\"coolwarm\",\n",
    "    annot=True\n",
    ")"
   ]
  },
  {
   "cell_type": "code",
   "execution_count": 37,
   "id": "09f6d161",
   "metadata": {},
   "outputs": [
    {
     "data": {
      "text/plain": [
       "drug_use                                            1.000000\n",
       "GDPpyear                                            0.421408\n",
       "GDPpcapital                                         0.212368\n",
       "Individuals using the Internet (% of population)    0.174805\n",
       "Life expectancy                                     0.044660\n",
       "Access to electricity (% of population)             0.019797\n",
       "Compensation of employees                          -0.060898\n",
       "Unemployment(% of total labor force)               -0.067212\n",
       "Expense (% of GDP)                                 -0.077684\n",
       "Name: drug_use, dtype: float64"
      ]
     },
     "execution_count": 37,
     "metadata": {},
     "output_type": "execute_result"
    }
   ],
   "source": [
    "df_numeric.corr()['drug_use'].sort_values(ascending=False)"
   ]
  },
  {
   "cell_type": "code",
   "execution_count": 38,
   "id": "9d317b88",
   "metadata": {},
   "outputs": [],
   "source": [
    "# Creating holders to store the model performance results\n",
    "ML_Model = []\n",
    "r_square_train = []\n",
    "r_square_test = []\n",
    "rmse_train_list = []\n",
    "rmse_test_list = []\n",
    "\n",
    "#function to call for storing the results\n",
    "def Results(model, a,b,c,d):\n",
    "    ML_Model.append(model)\n",
    "    r_square_train.append(round(a, 5))\n",
    "    r_square_test.append(round(b, 5))\n",
    "    rmse_train_list.append(round(c, 3))\n",
    "    rmse_test_list.append(round(d, 3))"
   ]
  },
  {
   "cell_type": "code",
   "execution_count": 39,
   "id": "59611d5c",
   "metadata": {},
   "outputs": [],
   "source": [
    "from sklearn.ensemble import RandomForestRegressor\n",
    "from xgboost import XGBRegressor\n",
    "from sklearn.model_selection import train_test_split\n",
    "from sklearn.model_selection import GridSearchCV, RandomizedSearchCV\n",
    "from sklearn.preprocessing import LabelEncoder\n",
    "from sklearn.metrics import mean_squared_error\n",
    "from sklearn.preprocessing import OneHotEncoder"
   ]
  },
  {
   "cell_type": "code",
   "execution_count": 40,
   "id": "8184d314",
   "metadata": {},
   "outputs": [
    {
     "data": {
      "text/plain": [
       "country_code                                        665\n",
       "year                                                  0\n",
       "drug_use                                              0\n",
       "country                                               0\n",
       "GDPpyear                                              0\n",
       "GDPpcapital                                           0\n",
       "Expense (% of GDP)                                  136\n",
       "Compensation of employees                           175\n",
       "Unemployment(% of total labor force)                  0\n",
       "Life expectancy                                       0\n",
       "Individuals using the Internet (% of population)      7\n",
       "Access to electricity (% of population)              24\n",
       "dtype: int64"
      ]
     },
     "execution_count": 40,
     "metadata": {},
     "output_type": "execute_result"
    }
   ],
   "source": [
    "disorder_flt.isnull().sum()"
   ]
  },
  {
   "cell_type": "code",
   "execution_count": 41,
   "id": "2f0ede81",
   "metadata": {},
   "outputs": [
    {
     "name": "stdout",
     "output_type": "stream",
     "text": [
      "country_code 0.4490209318028359\n",
      "year 0.0\n",
      "drug_use 0.0\n",
      "country 0.0\n",
      "GDPpyear 0.0\n",
      "GDPpcapital 0.0\n",
      "Expense (% of GDP) 0.09182984469952735\n",
      "Compensation of employees 0.11816340310600945\n",
      "Unemployment(% of total labor force) 0.0\n",
      "Life expectancy 0.0\n",
      "Individuals using the Internet (% of population) 0.004726536124240378\n",
      "Access to electricity (% of population) 0.016205266711681297\n"
     ]
    }
   ],
   "source": [
    "many_nulls = []\n",
    "for col in disorder_flt.columns :\n",
    "    \n",
    "    \n",
    "    null_percent = disorder_flt[col].isnull().sum()/disorder_flt.shape[0]\n",
    "    print(col,disorder_flt[col].isnull().sum()/disorder_flt.shape[0])\n",
    "    if null_percent > 0.5 :\n",
    "        many_nulls.append(col)"
   ]
  },
  {
   "cell_type": "code",
   "execution_count": 42,
   "id": "dae6ca00",
   "metadata": {},
   "outputs": [
    {
     "data": {
      "text/plain": [
       "[]"
      ]
     },
     "execution_count": 42,
     "metadata": {},
     "output_type": "execute_result"
    }
   ],
   "source": [
    "many_nulls"
   ]
  },
  {
   "cell_type": "code",
   "execution_count": 43,
   "id": "cd4a32e9",
   "metadata": {},
   "outputs": [
    {
     "data": {
      "text/html": [
       "<div>\n",
       "<style scoped>\n",
       "    .dataframe tbody tr th:only-of-type {\n",
       "        vertical-align: middle;\n",
       "    }\n",
       "\n",
       "    .dataframe tbody tr th {\n",
       "        vertical-align: top;\n",
       "    }\n",
       "\n",
       "    .dataframe thead th {\n",
       "        text-align: right;\n",
       "    }\n",
       "</style>\n",
       "<table border=\"1\" class=\"dataframe\">\n",
       "  <thead>\n",
       "    <tr style=\"text-align: right;\">\n",
       "      <th></th>\n",
       "      <th>country</th>\n",
       "      <th>DrugUse_Avg</th>\n",
       "    </tr>\n",
       "  </thead>\n",
       "  <tbody>\n",
       "    <tr>\n",
       "      <th>0</th>\n",
       "      <td>United States</td>\n",
       "      <td>2.959585</td>\n",
       "    </tr>\n",
       "    <tr>\n",
       "      <th>1</th>\n",
       "      <td>United Arab Emirates</td>\n",
       "      <td>2.878395</td>\n",
       "    </tr>\n",
       "    <tr>\n",
       "      <th>2</th>\n",
       "      <td>Canada</td>\n",
       "      <td>2.246067</td>\n",
       "    </tr>\n",
       "    <tr>\n",
       "      <th>3</th>\n",
       "      <td>Australia</td>\n",
       "      <td>2.166032</td>\n",
       "    </tr>\n",
       "    <tr>\n",
       "      <th>4</th>\n",
       "      <td>New Zealand</td>\n",
       "      <td>2.112035</td>\n",
       "    </tr>\n",
       "    <tr>\n",
       "      <th>5</th>\n",
       "      <td>United Kingdom</td>\n",
       "      <td>1.717239</td>\n",
       "    </tr>\n",
       "    <tr>\n",
       "      <th>6</th>\n",
       "      <td>Turkey</td>\n",
       "      <td>1.488377</td>\n",
       "    </tr>\n",
       "    <tr>\n",
       "      <th>7</th>\n",
       "      <td>Spain</td>\n",
       "      <td>1.387499</td>\n",
       "    </tr>\n",
       "    <tr>\n",
       "      <th>8</th>\n",
       "      <td>Italy</td>\n",
       "      <td>1.378588</td>\n",
       "    </tr>\n",
       "    <tr>\n",
       "      <th>9</th>\n",
       "      <td>France</td>\n",
       "      <td>1.147443</td>\n",
       "    </tr>\n",
       "  </tbody>\n",
       "</table>\n",
       "</div>"
      ],
      "text/plain": [
       "                country  DrugUse_Avg\n",
       "0         United States     2.959585\n",
       "1  United Arab Emirates     2.878395\n",
       "2                Canada     2.246067\n",
       "3             Australia     2.166032\n",
       "4           New Zealand     2.112035\n",
       "5        United Kingdom     1.717239\n",
       "6                Turkey     1.488377\n",
       "7                 Spain     1.387499\n",
       "8                 Italy     1.378588\n",
       "9                France     1.147443"
      ]
     },
     "execution_count": 43,
     "metadata": {},
     "output_type": "execute_result"
    }
   ],
   "source": [
    "df_sorted  =  disorder_flt.groupby(['country']).agg(DrugUse_Avg =('drug_use','mean')).sort_values(['DrugUse_Avg'],ascending=False).head(10)\n",
    "\n",
    "\n",
    "df_sorted.reset_index(inplace=True)\n",
    "\n",
    "df_sorted"
   ]
  },
  {
   "cell_type": "code",
   "execution_count": 44,
   "id": "1c4cdd46",
   "metadata": {},
   "outputs": [
    {
     "data": {
      "image/png": "[encoded data removed]",
      "text/plain": [
       "<Figure size 1500x2500 with 1 Axes>"
      ]
     },
     "metadata": {},
     "output_type": "display_data"
    }
   ],
   "source": [
    "#Country & Suicide_rate Bar plot\n",
    "\n",
    "plt.figure(figsize=(15,25))\n",
    "#sns.barplot(x = \"DrugUse_Avg\", y = \"country\", data = df_sorted)\n",
    "sns.barplot(y = \"DrugUse_Avg\", x = \"country\", data = df_sorted)\n",
    "plt.title('Country - DrugUse Prevalence')\n",
    "plt.xticks(rotation=70)\n",
    "plt.savefig('Country - DrugUse Prevalence.png',dpi=110,bbox_inches='tight')\n",
    "plt.show()"
   ]
  },
  {
   "cell_type": "code",
   "execution_count": 45,
   "id": "c4bf5f00",
   "metadata": {},
   "outputs": [],
   "source": [
    "# disorder_flt.drop(columns=many_nulls,inplace=True)"
   ]
  },
  {
   "cell_type": "code",
   "execution_count": 46,
   "id": "0c52207d",
   "metadata": {},
   "outputs": [],
   "source": [
    "# for col in num_cols :\n",
    "    \n",
    "    "
   ]
  },
  {
   "cell_type": "code",
   "execution_count": 47,
   "id": "7a50943c",
   "metadata": {},
   "outputs": [],
   "source": [
    "disorder_flt.to_csv('MentalHealth.csv')"
   ]
  },
  {
   "cell_type": "code",
   "execution_count": 48,
   "id": "28e85b86",
   "metadata": {},
   "outputs": [],
   "source": [
    "disorder_flt.dropna(inplace=True)"
   ]
  },
  {
   "cell_type": "code",
   "execution_count": 49,
   "id": "02ad9ca2",
   "metadata": {},
   "outputs": [],
   "source": [
    "disorder_flt.to_csv('MentalHealth_Final.csv')"
   ]
  },
  {
   "cell_type": "code",
   "execution_count": 50,
   "id": "6a2aa71e",
   "metadata": {},
   "outputs": [],
   "source": [
    "#  disorder_flt_encoded = pd.get_dummies(disorder_flt,columns = ['country'], dtype=\"int64\", drop_first=True)\n",
    "\n",
    "# disorder_flt_encoded.info()"
   ]
  },
  {
   "cell_type": "code",
   "execution_count": 51,
   "id": "d57506b0",
   "metadata": {},
   "outputs": [],
   "source": [
    "# country_list = disorder_flt['country'].unique().tolist()\n",
    "# rate = dict()\n",
    "\n",
    "# for country in country_list :\n",
    "    \n",
    "#     df=pd.DataFrame()\n",
    "#     df = disorder_flt[disorder_flt['country']==country]\n",
    "#     mean_srate = df['suicide rate'].mean()\n",
    "#     rate[country] = mean_srate\n",
    "    \n",
    "# disorder_flt['country_mean'] = disorder_flt['country'].map(rate)    "
   ]
  },
  {
   "cell_type": "code",
   "execution_count": 52,
   "id": "5e090814",
   "metadata": {},
   "outputs": [],
   "source": [
    "l_encoder = LabelEncoder()\n",
    "\n",
    "disorder_flt['country'] = l_encoder.fit_transform(disorder_flt['country'])"
   ]
  },
  {
   "cell_type": "code",
   "execution_count": 53,
   "id": "17a9c628",
   "metadata": {},
   "outputs": [
    {
     "name": "stdout",
     "output_type": "stream",
     "text": [
      "<class 'pandas.core.frame.DataFrame'>\n",
      "Int64Index: 693 entries, 669 to 1480\n",
      "Data columns (total 12 columns):\n",
      " #   Column                                            Non-Null Count  Dtype  \n",
      "---  ------                                            --------------  -----  \n",
      " 0   country_code                                      693 non-null    object \n",
      " 1   year                                              693 non-null    int32  \n",
      " 2   drug_use                                          693 non-null    float64\n",
      " 3   country                                           693 non-null    int32  \n",
      " 4   GDPpyear                                          693 non-null    float64\n",
      " 5   GDPpcapital                                       693 non-null    int64  \n",
      " 6   Expense (% of GDP)                                693 non-null    float64\n",
      " 7   Compensation of employees                         693 non-null    float64\n",
      " 8   Unemployment(% of total labor force)              693 non-null    float64\n",
      " 9   Life expectancy                                   693 non-null    float64\n",
      " 10  Individuals using the Internet (% of population)  693 non-null    float64\n",
      " 11  Access to electricity (% of population)           693 non-null    float64\n",
      "dtypes: float64(8), int32(2), int64(1), object(1)\n",
      "memory usage: 65.0+ KB\n"
     ]
    }
   ],
   "source": [
    "disorder_flt.info()"
   ]
  },
  {
   "cell_type": "code",
   "execution_count": 54,
   "id": "343e722e",
   "metadata": {},
   "outputs": [],
   "source": [
    "# disorder_flt.groupby(['country']).agg(Mean_Suicide_Rate = ('suicide rate','mean'))['Mean_Suicide_Rate']"
   ]
  },
  {
   "cell_type": "code",
   "execution_count": 55,
   "id": "26459bfc",
   "metadata": {},
   "outputs": [
    {
     "data": {
      "text/plain": [
       "((485, 10), (208, 10))"
      ]
     },
     "execution_count": 55,
     "metadata": {},
     "output_type": "execute_result"
    }
   ],
   "source": [
    "X_train, X_test, y_train, y_test = train_test_split(disorder_flt.drop(columns=['drug_use','country_code']), disorder_flt['drug_use'], test_size = 0.3, random_state = 10)\n",
    "X_train.shape, X_test.shape"
   ]
  },
  {
   "cell_type": "code",
   "execution_count": 56,
   "id": "3a7db408",
   "metadata": {},
   "outputs": [],
   "source": [
    "# A custom function to obtain the optimal hyper parameters using Random Search..\n",
    "\n",
    "def rf_random(X_train,y_train) :\n",
    "        # random forests\n",
    "    n_estimators = [int(x) for x in np.linspace(start = 10, stop = 200, num = 10)]\n",
    "    # Number of features to consider at every split\n",
    "    max_features = [1.0, 'sqrt']\n",
    "    # Maximum number of levels in tree\n",
    "    max_depth = [int(x) for x in np.linspace(10, 110, num = 11)]\n",
    "    max_depth.append(None)\n",
    "    # Minimum number of samples required to split a node\n",
    "    min_samples_split = [2, 5, 10]\n",
    "    # Minimum number of samples required at each leaf node\n",
    "    min_samples_leaf = [1, 2, 4]\n",
    "    # Method of selecting samples for training each tree\n",
    "    bootstrap = [True, False]\n",
    "    # Create the random grid\n",
    "    random_grid = {'n_estimators': n_estimators,\n",
    "               'max_features': max_features,\n",
    "               'max_depth': max_depth,\n",
    "               'min_samples_split': min_samples_split,\n",
    "               'min_samples_leaf': min_samples_leaf,\n",
    "               'bootstrap': bootstrap}\n",
    "    \n",
    "    rf = RandomForestRegressor()\n",
    "    \n",
    "    rf_random = RandomizedSearchCV(estimator = rf, param_distributions = random_grid, n_iter = 100, cv = 5, verbose=2, random_state=42, n_jobs = -1)\n",
    "    # Fit the random search model\n",
    "    rf_random.fit(X_train,y_train)\n",
    "    \n",
    "    return rf_random.best_params_"
   ]
  },
  {
   "cell_type": "code",
   "execution_count": 57,
   "id": "9c6cc132",
   "metadata": {},
   "outputs": [
    {
     "name": "stdout",
     "output_type": "stream",
     "text": [
      "Fitting 5 folds for each of 100 candidates, totalling 500 fits\n",
      "{'n_estimators': 73, 'min_samples_split': 5, 'min_samples_leaf': 1, 'max_features': 'sqrt', 'max_depth': 100, 'bootstrap': False}\n",
      "0:00:32.918601\n"
     ]
    }
   ],
   "source": [
    "from datetime import datetime\n",
    "\n",
    "t1 = datetime.now()\n",
    "\n",
    "rf_random_params = rf_random(X_train,y_train)\n",
    "\n",
    "print(rf_random_params)\n",
    "\n",
    "t2 = datetime.now()\n",
    "\n",
    "print(t2 - t1)"
   ]
  },
  {
   "cell_type": "code",
   "execution_count": 58,
   "id": "b699d64e",
   "metadata": {},
   "outputs": [],
   "source": [
    "# Fine tuning parameters \n",
    "param_grid = {\n",
    "'bootstrap': [True],\n",
    "'max_depth': [100,150],\n",
    "'max_features': ['sqrt'],\n",
    "'min_samples_leaf': [1, 5],\n",
    "'min_samples_split': [2,4],\n",
    "'n_estimators': [50,73,100]\n",
    " }\n"
   ]
  },
  {
   "cell_type": "code",
   "execution_count": 59,
   "id": "dedaa121",
   "metadata": {},
   "outputs": [],
   "source": [
    "# using GridSearchCV based on the results of random search\n",
    "def rf_grid_search(X_train,y_train,X_test,param_grid):\n",
    "\n",
    "    # Create a based model\n",
    "    rf = RandomForestRegressor()\n",
    "    # Instantiate the grid search model\n",
    "    rf_grid = GridSearchCV(estimator = rf, param_grid = param_grid, \n",
    "                              cv = 5, n_jobs = -1, verbose = 2)\n",
    "\n",
    "    # Fit the grid search to the data\n",
    "    rf_grid.fit(X_train, y_train)\n",
    "\n",
    "    print(rf_grid.best_params_)\n",
    "    \n",
    "    rf_best = rf_grid.best_estimator_\n",
    "    \n",
    "    importances = rf_best.feature_importances_\n",
    "\n",
    "    feature_importance = pd.Series(importances,index=X_train.columns)\n",
    "\n",
    "    feature_importance.sort_values(inplace=True,ascending=False)\n",
    "\n",
    "    feature_importance.plot.bar()\n",
    "    plt.title(\"Feature importances -  Random Forest Regression\")\n",
    "    plt.savefig('Feature importances -  Random Forest Regressor Drug Use.png',dpi=110,bbox_inches='tight')\n",
    "    plt.show()\n",
    "    \n",
    "   #Getting the predictions of the Random Forest Regressor\n",
    "\n",
    "    rf_pred = rf_best.predict(X_test)\n",
    "    \n",
    "    return rf_best,rf_pred"
   ]
  },
  {
   "cell_type": "code",
   "execution_count": 60,
   "id": "3657ca7c",
   "metadata": {},
   "outputs": [
    {
     "name": "stdout",
     "output_type": "stream",
     "text": [
      "Fitting 5 folds for each of 24 candidates, totalling 120 fits\n",
      "{'bootstrap': True, 'max_depth': 150, 'max_features': 'sqrt', 'min_samples_leaf': 1, 'min_samples_split': 2, 'n_estimators': 100}\n"
     ]
    },
    {
     "data": {
      "image/png": "[encoded data removed]",
      "text/plain": [
       "<Figure size 640x480 with 1 Axes>"
      ]
     },
     "metadata": {},
     "output_type": "display_data"
    }
   ],
   "source": [
    "rf_best,rf_pred = rf_grid_search(X_train,y_train,X_test,param_grid)"
   ]
  },
  {
   "cell_type": "code",
   "execution_count": 61,
   "id": "c9a87d7f",
   "metadata": {},
   "outputs": [
    {
     "data": {
      "text/html": [
       "<style>#sk-container-id-1 {color: black;background-color: white;}#sk-container-id-1 pre{padding: 0;}#sk-container-id-1 div.sk-toggleable {background-color: white;}#sk-container-id-1 label.sk-toggleable__label {cursor: pointer;display: block;width: 100%;margin-bottom: 0;padding: 0.3em;box-sizing: border-box;text-align: center;}#sk-container-id-1 label.sk-toggleable__label-arrow:before {content: \"▸\";float: left;margin-right: 0.25em;color: #696969;}#sk-container-id-1 label.sk-toggleable__label-arrow:hover:before {color: black;}#sk-container-id-1 div.sk-estimator:hover label.sk-toggleable__label-arrow:before {color: black;}#sk-container-id-1 div.sk-toggleable__content {max-height: 0;max-width: 0;overflow: hidden;text-align: left;background-color: #f0f8ff;}#sk-container-id-1 div.sk-toggleable__content pre {margin: 0.2em;color: black;border-radius: 0.25em;background-color: #f0f8ff;}#sk-container-id-1 input.sk-toggleable__control:checked~div.sk-toggleable__content {max-height: 200px;max-width: 100%;overflow: auto;}#sk-container-id-1 input.sk-toggleable__control:checked~label.sk-toggleable__label-arrow:before {content: \"▾\";}#sk-container-id-1 div.sk-estimator input.sk-toggleable__control:checked~label.sk-toggleable__label {background-color: #d4ebff;}#sk-container-id-1 div.sk-label input.sk-toggleable__control:checked~label.sk-toggleable__label {background-color: #d4ebff;}#sk-container-id-1 input.sk-hidden--visually {border: 0;clip: rect(1px 1px 1px 1px);clip: rect(1px, 1px, 1px, 1px);height: 1px;margin: -1px;overflow: hidden;padding: 0;position: absolute;width: 1px;}#sk-container-id-1 div.sk-estimator {font-family: monospace;background-color: #f0f8ff;border: 1px dotted black;border-radius: 0.25em;box-sizing: border-box;margin-bottom: 0.5em;}#sk-container-id-1 div.sk-estimator:hover {background-color: #d4ebff;}#sk-container-id-1 div.sk-parallel-item::after {content: \"\";width: 100%;border-bottom: 1px solid gray;flex-grow: 1;}#sk-container-id-1 div.sk-label:hover label.sk-toggleable__label {background-color: #d4ebff;}#sk-container-id-1 div.sk-serial::before {content: \"\";position: absolute;border-left: 1px solid gray;box-sizing: border-box;top: 0;bottom: 0;left: 50%;z-index: 0;}#sk-container-id-1 div.sk-serial {display: flex;flex-direction: column;align-items: center;background-color: white;padding-right: 0.2em;padding-left: 0.2em;position: relative;}#sk-container-id-1 div.sk-item {position: relative;z-index: 1;}#sk-container-id-1 div.sk-parallel {display: flex;align-items: stretch;justify-content: center;background-color: white;position: relative;}#sk-container-id-1 div.sk-item::before, #sk-container-id-1 div.sk-parallel-item::before {content: \"\";position: absolute;border-left: 1px solid gray;box-sizing: border-box;top: 0;bottom: 0;left: 50%;z-index: -1;}#sk-container-id-1 div.sk-parallel-item {display: flex;flex-direction: column;z-index: 1;position: relative;background-color: white;}#sk-container-id-1 div.sk-parallel-item:first-child::after {align-self: flex-end;width: 50%;}#sk-container-id-1 div.sk-parallel-item:last-child::after {align-self: flex-start;width: 50%;}#sk-container-id-1 div.sk-parallel-item:only-child::after {width: 0;}#sk-container-id-1 div.sk-dashed-wrapped {border: 1px dashed gray;margin: 0 0.4em 0.5em 0.4em;box-sizing: border-box;padding-bottom: 0.4em;background-color: white;}#sk-container-id-1 div.sk-label label {font-family: monospace;font-weight: bold;display: inline-block;line-height: 1.2em;}#sk-container-id-1 div.sk-label-container {text-align: center;}#sk-container-id-1 div.sk-container {/* jupyter's `normalize.less` sets `[hidden] { display: none; }` but bootstrap.min.css set `[hidden] { display: none !important; }` so we also need the `!important` here to be able to override the default hidden behavior on the sphinx rendered scikit-learn.org. See: https://github.com/scikit-learn/scikit-learn/issues/21755 */display: inline-block !important;position: relative;}#sk-container-id-1 div.sk-text-repr-fallback {display: none;}</style><div id=\"sk-container-id-1\" class=\"sk-top-container\"><div class=\"sk-text-repr-fallback\"><pre>RandomForestRegressor(max_depth=150, max_features=&#x27;sqrt&#x27;)</pre><b>In a Jupyter environment, please rerun this cell to show the HTML representation or trust the notebook. <br />On GitHub, the HTML representation is unable to render, please try loading this page with nbviewer.org.</b></div><div class=\"sk-container\" hidden><div class=\"sk-item\"><div class=\"sk-estimator sk-toggleable\"><input class=\"sk-toggleable__control sk-hidden--visually\" id=\"sk-estimator-id-1\" type=\"checkbox\" checked><label for=\"sk-estimator-id-1\" class=\"sk-toggleable__label sk-toggleable__label-arrow\">RandomForestRegressor</label><div class=\"sk-toggleable__content\"><pre>RandomForestRegressor(max_depth=150, max_features=&#x27;sqrt&#x27;)</pre></div></div></div></div></div>"
      ],
      "text/plain": [
       "RandomForestRegressor(max_depth=150, max_features='sqrt')"
      ]
     },
     "execution_count": 61,
     "metadata": {},
     "output_type": "execute_result"
    }
   ],
   "source": [
    "rf_best.fit(X_train, y_train)"
   ]
  },
  {
   "cell_type": "code",
   "execution_count": 62,
   "id": "a0a0bf6f",
   "metadata": {},
   "outputs": [
    {
     "name": "stdout",
     "output_type": "stream",
     "text": [
      "0.986195371405694\n",
      "0.9396486460886501\n",
      "0.0613360774449998\n",
      "0.12981056383432127\n"
     ]
    }
   ],
   "source": [
    "y_predRF_train = rf_best.predict(X_train)\n",
    "y_predRF = rf_best.predict(X_test)\n",
    "\n",
    "\n",
    "r_sq_train = rf_best.score(X_train,y_train)\n",
    "r_sq_test = rf_best.score(X_test,y_test)\n",
    "\n",
    "print(r_sq_train)\n",
    "print(r_sq_test)\n",
    "\n",
    "#computing root mean squared error (RMSE)\n",
    "\n",
    "rmse_train = np.sqrt(mean_squared_error(y_train, y_predRF_train))\n",
    "rmse_test = np.sqrt(mean_squared_error(y_test, y_predRF))\n",
    "\n",
    "print(rmse_train)\n",
    "print(rmse_test)\n",
    "\n",
    "\n",
    "predRF = pd.DataFrame(y_predRF, columns = ['random_forest'])\n",
    "\n",
    "Results('RandomForest',r_sq_train,r_sq_test,rmse_train,rmse_test)"
   ]
  },
  {
   "cell_type": "code",
   "execution_count": 63,
   "id": "cd587b33",
   "metadata": {},
   "outputs": [],
   "source": [
    "# Custom function to return the optimal hyper parameters using Random Search\n",
    "def xgb_random(X_train,y_train):\n",
    "    \n",
    "    param_dist = {\n",
    "            'n_estimators':range(50,150,5),\n",
    "            'max_depth':range(2,15,1),\n",
    "            'learning_rate':np.linspace(0.01,1,25),\n",
    "            'subsample':np.linspace(0.1,0.9,25),\n",
    "            'colsample_bytree':np.linspace(0.3,0.8,20),\n",
    "            'min_child_weight':range(1,9,1),\n",
    "            'gamma': [0, 0.2,0.25, 0.3,0.35, 0.5, 1.0],\n",
    "#             'reg_lambda': [ 1,2, 5,8, 9 ,10,  15,  50, 100, 110, 120]\n",
    "            }\n",
    "\n",
    "\n",
    "    xgbr = XGBRegressor()\n",
    "    XGB_Model = RandomizedSearchCV(xgbr, \n",
    "                       param_dist,\n",
    "                       scoring='r2', \n",
    "                       verbose=2,\n",
    "                        cv = 5,\n",
    "                        n_iter=125,\n",
    "                        n_jobs = -1)\n",
    "    XGB_Model.fit(X_train, y_train)\n",
    "    return XGB_Model.best_params_"
   ]
  },
  {
   "cell_type": "code",
   "execution_count": 64,
   "id": "e614be39",
   "metadata": {},
   "outputs": [
    {
     "name": "stdout",
     "output_type": "stream",
     "text": [
      "Fitting 5 folds for each of 125 candidates, totalling 625 fits\n",
      "{'subsample': 0.7666666666666666, 'n_estimators': 135, 'min_child_weight': 7, 'max_depth': 6, 'learning_rate': 0.2575, 'gamma': 0, 'colsample_bytree': 0.5105263157894737}\n",
      "0:00:07.074693\n"
     ]
    }
   ],
   "source": [
    "t1 = datetime.now()\n",
    "\n",
    "xgb_random_params = xgb_random(X_train,y_train)\n",
    "\n",
    "\n",
    "print(xgb_random_params)\n",
    "\n",
    "t2 = datetime.now()\n",
    "\n",
    "print(t2 - t1)"
   ]
  },
  {
   "cell_type": "code",
   "execution_count": 65,
   "id": "f235b250",
   "metadata": {},
   "outputs": [],
   "source": [
    "# Fine tuning the parameters given by Random Search\n",
    "param_grid_xgb ={\n",
    "    'subsample': [0.8,1.0] , 'n_estimators': [90,100], 'min_child_weight': [2,4,6], 'max_depth':[13,15], 'learning_rate': [0.2575,0.5], 'gamma': [0,0.5], 'colsample_bytree': [0.8,1.0]\n",
    "}"
   ]
  },
  {
   "cell_type": "code",
   "execution_count": 66,
   "id": "34f94568",
   "metadata": {},
   "outputs": [],
   "source": [
    "# using GridSearchCV based on the results of random search\n",
    "def xgb_grid_search(X_train,y_train,X_test,param_grid) :\n",
    "\n",
    "    # Create a based model\n",
    "    xgb_cls = XGBRegressor()\n",
    "    # Instantiate the grid search model\n",
    "    xgb_grid = GridSearchCV(estimator =  xgb_cls, param_grid = param_grid, \n",
    "                              cv = 5, n_jobs = -1, verbose = 2)\n",
    "\n",
    "    # Fit the grid search to the data\n",
    "    xgb_grid.fit(X_train, y_train)\n",
    "\n",
    "    print(xgb_grid.best_params_)\n",
    "    \n",
    "    xgb_best =  xgb_grid.best_estimator_\n",
    "    \n",
    "    importances = xgb_best.feature_importances_\n",
    "\n",
    "    feature_importance = pd.Series(importances,index=X_train.columns)\n",
    "\n",
    "    feature_importance.sort_values(inplace=True,ascending=False)\n",
    "\n",
    "    feature_importance.plot.bar()\n",
    "    plt.title(\"Feature importances -  XGBoost Regressor\")\n",
    "    plt.savefig('Feature importances -  XGBoost Regressor Drug Use.png',dpi=110,bbox_inches='tight')\n",
    "    plt.show()\n",
    "\n",
    "    #Getting the predictions of the Random Forest Regressor\n",
    "\n",
    "    xgb_pred = xgb_best.predict(X_test)\n",
    "    \n",
    "    \n",
    "    \n",
    "    return xgb_best,xgb_pred"
   ]
  },
  {
   "cell_type": "code",
   "execution_count": 67,
   "id": "0426b971",
   "metadata": {},
   "outputs": [
    {
     "name": "stdout",
     "output_type": "stream",
     "text": [
      "Fitting 5 folds for each of 192 candidates, totalling 960 fits\n",
      "{'colsample_bytree': 0.8, 'gamma': 0, 'learning_rate': 0.2575, 'max_depth': 15, 'min_child_weight': 6, 'n_estimators': 100, 'subsample': 0.8}\n"
     ]
    },
    {
     "data": {
      "image/png": "[encoded data removed]",
      "text/plain": [
       "<Figure size 640x480 with 1 Axes>"
      ]
     },
     "metadata": {},
     "output_type": "display_data"
    },
    {
     "name": "stdout",
     "output_type": "stream",
     "text": [
      "0:00:34.607572\n"
     ]
    }
   ],
   "source": [
    "t1 = datetime.now()\n",
    "xgb_best,xgb_pred = xgb_grid_search(X_train,y_train,X_test,param_grid_xgb)\n",
    "\n",
    "t2 = datetime.now()\n",
    "\n",
    "print(t2-t1)"
   ]
  },
  {
   "cell_type": "code",
   "execution_count": 68,
   "id": "75eb5ef5",
   "metadata": {},
   "outputs": [
    {
     "name": "stdout",
     "output_type": "stream",
     "text": [
      "0.9999113247084735\n",
      "0.9746127791863697\n",
      "0.004915921596123521\n",
      "0.08419263613090514\n"
     ]
    }
   ],
   "source": [
    "y_predXGBoost_train = xgb_best.predict(X_train)\n",
    "y_predXGBoost = xgb_best.predict(X_test)\n",
    "\n",
    "r_sq_train = xgb_best.score(X_train,y_train)\n",
    "r_sq_test = xgb_best.score(X_test,y_test)\n",
    "\n",
    "\n",
    "print(r_sq_train)\n",
    "print(r_sq_test)\n",
    "\n",
    "#computing root mean squared error (RMSE)\n",
    "\n",
    "rmse_train = np.sqrt(mean_squared_error(y_train, y_predXGBoost_train))\n",
    "rmse_test = np.sqrt(mean_squared_error(y_test, y_predXGBoost))\n",
    "\n",
    "print(rmse_train)\n",
    "print(rmse_test)\n",
    "\n",
    "\n",
    "predXGBoost = pd.DataFrame(y_predXGBoost, columns = ['xg_boost'])\n",
    "\n",
    "\n",
    "Results('XGBoost',r_sq_train,r_sq_test,rmse_train,rmse_test)"
   ]
  },
  {
   "cell_type": "code",
   "execution_count": 69,
   "id": "81fb171e",
   "metadata": {},
   "outputs": [
    {
     "data": {
      "text/html": [
       "<div>\n",
       "<style scoped>\n",
       "    .dataframe tbody tr th:only-of-type {\n",
       "        vertical-align: middle;\n",
       "    }\n",
       "\n",
       "    .dataframe tbody tr th {\n",
       "        vertical-align: top;\n",
       "    }\n",
       "\n",
       "    .dataframe thead th {\n",
       "        text-align: right;\n",
       "    }\n",
       "</style>\n",
       "<table border=\"1\" class=\"dataframe\">\n",
       "  <thead>\n",
       "    <tr style=\"text-align: right;\">\n",
       "      <th></th>\n",
       "      <th>model_name</th>\n",
       "      <th>Training_Accuracy</th>\n",
       "      <th>Testing_Accuracy</th>\n",
       "      <th>RMSE_Train</th>\n",
       "      <th>RMSE_Test</th>\n",
       "    </tr>\n",
       "  </thead>\n",
       "  <tbody>\n",
       "    <tr>\n",
       "      <th>0</th>\n",
       "      <td>RandomForest</td>\n",
       "      <td>0.98620</td>\n",
       "      <td>0.93965</td>\n",
       "      <td>0.061</td>\n",
       "      <td>0.130</td>\n",
       "    </tr>\n",
       "    <tr>\n",
       "      <th>1</th>\n",
       "      <td>XGBoost</td>\n",
       "      <td>0.99991</td>\n",
       "      <td>0.97461</td>\n",
       "      <td>0.005</td>\n",
       "      <td>0.084</td>\n",
       "    </tr>\n",
       "  </tbody>\n",
       "</table>\n",
       "</div>"
      ],
      "text/plain": [
       "     model_name  Training_Accuracy  Testing_Accuracy  RMSE_Train  RMSE_Test\n",
       "0  RandomForest            0.98620           0.93965       0.061      0.130\n",
       "1       XGBoost            0.99991           0.97461       0.005      0.084"
      ]
     },
     "execution_count": 69,
     "metadata": {},
     "output_type": "execute_result"
    }
   ],
   "source": [
    "results_df = pd.DataFrame( { 'model_name' : ML_Model , 'Training_Accuracy' : r_square_train ,'Testing_Accuracy' : r_square_test,'RMSE_Train': rmse_train_list,'RMSE_Test' : rmse_test_list})\n",
    "results_df"
   ]
  },
  {
   "cell_type": "code",
   "execution_count": 70,
   "id": "8ce513d7",
   "metadata": {},
   "outputs": [],
   "source": [
    "# disorder_flt.groupby(['country']).agg(Mean_Suicide_Rate = ('suicide rate' ,'mean')).sort_values('Mean_Suicide_Rate',ascending=False).head(5)"
   ]
  },
  {
   "cell_type": "code",
   "execution_count": null,
   "id": "3757ccc2",
   "metadata": {},
   "outputs": [],
   "source": []
  }
 ],
 "metadata": {
  "kernelspec": {
   "display_name": "Python 3 (ipykernel)",
   "language": "python",
   "name": "python3"
  },
  "language_info": {
   "codemirror_mode": {
    "name": "ipython",
    "version": 3
   },
   "file_extension": ".py",
   "mimetype": "text/x-python",
   "name": "python",
   "nbconvert_exporter": "python",
   "pygments_lexer": "ipython3",
   "version": "3.11.4"
  }
 },
 "nbformat": 4,
 "nbformat_minor": 5
}
