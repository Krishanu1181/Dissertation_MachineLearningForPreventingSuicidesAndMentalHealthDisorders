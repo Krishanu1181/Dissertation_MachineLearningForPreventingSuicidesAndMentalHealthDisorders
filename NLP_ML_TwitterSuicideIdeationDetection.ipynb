{
  "cells": [
    {
      "cell_type": "markdown",
      "id": "0e44c65d",
      "metadata": {
        "id": "0e44c65d"
      },
      "source": [
        "### Detecting suicide ideation in online posts from Twitter using Machine Learning classifiers"
      ]
    },
    {
      "cell_type": "code",
      "execution_count": 1,
      "id": "52334675",
      "metadata": {
        "colab": {
          "base_uri": "https://localhost:8080/"
        },
        "id": "52334675",
        "outputId": "9f819bdc-f728-4ec8-d781-ce056fc01b6c"
      },
      "outputs": [
        {
          "output_type": "stream",
          "name": "stdout",
          "text": [
            "Collecting unidecode\n",
            "  Downloading Unidecode-1.3.8-py3-none-any.whl (235 kB)\n",
            "\u001b[2K     \u001b[90m━━━━━━━━━━━━━━━━━━━━━━━━━━━━━━━━━━━━━━━━\u001b[0m \u001b[32m235.5/235.5 kB\u001b[0m \u001b[31m1.8 MB/s\u001b[0m eta \u001b[36m0:00:00\u001b[0m\n",
            "\u001b[?25hInstalling collected packages: unidecode\n",
            "Successfully installed unidecode-1.3.8\n"
          ]
        }
      ],
      "source": [
        "!pip install  unidecode"
      ]
    },
    {
      "cell_type": "code",
      "execution_count": 2,
      "id": "9494ce8a",
      "metadata": {
        "id": "9494ce8a"
      },
      "outputs": [],
      "source": [
        "# This Python 3 environment comes with many helpful analytics libraries installed\n",
        "# It is defined by the kaggle/python Docker image: https://github.com/kaggle/docker-python\n",
        "# For example, here's several helpful packages to load\n",
        "import warnings\n",
        "warnings.filterwarnings('ignore')\n",
        "\n",
        "import numpy as np # linear algebra\n",
        "import pandas as pd # data processing, CSV file I/O (e.g. pd.read_csv)\n",
        "\n",
        "# Visualisation libraries\n",
        "import matplotlib.pyplot as plt\n",
        "import seaborn as sns\n",
        "\n",
        "# Machine Learning Libraries\n",
        "from sklearn.model_selection import train_test_split,GridSearchCV,RandomizedSearchCV\n",
        "from sklearn.feature_extraction.text import TfidfVectorizer\n",
        "from sklearn.feature_selection import SelectKBest,chi2,f_classif\n",
        "from sklearn.linear_model import LogisticRegression\n",
        "from sklearn.ensemble import RandomForestClassifier,VotingClassifier\n",
        "# AdaBoostClassifier,GradientBoostingClassifier,BaggingClassifier\n",
        "from sklearn.metrics import classification_report , confusion_matrix\n",
        "from sklearn.tree import DecisionTreeClassifier\n",
        "from xgboost import XGBClassifier\n",
        "from sklearn.neighbors import KNeighborsClassifier\n",
        "from sklearn.naive_bayes import GaussianNB, MultinomialNB, BernoulliNB\n",
        "from sklearn.preprocessing import LabelEncoder\n",
        "from sklearn.model_selection import train_test_split\n",
        "from sklearn.metrics import confusion_matrix\n",
        "from sklearn.metrics import accuracy_score\n",
        "\n",
        "import pickle\n",
        "import string\n",
        "import re\n",
        "import unidecode\n",
        "\n",
        "# Text Processing libraries\n",
        "import nltk\n",
        "from nltk.stem import PorterStemmer\n",
        "from nltk.corpus import stopwords\n",
        "from nltk.stem import WordNetLemmatizer"
      ]
    },
    {
      "cell_type": "code",
      "execution_count": 3,
      "id": "82f0fe4e",
      "metadata": {
        "colab": {
          "base_uri": "https://localhost:8080/",
          "height": 224
        },
        "id": "82f0fe4e",
        "outputId": "05d35ad3-0864-4ec5-9fae-f1f8dd1fbacb"
      },
      "outputs": [
        {
          "output_type": "stream",
          "name": "stdout",
          "text": [
            "(1787, 2)\n"
          ]
        },
        {
          "output_type": "execute_result",
          "data": {
            "text/plain": [
              "                                               Tweet                  Suicide\n",
              "0                                  making some lunch         Not Suicide post\n",
              "1                        @Alexia You want his money.         Not Suicide post\n",
              "2  @dizzyhrvy that crap took me forever to put to...  Potential Suicide post \n",
              "3  @jnaylor #kiwitweets Hey Jer! Since when did y...         Not Suicide post\n",
              "4  Trying out &quot;Delicious Library 2&quot; wit...         Not Suicide post"
            ],
            "text/html": [
              "\n",
              "  <div id=\"df-1d1a6ebd-7d20-43ec-811e-ea443ebbc9ae\" class=\"colab-df-container\">\n",
              "    <div>\n",
              "<style scoped>\n",
              "    .dataframe tbody tr th:only-of-type {\n",
              "        vertical-align: middle;\n",
              "    }\n",
              "\n",
              "    .dataframe tbody tr th {\n",
              "        vertical-align: top;\n",
              "    }\n",
              "\n",
              "    .dataframe thead th {\n",
              "        text-align: right;\n",
              "    }\n",
              "</style>\n",
              "<table border=\"1\" class=\"dataframe\">\n",
              "  <thead>\n",
              "    <tr style=\"text-align: right;\">\n",
              "      <th></th>\n",
              "      <th>Tweet</th>\n",
              "      <th>Suicide</th>\n",
              "    </tr>\n",
              "  </thead>\n",
              "  <tbody>\n",
              "    <tr>\n",
              "      <th>0</th>\n",
              "      <td>making some lunch</td>\n",
              "      <td>Not Suicide post</td>\n",
              "    </tr>\n",
              "    <tr>\n",
              "      <th>1</th>\n",
              "      <td>@Alexia You want his money.</td>\n",
              "      <td>Not Suicide post</td>\n",
              "    </tr>\n",
              "    <tr>\n",
              "      <th>2</th>\n",
              "      <td>@dizzyhrvy that crap took me forever to put to...</td>\n",
              "      <td>Potential Suicide post</td>\n",
              "    </tr>\n",
              "    <tr>\n",
              "      <th>3</th>\n",
              "      <td>@jnaylor #kiwitweets Hey Jer! Since when did y...</td>\n",
              "      <td>Not Suicide post</td>\n",
              "    </tr>\n",
              "    <tr>\n",
              "      <th>4</th>\n",
              "      <td>Trying out &amp;quot;Delicious Library 2&amp;quot; wit...</td>\n",
              "      <td>Not Suicide post</td>\n",
              "    </tr>\n",
              "  </tbody>\n",
              "</table>\n",
              "</div>\n",
              "    <div class=\"colab-df-buttons\">\n",
              "\n",
              "  <div class=\"colab-df-container\">\n",
              "    <button class=\"colab-df-convert\" onclick=\"convertToInteractive('df-1d1a6ebd-7d20-43ec-811e-ea443ebbc9ae')\"\n",
              "            title=\"Convert this dataframe to an interactive table.\"\n",
              "            style=\"display:none;\">\n",
              "\n",
              "  <svg xmlns=\"http://www.w3.org/2000/svg\" height=\"24px\" viewBox=\"0 -960 960 960\">\n",
              "    <path d=\"M120-120v-720h720v720H120Zm60-500h600v-160H180v160Zm220 220h160v-160H400v160Zm0 220h160v-160H400v160ZM180-400h160v-160H180v160Zm440 0h160v-160H620v160ZM180-180h160v-160H180v160Zm440 0h160v-160H620v160Z\"/>\n",
              "  </svg>\n",
              "    </button>\n",
              "\n",
              "  <style>\n",
              "    .colab-df-container {\n",
              "      display:flex;\n",
              "      gap: 12px;\n",
              "    }\n",
              "\n",
              "    .colab-df-convert {\n",
              "      background-color: #E8F0FE;\n",
              "      border: none;\n",
              "      border-radius: 50%;\n",
              "      cursor: pointer;\n",
              "      display: none;\n",
              "      fill: #1967D2;\n",
              "      height: 32px;\n",
              "      padding: 0 0 0 0;\n",
              "      width: 32px;\n",
              "    }\n",
              "\n",
              "    .colab-df-convert:hover {\n",
              "      background-color: #E2EBFA;\n",
              "      box-shadow: 0px 1px 2px rgba(60, 64, 67, 0.3), 0px 1px 3px 1px rgba(60, 64, 67, 0.15);\n",
              "      fill: #174EA6;\n",
              "    }\n",
              "\n",
              "    .colab-df-buttons div {\n",
              "      margin-bottom: 4px;\n",
              "    }\n",
              "\n",
              "    [theme=dark] .colab-df-convert {\n",
              "      background-color: #3B4455;\n",
              "      fill: #D2E3FC;\n",
              "    }\n",
              "\n",
              "    [theme=dark] .colab-df-convert:hover {\n",
              "      background-color: #434B5C;\n",
              "      box-shadow: 0px 1px 3px 1px rgba(0, 0, 0, 0.15);\n",
              "      filter: drop-shadow(0px 1px 2px rgba(0, 0, 0, 0.3));\n",
              "      fill: #FFFFFF;\n",
              "    }\n",
              "  </style>\n",
              "\n",
              "    <script>\n",
              "      const buttonEl =\n",
              "        document.querySelector('#df-1d1a6ebd-7d20-43ec-811e-ea443ebbc9ae button.colab-df-convert');\n",
              "      buttonEl.style.display =\n",
              "        google.colab.kernel.accessAllowed ? 'block' : 'none';\n",
              "\n",
              "      async function convertToInteractive(key) {\n",
              "        const element = document.querySelector('#df-1d1a6ebd-7d20-43ec-811e-ea443ebbc9ae');\n",
              "        const dataTable =\n",
              "          await google.colab.kernel.invokeFunction('convertToInteractive',\n",
              "                                                    [key], {});\n",
              "        if (!dataTable) return;\n",
              "\n",
              "        const docLinkHtml = 'Like what you see? Visit the ' +\n",
              "          '<a target=\"_blank\" href=https://colab.research.google.com/notebooks/data_table.ipynb>data table notebook</a>'\n",
              "          + ' to learn more about interactive tables.';\n",
              "        element.innerHTML = '';\n",
              "        dataTable['output_type'] = 'display_data';\n",
              "        await google.colab.output.renderOutput(dataTable, element);\n",
              "        const docLink = document.createElement('div');\n",
              "        docLink.innerHTML = docLinkHtml;\n",
              "        element.appendChild(docLink);\n",
              "      }\n",
              "    </script>\n",
              "  </div>\n",
              "\n",
              "\n",
              "<div id=\"df-f6150bb3-1389-4810-a037-cedc59d503e4\">\n",
              "  <button class=\"colab-df-quickchart\" onclick=\"quickchart('df-f6150bb3-1389-4810-a037-cedc59d503e4')\"\n",
              "            title=\"Suggest charts\"\n",
              "            style=\"display:none;\">\n",
              "\n",
              "<svg xmlns=\"http://www.w3.org/2000/svg\" height=\"24px\"viewBox=\"0 0 24 24\"\n",
              "     width=\"24px\">\n",
              "    <g>\n",
              "        <path d=\"M19 3H5c-1.1 0-2 .9-2 2v14c0 1.1.9 2 2 2h14c1.1 0 2-.9 2-2V5c0-1.1-.9-2-2-2zM9 17H7v-7h2v7zm4 0h-2V7h2v10zm4 0h-2v-4h2v4z\"/>\n",
              "    </g>\n",
              "</svg>\n",
              "  </button>\n",
              "\n",
              "<style>\n",
              "  .colab-df-quickchart {\n",
              "      --bg-color: #E8F0FE;\n",
              "      --fill-color: #1967D2;\n",
              "      --hover-bg-color: #E2EBFA;\n",
              "      --hover-fill-color: #174EA6;\n",
              "      --disabled-fill-color: #AAA;\n",
              "      --disabled-bg-color: #DDD;\n",
              "  }\n",
              "\n",
              "  [theme=dark] .colab-df-quickchart {\n",
              "      --bg-color: #3B4455;\n",
              "      --fill-color: #D2E3FC;\n",
              "      --hover-bg-color: #434B5C;\n",
              "      --hover-fill-color: #FFFFFF;\n",
              "      --disabled-bg-color: #3B4455;\n",
              "      --disabled-fill-color: #666;\n",
              "  }\n",
              "\n",
              "  .colab-df-quickchart {\n",
              "    background-color: var(--bg-color);\n",
              "    border: none;\n",
              "    border-radius: 50%;\n",
              "    cursor: pointer;\n",
              "    display: none;\n",
              "    fill: var(--fill-color);\n",
              "    height: 32px;\n",
              "    padding: 0;\n",
              "    width: 32px;\n",
              "  }\n",
              "\n",
              "  .colab-df-quickchart:hover {\n",
              "    background-color: var(--hover-bg-color);\n",
              "    box-shadow: 0 1px 2px rgba(60, 64, 67, 0.3), 0 1px 3px 1px rgba(60, 64, 67, 0.15);\n",
              "    fill: var(--button-hover-fill-color);\n",
              "  }\n",
              "\n",
              "  .colab-df-quickchart-complete:disabled,\n",
              "  .colab-df-quickchart-complete:disabled:hover {\n",
              "    background-color: var(--disabled-bg-color);\n",
              "    fill: var(--disabled-fill-color);\n",
              "    box-shadow: none;\n",
              "  }\n",
              "\n",
              "  .colab-df-spinner {\n",
              "    border: 2px solid var(--fill-color);\n",
              "    border-color: transparent;\n",
              "    border-bottom-color: var(--fill-color);\n",
              "    animation:\n",
              "      spin 1s steps(1) infinite;\n",
              "  }\n",
              "\n",
              "  @keyframes spin {\n",
              "    0% {\n",
              "      border-color: transparent;\n",
              "      border-bottom-color: var(--fill-color);\n",
              "      border-left-color: var(--fill-color);\n",
              "    }\n",
              "    20% {\n",
              "      border-color: transparent;\n",
              "      border-left-color: var(--fill-color);\n",
              "      border-top-color: var(--fill-color);\n",
              "    }\n",
              "    30% {\n",
              "      border-color: transparent;\n",
              "      border-left-color: var(--fill-color);\n",
              "      border-top-color: var(--fill-color);\n",
              "      border-right-color: var(--fill-color);\n",
              "    }\n",
              "    40% {\n",
              "      border-color: transparent;\n",
              "      border-right-color: var(--fill-color);\n",
              "      border-top-color: var(--fill-color);\n",
              "    }\n",
              "    60% {\n",
              "      border-color: transparent;\n",
              "      border-right-color: var(--fill-color);\n",
              "    }\n",
              "    80% {\n",
              "      border-color: transparent;\n",
              "      border-right-color: var(--fill-color);\n",
              "      border-bottom-color: var(--fill-color);\n",
              "    }\n",
              "    90% {\n",
              "      border-color: transparent;\n",
              "      border-bottom-color: var(--fill-color);\n",
              "    }\n",
              "  }\n",
              "</style>\n",
              "\n",
              "  <script>\n",
              "    async function quickchart(key) {\n",
              "      const quickchartButtonEl =\n",
              "        document.querySelector('#' + key + ' button');\n",
              "      quickchartButtonEl.disabled = true;  // To prevent multiple clicks.\n",
              "      quickchartButtonEl.classList.add('colab-df-spinner');\n",
              "      try {\n",
              "        const charts = await google.colab.kernel.invokeFunction(\n",
              "            'suggestCharts', [key], {});\n",
              "      } catch (error) {\n",
              "        console.error('Error during call to suggestCharts:', error);\n",
              "      }\n",
              "      quickchartButtonEl.classList.remove('colab-df-spinner');\n",
              "      quickchartButtonEl.classList.add('colab-df-quickchart-complete');\n",
              "    }\n",
              "    (() => {\n",
              "      let quickchartButtonEl =\n",
              "        document.querySelector('#df-f6150bb3-1389-4810-a037-cedc59d503e4 button');\n",
              "      quickchartButtonEl.style.display =\n",
              "        google.colab.kernel.accessAllowed ? 'block' : 'none';\n",
              "    })();\n",
              "  </script>\n",
              "</div>\n",
              "    </div>\n",
              "  </div>\n"
            ],
            "application/vnd.google.colaboratory.intrinsic+json": {
              "type": "dataframe",
              "variable_name": "df",
              "summary": "{\n  \"name\": \"df\",\n  \"rows\": 1787,\n  \"fields\": [\n    {\n      \"column\": \"Tweet\",\n      \"properties\": {\n        \"dtype\": \"string\",\n        \"num_unique_values\": 1777,\n        \"samples\": [\n          \"@Farbelowaverag1,,And I just dont want to fucking be here anymore. Please someone just fucking end me because I know itll be worse for everyone if I do it myself and fuck do I want to but please please someone just kill me please\",\n          \"RT @cparham65: Liberals say conservatives are evil. NOTHING\\u00e2\\u0080\\u0099s further from the truth! We believe in \\u00e2\\u0080\\u009clive &amp; let live\\u00e2\\u0080\\u009d. Libs think that big\\u00e2\\u0080\\u00a6\",\n          \"@rowanberry ohhh sending loads of Positive vibes your way\"\n        ],\n        \"semantic_type\": \"\",\n        \"description\": \"\"\n      }\n    },\n    {\n      \"column\": \"Suicide\",\n      \"properties\": {\n        \"dtype\": \"category\",\n        \"num_unique_values\": 2,\n        \"samples\": [\n          \"Potential Suicide post \",\n          \"Not Suicide post\"\n        ],\n        \"semantic_type\": \"\",\n        \"description\": \"\"\n      }\n    }\n  ]\n}"
            }
          },
          "metadata": {},
          "execution_count": 3
        }
      ],
      "source": [
        "df = pd.read_csv('Suicide_Ideation_Twitter.csv',encoding='utf-8',engine='python')\n",
        "\n",
        "print(df.shape)\n",
        "\n",
        "# df = df.sample(6000, random_state=47)\n",
        "# df.drop('Unnamed: 0', axis=1,inplace=True)\n",
        "df.head()"
      ]
    },
    {
      "cell_type": "code",
      "execution_count": 4,
      "id": "7f7e4e2a",
      "metadata": {
        "id": "7f7e4e2a"
      },
      "outputs": [],
      "source": [
        "df.rename(columns={'Tweet':'text','Suicide':'class'},inplace=True)"
      ]
    },
    {
      "cell_type": "code",
      "execution_count": 5,
      "id": "a257c8c6",
      "metadata": {
        "colab": {
          "base_uri": "https://localhost:8080/"
        },
        "id": "a257c8c6",
        "outputId": "9b32ee8e-7011-48da-dfb2-82b220a5269c"
      },
      "outputs": [
        {
          "output_type": "stream",
          "name": "stdout",
          "text": [
            "<class 'pandas.core.frame.DataFrame'>\n",
            "RangeIndex: 1787 entries, 0 to 1786\n",
            "Data columns (total 2 columns):\n",
            " #   Column  Non-Null Count  Dtype \n",
            "---  ------  --------------  ----- \n",
            " 0   text    1785 non-null   object\n",
            " 1   class   1787 non-null   object\n",
            "dtypes: object(2)\n",
            "memory usage: 28.0+ KB\n"
          ]
        }
      ],
      "source": [
        "df.info()"
      ]
    },
    {
      "cell_type": "code",
      "execution_count": 6,
      "id": "0db7f9a6",
      "metadata": {
        "id": "0db7f9a6"
      },
      "outputs": [],
      "source": [
        "df['text'] = df['text'].astype(str)\n",
        "df['class'] = df['class'].astype(str)\n",
        "df['text'] = df['text'].str.lower()\n",
        "df['class'] = df['class'].str.lower()"
      ]
    },
    {
      "cell_type": "code",
      "execution_count": 7,
      "id": "0d382a29",
      "metadata": {
        "id": "0d382a29"
      },
      "outputs": [],
      "source": [
        "df.reset_index(inplace=True,drop=True)"
      ]
    },
    {
      "cell_type": "code",
      "execution_count": 8,
      "id": "a562766a",
      "metadata": {
        "colab": {
          "base_uri": "https://localhost:8080/"
        },
        "id": "a562766a",
        "outputId": "47ff862c-eee5-419e-db27-b10c2487a589"
      },
      "outputs": [
        {
          "output_type": "execute_result",
          "data": {
            "text/plain": [
              "Index([], dtype='int64')"
            ]
          },
          "metadata": {},
          "execution_count": 8
        }
      ],
      "source": [
        "df[df['text'].isnull()].index"
      ]
    },
    {
      "cell_type": "code",
      "execution_count": 9,
      "id": "3935a5e6",
      "metadata": {
        "id": "3935a5e6"
      },
      "outputs": [],
      "source": [
        "df.to_csv('suicide_detection_twitter_modified.csv')"
      ]
    },
    {
      "cell_type": "code",
      "execution_count": 10,
      "id": "44b42121",
      "metadata": {
        "id": "44b42121"
      },
      "outputs": [],
      "source": [
        "def rem_whitespace(text):\n",
        "    text = text.strip()\n",
        "    return \" \".join(text.split())\n",
        "\n",
        "def rem_url(text):\n",
        "    return re.sub(r'http\\S+', '', text)\n",
        "\n",
        "def rem_email(text):\n",
        "    return re.sub(r'\\S+@\\S+', '', text)\n",
        "\n",
        "def rem_symbols_digits(text):\n",
        "    return re.sub('[^a-zA-Z\\s]', ' ', text)\n",
        "\n",
        "def rem_emoji(text):\n",
        "    emoji_pattern = re.compile(\"[\"\n",
        "        u\"\\U0001F600-\\U0001F64F\"  # emoticons\n",
        "        u\"\\U0001F300-\\U0001F5FF\"  # symbols & pictographs\n",
        "        u\"\\U0001F680-\\U0001F6FF\"  # transport & map symbols\n",
        "        u\"\\U0001F1E0-\\U0001F1FF\"  # flags (iOS)\n",
        "                           \"]+\", flags=re.UNICODE)\n",
        "    return emoji_pattern.sub(r'', text)\n",
        "\n",
        "def rem_special(text):\n",
        "    return text.replace(\"\\r\", \" \").replace(\"\\n\", \" \").replace(\"    \", \" \").replace('\"', '')\n",
        "\n",
        "def rem_accented_chars(text):\n",
        "    text = unidecode.unidecode(text)\n",
        "    return text\n",
        "\n",
        "def fix_lengthening(text):\n",
        "     return re.sub(r\"(.)\\1{2,}\",r'\\1',text)\n"
      ]
    },
    {
      "cell_type": "code",
      "execution_count": 11,
      "id": "d500db7b",
      "metadata": {
        "colab": {
          "base_uri": "https://localhost:8080/"
        },
        "id": "d500db7b",
        "outputId": "eece2fad-d4b4-4c7a-b790-8f34fd7e8381"
      },
      "outputs": [
        {
          "output_type": "stream",
          "name": "stderr",
          "text": [
            "[nltk_data] Downloading package punkt to /root/nltk_data...\n",
            "[nltk_data]   Unzipping tokenizers/punkt.zip.\n"
          ]
        },
        {
          "output_type": "execute_result",
          "data": {
            "text/plain": [
              "True"
            ]
          },
          "metadata": {},
          "execution_count": 11
        }
      ],
      "source": [
        "from nltk import word_tokenize, sent_tokenize\n",
        "nltk.download('punkt')"
      ]
    },
    {
      "cell_type": "code",
      "execution_count": 12,
      "id": "0c1e1fa6",
      "metadata": {
        "colab": {
          "base_uri": "https://localhost:8080/",
          "height": 36
        },
        "id": "0c1e1fa6",
        "outputId": "0026f71f-b09a-4283-a045-f194356a5101"
      },
      "outputs": [
        {
          "output_type": "execute_result",
          "data": {
            "text/plain": [
              "\"@domselinakyle that sounds so terrible that's how i was when my dad still lived w me but i hope it gets better forâ\\x80¦ https://t.co/oah2tunbxt\""
            ],
            "application/vnd.google.colaboratory.intrinsic+json": {
              "type": "string"
            }
          },
          "metadata": {},
          "execution_count": 12
        }
      ],
      "source": [
        "# Looking at a sample tweet\n",
        "df['text'][30]"
      ]
    },
    {
      "cell_type": "code",
      "execution_count": 13,
      "id": "e4fa6681",
      "metadata": {
        "id": "e4fa6681"
      },
      "outputs": [],
      "source": [
        "df['text']   = df['text'].apply(lambda t : rem_emoji(t))\n",
        "df['text']   = df['text'].apply(lambda t : rem_symbols_digits(t))\n",
        "df['text']   = df['text'].apply(lambda t : rem_url(t))\n",
        "df['text']   = df['text'].apply(lambda t : rem_email(t))\n",
        "df['text']   = df['text'].apply(lambda t : rem_special(t))\n",
        "df['text']   = df['text'].apply(lambda t : rem_accented_chars(t))\n",
        "df['text']   = df['text'].apply(lambda t : fix_lengthening(t))\n",
        "df['text']   = df['text'].apply(lambda t : rem_whitespace(t))"
      ]
    },
    {
      "cell_type": "code",
      "execution_count": 14,
      "id": "9e8b76f1",
      "metadata": {
        "colab": {
          "base_uri": "https://localhost:8080/",
          "height": 36
        },
        "id": "9e8b76f1",
        "outputId": "948a0f11-f096-4861-8f58-8518fca3aba9"
      },
      "outputs": [
        {
          "output_type": "execute_result",
          "data": {
            "text/plain": [
              "'domselinakyle that sounds so terrible that s how i was when my dad still lived w me but i hope it gets better for t co oah tunbxt'"
            ],
            "application/vnd.google.colaboratory.intrinsic+json": {
              "type": "string"
            }
          },
          "metadata": {},
          "execution_count": 14
        }
      ],
      "source": [
        "df['text'][30]"
      ]
    },
    {
      "cell_type": "code",
      "execution_count": 15,
      "id": "104e3d58",
      "metadata": {
        "colab": {
          "base_uri": "https://localhost:8080/"
        },
        "id": "104e3d58",
        "outputId": "f02723c3-6cb9-4662-f5a4-455d69f97c35"
      },
      "outputs": [
        {
          "output_type": "stream",
          "name": "stderr",
          "text": [
            "[nltk_data] Downloading package stopwords to /root/nltk_data...\n",
            "[nltk_data]   Unzipping corpora/stopwords.zip.\n"
          ]
        },
        {
          "output_type": "execute_result",
          "data": {
            "text/plain": [
              "True"
            ]
          },
          "metadata": {},
          "execution_count": 15
        }
      ],
      "source": [
        "nltk.download('stopwords')"
      ]
    },
    {
      "cell_type": "code",
      "execution_count": 16,
      "id": "7f5c606d",
      "metadata": {
        "id": "7f5c606d"
      },
      "outputs": [],
      "source": [
        "from nltk.corpus import stopwords\n",
        "stop_words = stopwords.words('english')\n",
        "df['text'] = df['text'].apply(lambda x: ' '.join([word for word in x.split() if word not in (stop_words)]))"
      ]
    },
    {
      "cell_type": "code",
      "execution_count": 17,
      "id": "6ba76319",
      "metadata": {
        "id": "6ba76319"
      },
      "outputs": [],
      "source": [
        "df['text'] = df['text'].apply(lambda x:nltk.word_tokenize(x))"
      ]
    },
    {
      "cell_type": "code",
      "execution_count": 18,
      "id": "160ca8c0",
      "metadata": {
        "colab": {
          "base_uri": "https://localhost:8080/"
        },
        "id": "160ca8c0",
        "outputId": "1400aac5-530f-49cf-de28-8719688462ad"
      },
      "outputs": [
        {
          "output_type": "execute_result",
          "data": {
            "text/plain": [
              "['domselinakyle',\n",
              " 'sounds',\n",
              " 'terrible',\n",
              " 'dad',\n",
              " 'still',\n",
              " 'lived',\n",
              " 'w',\n",
              " 'hope',\n",
              " 'gets',\n",
              " 'better',\n",
              " 'co',\n",
              " 'oah',\n",
              " 'tunbxt']"
            ]
          },
          "metadata": {},
          "execution_count": 18
        }
      ],
      "source": [
        "df['text'][30]"
      ]
    },
    {
      "cell_type": "code",
      "execution_count": 19,
      "id": "86722469",
      "metadata": {
        "colab": {
          "base_uri": "https://localhost:8080/"
        },
        "id": "86722469",
        "outputId": "6306cc08-76cf-432c-abc1-0ab1020bc883"
      },
      "outputs": [
        {
          "output_type": "stream",
          "name": "stderr",
          "text": [
            "[nltk_data] Downloading package wordnet to /root/nltk_data...\n"
          ]
        },
        {
          "output_type": "execute_result",
          "data": {
            "text/plain": [
              "True"
            ]
          },
          "metadata": {},
          "execution_count": 19
        }
      ],
      "source": [
        "nltk.download('wordnet')"
      ]
    },
    {
      "cell_type": "code",
      "execution_count": 20,
      "id": "3f2ef702",
      "metadata": {
        "id": "3f2ef702"
      },
      "outputs": [],
      "source": [
        "wl = WordNetLemmatizer()"
      ]
    },
    {
      "cell_type": "code",
      "execution_count": 21,
      "id": "d775fbc0",
      "metadata": {
        "id": "d775fbc0"
      },
      "outputs": [],
      "source": [
        "df['text'] = df['text'].apply(lambda x: [wl.lemmatize(i) for i in x])"
      ]
    },
    {
      "cell_type": "code",
      "execution_count": 22,
      "id": "e2fd0e52",
      "metadata": {
        "id": "e2fd0e52"
      },
      "outputs": [],
      "source": [
        "df['text']=df['text'].apply(lambda x : ' '.join(x))"
      ]
    },
    {
      "cell_type": "code",
      "execution_count": 23,
      "id": "d624512b",
      "metadata": {
        "id": "d624512b"
      },
      "outputs": [],
      "source": [
        "df.to_csv('suicide_clean.csv')"
      ]
    },
    {
      "cell_type": "code",
      "execution_count": 24,
      "id": "9ac62355",
      "metadata": {
        "id": "9ac62355"
      },
      "outputs": [],
      "source": [
        "df['class'] =  np.where(df['class'].str.contains('potential'),1,0)"
      ]
    },
    {
      "cell_type": "code",
      "execution_count": 25,
      "id": "3fdec3a3",
      "metadata": {
        "id": "3fdec3a3"
      },
      "outputs": [],
      "source": [
        "# from sklearn.preprocessing import LabelEncoder\n",
        "\n",
        "# le=LabelEncoder()\n",
        "\n",
        "# df['class']=le.fit_transform(df['class'])"
      ]
    },
    {
      "cell_type": "code",
      "execution_count": 26,
      "id": "a0f09a73",
      "metadata": {
        "colab": {
          "base_uri": "https://localhost:8080/"
        },
        "id": "a0f09a73",
        "outputId": "32d22cb6-c487-4ac9-db0d-fa1b104f9cb9"
      },
      "outputs": [
        {
          "output_type": "execute_result",
          "data": {
            "text/plain": [
              "class\n",
              "0    1127\n",
              "1     660\n",
              "Name: count, dtype: int64"
            ]
          },
          "metadata": {},
          "execution_count": 26
        }
      ],
      "source": [
        "df['class'].value_counts()"
      ]
    },
    {
      "cell_type": "code",
      "execution_count": 27,
      "id": "0e4e679c",
      "metadata": {
        "id": "0e4e679c"
      },
      "outputs": [],
      "source": [
        "X = df['text']\n",
        "y = df['class']"
      ]
    },
    {
      "cell_type": "code",
      "execution_count": 28,
      "id": "7386653b",
      "metadata": {
        "id": "7386653b"
      },
      "outputs": [],
      "source": [
        "vectorizer = TfidfVectorizer(min_df=50,max_features=6000,ngram_range=(1,2))\n",
        "x =  vectorizer.fit_transform(X).toarray()"
      ]
    },
    {
      "cell_type": "code",
      "execution_count": 29,
      "id": "52add3b2",
      "metadata": {
        "colab": {
          "base_uri": "https://localhost:8080/"
        },
        "id": "52add3b2",
        "outputId": "609e510b-7362-4077-b033-6011af904c3c"
      },
      "outputs": [
        {
          "output_type": "execute_result",
          "data": {
            "text/plain": [
              "((1250, 40), (537, 40))"
            ]
          },
          "metadata": {},
          "execution_count": 29
        }
      ],
      "source": [
        "X_train,X_test,y_train,y_test = train_test_split(x,y,test_size=0.30,random_state=5)\n",
        "\n",
        "X_train.shape,X_test.shape"
      ]
    },
    {
      "cell_type": "code",
      "execution_count": 30,
      "id": "58a6d8d0",
      "metadata": {
        "id": "58a6d8d0"
      },
      "outputs": [],
      "source": [
        "def model_accuracy (clf,train,test,target_train,target_test):\n",
        "\n",
        "    clf.fit(train,target_train)\n",
        "\n",
        "    y_pred = clf.predict(test)\n",
        "\n",
        "    sns.heatmap(confusion_matrix(y_test,y_pred),annot=True,cmap='summer')\n",
        "    print(classification_report(y_test,y_pred))"
      ]
    },
    {
      "cell_type": "code",
      "execution_count": 31,
      "id": "b0fb583e",
      "metadata": {
        "colab": {
          "base_uri": "https://localhost:8080/",
          "height": 586
        },
        "id": "b0fb583e",
        "outputId": "84dc86a6-c96e-449a-87ca-c46d9af9e9af"
      },
      "outputs": [
        {
          "output_type": "stream",
          "name": "stdout",
          "text": [
            "              precision    recall  f1-score   support\n",
            "\n",
            "           0       0.88      0.92      0.90       332\n",
            "           1       0.87      0.80      0.83       205\n",
            "\n",
            "    accuracy                           0.88       537\n",
            "   macro avg       0.87      0.86      0.87       537\n",
            "weighted avg       0.87      0.88      0.87       537\n",
            "\n"
          ]
        },
        {
          "output_type": "display_data",
          "data": {
            "text/plain": [
              "<Figure size 640x480 with 2 Axes>"
            ],
            "image/png": "[encoded data removed]"
          },
          "metadata": {}
        }
      ],
      "source": [
        "lr_clf = LogisticRegression(random_state=42)\n",
        "\n",
        "model_accuracy(lr_clf,X_train,X_test,y_train,y_test)"
      ]
    },
    {
      "cell_type": "code",
      "execution_count": 32,
      "id": "a29404bb",
      "metadata": {
        "colab": {
          "base_uri": "https://localhost:8080/",
          "height": 586
        },
        "id": "a29404bb",
        "outputId": "ecadfc4f-faf5-405e-93b3-46bcad3da7a9"
      },
      "outputs": [
        {
          "output_type": "stream",
          "name": "stdout",
          "text": [
            "              precision    recall  f1-score   support\n",
            "\n",
            "           0       0.86      0.92      0.89       332\n",
            "           1       0.86      0.77      0.81       205\n",
            "\n",
            "    accuracy                           0.86       537\n",
            "   macro avg       0.86      0.84      0.85       537\n",
            "weighted avg       0.86      0.86      0.86       537\n",
            "\n"
          ]
        },
        {
          "output_type": "display_data",
          "data": {
            "text/plain": [
              "<Figure size 640x480 with 2 Axes>"
            ],
            "image/png": "[encoded data removed]"
          },
          "metadata": {}
        }
      ],
      "source": [
        "nb_clf = BernoulliNB()\n",
        "\n",
        "model_accuracy(nb_clf,X_train,X_test,y_train,y_test)"
      ]
    },
    {
      "cell_type": "markdown",
      "id": "08281a5c",
      "metadata": {
        "id": "08281a5c"
      },
      "source": [
        "#### Decision Tree Classifier"
      ]
    },
    {
      "cell_type": "code",
      "execution_count": 33,
      "id": "3ca0eecf",
      "metadata": {
        "id": "3ca0eecf"
      },
      "outputs": [],
      "source": [
        "dt = DecisionTreeClassifier()\n",
        "\n",
        "params_dt = {\n",
        "'min_samples_split': range(1,10),\n",
        "'criterion':['gini','entropy'],\n",
        "'max_depth': range(1,10),\n",
        "'min_samples_leaf': range(1,5)\n",
        "}\n",
        "# Instantiate a 10-fold CV grid search object 'grid_dt'\n",
        "grid_dt = GridSearchCV(estimator=dt,\n",
        "param_grid=params_dt,\n",
        "scoring= 'r2',\n",
        "cv=5,\n",
        "n_jobs=-1)\n",
        "\n",
        "grid_dt.fit(X_train, y_train)\n",
        "\n",
        "# Extract best model from 'grid_dt'\n",
        "best_modelDT = grid_dt.best_params_"
      ]
    },
    {
      "cell_type": "code",
      "execution_count": 34,
      "id": "0da3e383",
      "metadata": {
        "id": "0da3e383"
      },
      "outputs": [],
      "source": [
        "DT_final = DecisionTreeClassifier(**best_modelDT)"
      ]
    },
    {
      "cell_type": "code",
      "execution_count": 35,
      "id": "66119c93",
      "metadata": {
        "colab": {
          "base_uri": "https://localhost:8080/",
          "height": 586
        },
        "id": "66119c93",
        "outputId": "a8de7f6e-0df8-4ddc-9ff0-cefed51592a4"
      },
      "outputs": [
        {
          "output_type": "stream",
          "name": "stdout",
          "text": [
            "              precision    recall  f1-score   support\n",
            "\n",
            "           0       0.87      0.94      0.90       332\n",
            "           1       0.89      0.77      0.82       205\n",
            "\n",
            "    accuracy                           0.88       537\n",
            "   macro avg       0.88      0.85      0.86       537\n",
            "weighted avg       0.88      0.88      0.87       537\n",
            "\n"
          ]
        },
        {
          "output_type": "display_data",
          "data": {
            "text/plain": [
              "<Figure size 640x480 with 2 Axes>"
            ],
            "image/png": "[encoded data removed]"
          },
          "metadata": {}
        }
      ],
      "source": [
        "model_accuracy(DT_final,X_train,X_test,y_train,y_test)"
      ]
    },
    {
      "cell_type": "markdown",
      "id": "aabc510e",
      "metadata": {
        "id": "aabc510e"
      },
      "source": [
        "#### RandomForest Classifier"
      ]
    },
    {
      "cell_type": "code",
      "execution_count": 37,
      "id": "92b0ed8e",
      "metadata": {
        "colab": {
          "base_uri": "https://localhost:8080/",
          "height": 136
        },
        "id": "92b0ed8e",
        "outputId": "d01b7f05-0d4a-49df-9ea7-3ca6a09fad1f"
      },
      "outputs": [
        {
          "output_type": "stream",
          "name": "stdout",
          "text": [
            "Fitting 5 folds for each of 108 candidates, totalling 540 fits\n"
          ]
        },
        {
          "output_type": "execute_result",
          "data": {
            "text/plain": [
              "GridSearchCV(cv=5, estimator=RandomForestClassifier(), n_jobs=-1,\n",
              "             param_grid={'criterion': ['gini', 'entropy'],\n",
              "                         'max_depth': [5, 10, 15],\n",
              "                         'min_samples_split': [2, 4, 5],\n",
              "                         'n_estimators': [10, 20, 40, 50, 100, 150]},\n",
              "             scoring='r2', verbose=1)"
            ],
            "text/html": [
              "<style>#sk-container-id-1 {color: black;background-color: white;}#sk-container-id-1 pre{padding: 0;}#sk-container-id-1 div.sk-toggleable {background-color: white;}#sk-container-id-1 label.sk-toggleable__label {cursor: pointer;display: block;width: 100%;margin-bottom: 0;padding: 0.3em;box-sizing: border-box;text-align: center;}#sk-container-id-1 label.sk-toggleable__label-arrow:before {content: \"▸\";float: left;margin-right: 0.25em;color: #696969;}#sk-container-id-1 label.sk-toggleable__label-arrow:hover:before {color: black;}#sk-container-id-1 div.sk-estimator:hover label.sk-toggleable__label-arrow:before {color: black;}#sk-container-id-1 div.sk-toggleable__content {max-height: 0;max-width: 0;overflow: hidden;text-align: left;background-color: #f0f8ff;}#sk-container-id-1 div.sk-toggleable__content pre {margin: 0.2em;color: black;border-radius: 0.25em;background-color: #f0f8ff;}#sk-container-id-1 input.sk-toggleable__control:checked~div.sk-toggleable__content {max-height: 200px;max-width: 100%;overflow: auto;}#sk-container-id-1 input.sk-toggleable__control:checked~label.sk-toggleable__label-arrow:before {content: \"▾\";}#sk-container-id-1 div.sk-estimator input.sk-toggleable__control:checked~label.sk-toggleable__label {background-color: #d4ebff;}#sk-container-id-1 div.sk-label input.sk-toggleable__control:checked~label.sk-toggleable__label {background-color: #d4ebff;}#sk-container-id-1 input.sk-hidden--visually {border: 0;clip: rect(1px 1px 1px 1px);clip: rect(1px, 1px, 1px, 1px);height: 1px;margin: -1px;overflow: hidden;padding: 0;position: absolute;width: 1px;}#sk-container-id-1 div.sk-estimator {font-family: monospace;background-color: #f0f8ff;border: 1px dotted black;border-radius: 0.25em;box-sizing: border-box;margin-bottom: 0.5em;}#sk-container-id-1 div.sk-estimator:hover {background-color: #d4ebff;}#sk-container-id-1 div.sk-parallel-item::after {content: \"\";width: 100%;border-bottom: 1px solid gray;flex-grow: 1;}#sk-container-id-1 div.sk-label:hover label.sk-toggleable__label {background-color: #d4ebff;}#sk-container-id-1 div.sk-serial::before {content: \"\";position: absolute;border-left: 1px solid gray;box-sizing: border-box;top: 0;bottom: 0;left: 50%;z-index: 0;}#sk-container-id-1 div.sk-serial {display: flex;flex-direction: column;align-items: center;background-color: white;padding-right: 0.2em;padding-left: 0.2em;position: relative;}#sk-container-id-1 div.sk-item {position: relative;z-index: 1;}#sk-container-id-1 div.sk-parallel {display: flex;align-items: stretch;justify-content: center;background-color: white;position: relative;}#sk-container-id-1 div.sk-item::before, #sk-container-id-1 div.sk-parallel-item::before {content: \"\";position: absolute;border-left: 1px solid gray;box-sizing: border-box;top: 0;bottom: 0;left: 50%;z-index: -1;}#sk-container-id-1 div.sk-parallel-item {display: flex;flex-direction: column;z-index: 1;position: relative;background-color: white;}#sk-container-id-1 div.sk-parallel-item:first-child::after {align-self: flex-end;width: 50%;}#sk-container-id-1 div.sk-parallel-item:last-child::after {align-self: flex-start;width: 50%;}#sk-container-id-1 div.sk-parallel-item:only-child::after {width: 0;}#sk-container-id-1 div.sk-dashed-wrapped {border: 1px dashed gray;margin: 0 0.4em 0.5em 0.4em;box-sizing: border-box;padding-bottom: 0.4em;background-color: white;}#sk-container-id-1 div.sk-label label {font-family: monospace;font-weight: bold;display: inline-block;line-height: 1.2em;}#sk-container-id-1 div.sk-label-container {text-align: center;}#sk-container-id-1 div.sk-container {/* jupyter's `normalize.less` sets `[hidden] { display: none; }` but bootstrap.min.css set `[hidden] { display: none !important; }` so we also need the `!important` here to be able to override the default hidden behavior on the sphinx rendered scikit-learn.org. See: https://github.com/scikit-learn/scikit-learn/issues/21755 */display: inline-block !important;position: relative;}#sk-container-id-1 div.sk-text-repr-fallback {display: none;}</style><div id=\"sk-container-id-1\" class=\"sk-top-container\"><div class=\"sk-text-repr-fallback\"><pre>GridSearchCV(cv=5, estimator=RandomForestClassifier(), n_jobs=-1,\n",
              "             param_grid={&#x27;criterion&#x27;: [&#x27;gini&#x27;, &#x27;entropy&#x27;],\n",
              "                         &#x27;max_depth&#x27;: [5, 10, 15],\n",
              "                         &#x27;min_samples_split&#x27;: [2, 4, 5],\n",
              "                         &#x27;n_estimators&#x27;: [10, 20, 40, 50, 100, 150]},\n",
              "             scoring=&#x27;r2&#x27;, verbose=1)</pre><b>In a Jupyter environment, please rerun this cell to show the HTML representation or trust the notebook. <br />On GitHub, the HTML representation is unable to render, please try loading this page with nbviewer.org.</b></div><div class=\"sk-container\" hidden><div class=\"sk-item sk-dashed-wrapped\"><div class=\"sk-label-container\"><div class=\"sk-label sk-toggleable\"><input class=\"sk-toggleable__control sk-hidden--visually\" id=\"sk-estimator-id-1\" type=\"checkbox\" ><label for=\"sk-estimator-id-1\" class=\"sk-toggleable__label sk-toggleable__label-arrow\">GridSearchCV</label><div class=\"sk-toggleable__content\"><pre>GridSearchCV(cv=5, estimator=RandomForestClassifier(), n_jobs=-1,\n",
              "             param_grid={&#x27;criterion&#x27;: [&#x27;gini&#x27;, &#x27;entropy&#x27;],\n",
              "                         &#x27;max_depth&#x27;: [5, 10, 15],\n",
              "                         &#x27;min_samples_split&#x27;: [2, 4, 5],\n",
              "                         &#x27;n_estimators&#x27;: [10, 20, 40, 50, 100, 150]},\n",
              "             scoring=&#x27;r2&#x27;, verbose=1)</pre></div></div></div><div class=\"sk-parallel\"><div class=\"sk-parallel-item\"><div class=\"sk-item\"><div class=\"sk-label-container\"><div class=\"sk-label sk-toggleable\"><input class=\"sk-toggleable__control sk-hidden--visually\" id=\"sk-estimator-id-2\" type=\"checkbox\" ><label for=\"sk-estimator-id-2\" class=\"sk-toggleable__label sk-toggleable__label-arrow\">estimator: RandomForestClassifier</label><div class=\"sk-toggleable__content\"><pre>RandomForestClassifier()</pre></div></div></div><div class=\"sk-serial\"><div class=\"sk-item\"><div class=\"sk-estimator sk-toggleable\"><input class=\"sk-toggleable__control sk-hidden--visually\" id=\"sk-estimator-id-3\" type=\"checkbox\" ><label for=\"sk-estimator-id-3\" class=\"sk-toggleable__label sk-toggleable__label-arrow\">RandomForestClassifier</label><div class=\"sk-toggleable__content\"><pre>RandomForestClassifier()</pre></div></div></div></div></div></div></div></div></div></div>"
            ]
          },
          "metadata": {},
          "execution_count": 37
        }
      ],
      "source": [
        "rf_model = RandomForestClassifier()\n",
        "\n",
        "\n",
        "# hyperparameter space\n",
        "rf_param_grid = dict(\n",
        "    n_estimators=[10, 20,40,50,100,150],\n",
        "    max_depth=[5, 10, 15],\n",
        "    min_samples_split=[2, 4,5],\n",
        "    criterion = ['gini', 'entropy'],\n",
        "#     max_features= ['auto', 'sqrt', 'log2']\n",
        ")\n",
        "\n",
        "# search\n",
        "rf_clf = GridSearchCV(rf_model, rf_param_grid,\n",
        "                   scoring='r2', cv=5, n_jobs = -1,verbose=1)\n",
        "\n",
        "rf_clf.fit(X_train,y_train)"
      ]
    },
    {
      "cell_type": "code",
      "execution_count": 38,
      "id": "87448b50",
      "metadata": {
        "id": "87448b50"
      },
      "outputs": [],
      "source": [
        "best_modelRF = rf_clf.best_params_"
      ]
    },
    {
      "cell_type": "code",
      "execution_count": 39,
      "id": "8b21bf76",
      "metadata": {
        "id": "8b21bf76"
      },
      "outputs": [],
      "source": [
        "rf_final = RandomForestClassifier(**best_modelRF)"
      ]
    },
    {
      "cell_type": "code",
      "execution_count": 40,
      "id": "f909a4dd",
      "metadata": {
        "colab": {
          "base_uri": "https://localhost:8080/",
          "height": 586
        },
        "id": "f909a4dd",
        "outputId": "2bf82622-b741-4a69-d65e-b11b0a5a558e"
      },
      "outputs": [
        {
          "output_type": "stream",
          "name": "stdout",
          "text": [
            "              precision    recall  f1-score   support\n",
            "\n",
            "           0       0.91      0.95      0.93       332\n",
            "           1       0.91      0.85      0.88       205\n",
            "\n",
            "    accuracy                           0.91       537\n",
            "   macro avg       0.91      0.90      0.90       537\n",
            "weighted avg       0.91      0.91      0.91       537\n",
            "\n"
          ]
        },
        {
          "output_type": "display_data",
          "data": {
            "text/plain": [
              "<Figure size 640x480 with 2 Axes>"
            ],
            "image/png": "[encoded data removed]"
          },
          "metadata": {}
        }
      ],
      "source": [
        "model_accuracy(rf_final,X_train,X_test,y_train,y_test)"
      ]
    },
    {
      "cell_type": "markdown",
      "id": "aebf48fd",
      "metadata": {
        "id": "aebf48fd"
      },
      "source": [
        "#### XGBoost Classifier"
      ]
    },
    {
      "cell_type": "code",
      "execution_count": 41,
      "id": "30c09d35",
      "metadata": {
        "colab": {
          "base_uri": "https://localhost:8080/"
        },
        "id": "30c09d35",
        "outputId": "50704897-1394-424a-c9f7-cb4c4fa9a086"
      },
      "outputs": [
        {
          "output_type": "stream",
          "name": "stdout",
          "text": [
            "Fitting 5 folds for each of 125 candidates, totalling 625 fits\n",
            "Best parameters: {'subsample': 0.7999999999999999, 'n_estimators': 95, 'min_child_weight': 2, 'max_depth': 2, 'learning_rate': 0.62875, 'gamma': 0, 'colsample_bytree': 0.3789473684210526}\n"
          ]
        }
      ],
      "source": [
        "param_dist = {\n",
        "        'n_estimators':range(50,150,5),\n",
        "        'max_depth':range(2,15,1),\n",
        "        'learning_rate':np.linspace(0.01,1,25),\n",
        "        'subsample':np.linspace(0.1,0.9,25),\n",
        "        'colsample_bytree':np.linspace(0.3,0.8,20),\n",
        "        'min_child_weight':range(1,9,1),\n",
        "        'gamma': [0, 0.2,0.25, 0.3,0.35, 0.5, 1.0]\n",
        "\n",
        "        }\n",
        "\n",
        "\n",
        "xgbr = XGBClassifier()\n",
        "XGB_Model = RandomizedSearchCV(xgbr,\n",
        "                   param_dist,\n",
        "                   scoring='r2',\n",
        "                   verbose=1,\n",
        "                    cv = 5,\n",
        "                    n_iter=125,\n",
        "                    n_jobs = -1)\n",
        "XGB_Model.fit(X_train, y_train)\n",
        "print(\"Best parameters:\", XGB_Model.best_params_)\n",
        "\n",
        "best_modelXGB = XGB_Model.best_params_\n",
        "\n"
      ]
    },
    {
      "cell_type": "code",
      "execution_count": 42,
      "id": "acdbc323",
      "metadata": {
        "id": "acdbc323"
      },
      "outputs": [],
      "source": [
        "xgb_final = XGBClassifier(**best_modelXGB)"
      ]
    },
    {
      "cell_type": "code",
      "execution_count": 43,
      "id": "8495608f",
      "metadata": {
        "colab": {
          "base_uri": "https://localhost:8080/",
          "height": 586
        },
        "id": "8495608f",
        "outputId": "7dbd2353-ca4d-48ba-da7c-88ce2c014866"
      },
      "outputs": [
        {
          "output_type": "stream",
          "name": "stdout",
          "text": [
            "              precision    recall  f1-score   support\n",
            "\n",
            "           0       0.90      0.94      0.92       332\n",
            "           1       0.90      0.84      0.87       205\n",
            "\n",
            "    accuracy                           0.90       537\n",
            "   macro avg       0.90      0.89      0.89       537\n",
            "weighted avg       0.90      0.90      0.90       537\n",
            "\n"
          ]
        },
        {
          "output_type": "display_data",
          "data": {
            "text/plain": [
              "<Figure size 640x480 with 2 Axes>"
            ],
            "image/png": "[encoded data removed]"
          },
          "metadata": {}
        }
      ],
      "source": [
        "model_accuracy(xgb_final,X_train,X_test,y_train,y_test)"
      ]
    },
    {
      "cell_type": "code",
      "execution_count": null,
      "id": "cc316d26",
      "metadata": {
        "id": "cc316d26"
      },
      "outputs": [],
      "source": []
    }
  ],
  "metadata": {
    "kernelspec": {
      "display_name": "Python 3 (ipykernel)",
      "language": "python",
      "name": "python3"
    },
    "language_info": {
      "codemirror_mode": {
        "name": "ipython",
        "version": 3
      },
      "file_extension": ".py",
      "mimetype": "text/x-python",
      "name": "python",
      "nbconvert_exporter": "python",
      "pygments_lexer": "ipython3",
      "version": "3.11.4"
    },
    "colab": {
      "provenance": []
    }
  },
  "nbformat": 4,
  "nbformat_minor": 5
}